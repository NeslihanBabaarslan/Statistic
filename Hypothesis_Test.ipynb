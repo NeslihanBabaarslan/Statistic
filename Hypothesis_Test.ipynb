{
 "cells": [
  {
   "cell_type": "markdown",
   "id": "b0a06fdc",
   "metadata": {},
   "source": []
  },
  {
   "cell_type": "code",
   "execution_count": 75,
   "id": "020eb045",
   "metadata": {},
   "outputs": [],
   "source": [
    "import numpy as np\n",
    "from scipy import stats\n",
    "import matplotlib.pyplot as plt\n",
    "import pandas as pd\n",
    "import seaborn as sns\n",
    "import warnings\n",
    "warnings.filterwarnings('ignore')"
   ]
  },
  {
   "cell_type": "markdown",
   "id": "389800db",
   "metadata": {},
   "source": [
    "EXERCISE 1. The hourly wages in a particular industry are normally distributed with mean $13.20 and standard deviation $2.50. A company in this industry employs 40 workers, paying them an average of $12.20 per hour. Can this company be accused of paying substandard wages? Use an α = .01 level test. (Wackerly, Ex.10.18)"
   ]
  },
  {
   "cell_type": "code",
   "execution_count": 76,
   "id": "8663194a",
   "metadata": {},
   "outputs": [],
   "source": [
    "mu=13.20\n",
    "sigma=2.50\n",
    "\n",
    "n=40\n",
    "samp_mean=12.20"
   ]
  },
  {
   "cell_type": "markdown",
   "id": "e35e791a",
   "metadata": {},
   "source": [
    "h0=13.20"
   ]
  },
  {
   "cell_type": "markdown",
   "id": "ddde5507",
   "metadata": {},
   "source": [
    "h1<13.20"
   ]
  },
  {
   "cell_type": "code",
   "execution_count": 77,
   "id": "a410e60a",
   "metadata": {},
   "outputs": [
    {
     "data": {
      "text/plain": [
       "-2.5298221281347035"
      ]
     },
     "execution_count": 77,
     "metadata": {},
     "output_type": "execute_result"
    }
   ],
   "source": [
    "#n>30 'dan büyük ve populasyon sigma biiyorum bu nedenle z testi yapıyorum. \n",
    "z_test=(samp_mean-mu)/(sigma/np.sqrt(n))\n",
    "z_test"
   ]
  },
  {
   "cell_type": "code",
   "execution_count": 78,
   "id": "27b091c4",
   "metadata": {},
   "outputs": [
    {
     "data": {
      "text/plain": [
       "0.005706018193000826"
      ]
     },
     "execution_count": 78,
     "metadata": {},
     "output_type": "execute_result"
    }
   ],
   "source": [
    "pvalue=stats.norm.cdf(z_test)\n",
    "pvalue"
   ]
  },
  {
   "cell_type": "markdown",
   "id": "2924740e",
   "metadata": {},
   "source": [
    "one_tail dist. kullanıyoruz çünkü sadece 13.20'den düşük olma durumu sorgulanıyor. bu durumda pvalue 0.01 olur. eğer çift yönlü olsaydı  α/2'den p value 0.005 oalcaktı. \n",
    "p value 0.01'den küçük olduğu için h0 reject edilir. yani suclayamayız."
   ]
  },
  {
   "cell_type": "markdown",
   "id": "03f8c7ef",
   "metadata": {},
   "source": [
    "2. yöntem z kritiklerin tablodan karşılaştırılarak  hipotezlerin değerlendirilmesi. "
   ]
  },
  {
   "cell_type": "markdown",
   "id": "caf87dad",
   "metadata": {},
   "source": [
    "z_test=-2.5298221281347035 ve alpha 0.01'de z tablosundan bakılırsa z_kritik = -2.35"
   ]
  },
  {
   "cell_type": "markdown",
   "id": "3f0f24f7",
   "metadata": {},
   "source": [
    "z_test < z_kritik h0 reject edilir. yani 13.20'den küçük olabilirmiş bu durumda firmayı suclayamayız."
   ]
  },
  {
   "cell_type": "code",
   "execution_count": null,
   "id": "b233dfea",
   "metadata": {},
   "outputs": [],
   "source": []
  },
  {
   "cell_type": "code",
   "execution_count": null,
   "id": "456de194",
   "metadata": {},
   "outputs": [],
   "source": []
  },
  {
   "cell_type": "markdown",
   "id": "cef1f107",
   "metadata": {},
   "source": [
    "EXERCISE 2: Shear strength measurements derived from unconfined compression tests for two types of soils gave the results shown in the following document (measurements in tons per square foot). Do the soils appear to differ with respect to average shear strength, at the 1% significance level?"
   ]
  },
  {
   "cell_type": "markdown",
   "id": "8be02806",
   "metadata": {},
   "source": [
    "birinden bağımsız 2 olay var two independent analizi yapacağız. "
   ]
  },
  {
   "cell_type": "code",
   "execution_count": 79,
   "id": "5b8d91fe",
   "metadata": {},
   "outputs": [],
   "source": [
    "dfsoil = pd.read_csv(\"soil - Sheet1.csv\", sep = \",\")"
   ]
  },
  {
   "cell_type": "markdown",
   "id": "6c7dbd39",
   "metadata": {},
   "source": [
    "h0: mu1 = mu2\n",
    "\n",
    "h1: mu1! = mu2"
   ]
  },
  {
   "cell_type": "code",
   "execution_count": 80,
   "id": "fef86de0",
   "metadata": {},
   "outputs": [
    {
     "data": {
      "text/html": [
       "<div>\n",
       "<style scoped>\n",
       "    .dataframe tbody tr th:only-of-type {\n",
       "        vertical-align: middle;\n",
       "    }\n",
       "\n",
       "    .dataframe tbody tr th {\n",
       "        vertical-align: top;\n",
       "    }\n",
       "\n",
       "    .dataframe thead th {\n",
       "        text-align: right;\n",
       "    }\n",
       "</style>\n",
       "<table border=\"1\" class=\"dataframe\">\n",
       "  <thead>\n",
       "    <tr style=\"text-align: right;\">\n",
       "      <th></th>\n",
       "      <th>Soil1</th>\n",
       "      <th>Soil2</th>\n",
       "    </tr>\n",
       "  </thead>\n",
       "  <tbody>\n",
       "    <tr>\n",
       "      <th>0</th>\n",
       "      <td>1.442</td>\n",
       "      <td>1.364</td>\n",
       "    </tr>\n",
       "    <tr>\n",
       "      <th>1</th>\n",
       "      <td>1.943</td>\n",
       "      <td>1.878</td>\n",
       "    </tr>\n",
       "    <tr>\n",
       "      <th>2</th>\n",
       "      <td>1.110</td>\n",
       "      <td>1.337</td>\n",
       "    </tr>\n",
       "    <tr>\n",
       "      <th>3</th>\n",
       "      <td>1.912</td>\n",
       "      <td>1.828</td>\n",
       "    </tr>\n",
       "    <tr>\n",
       "      <th>4</th>\n",
       "      <td>1.553</td>\n",
       "      <td>1.371</td>\n",
       "    </tr>\n",
       "    <tr>\n",
       "      <th>5</th>\n",
       "      <td>1.641</td>\n",
       "      <td>1.428</td>\n",
       "    </tr>\n",
       "    <tr>\n",
       "      <th>6</th>\n",
       "      <td>1.499</td>\n",
       "      <td>1.119</td>\n",
       "    </tr>\n",
       "    <tr>\n",
       "      <th>7</th>\n",
       "      <td>1.347</td>\n",
       "      <td>1.373</td>\n",
       "    </tr>\n",
       "    <tr>\n",
       "      <th>8</th>\n",
       "      <td>1.685</td>\n",
       "      <td>1.589</td>\n",
       "    </tr>\n",
       "    <tr>\n",
       "      <th>9</th>\n",
       "      <td>1.578</td>\n",
       "      <td>1.714</td>\n",
       "    </tr>\n",
       "    <tr>\n",
       "      <th>10</th>\n",
       "      <td>1.866</td>\n",
       "      <td>1.260</td>\n",
       "    </tr>\n",
       "    <tr>\n",
       "      <th>11</th>\n",
       "      <td>1.653</td>\n",
       "      <td>1.492</td>\n",
       "    </tr>\n",
       "    <tr>\n",
       "      <th>12</th>\n",
       "      <td>1.665</td>\n",
       "      <td>1.395</td>\n",
       "    </tr>\n",
       "    <tr>\n",
       "      <th>13</th>\n",
       "      <td>1.640</td>\n",
       "      <td>1.778</td>\n",
       "    </tr>\n",
       "    <tr>\n",
       "      <th>14</th>\n",
       "      <td>1.976</td>\n",
       "      <td>1.611</td>\n",
       "    </tr>\n",
       "    <tr>\n",
       "      <th>15</th>\n",
       "      <td>1.754</td>\n",
       "      <td>1.202</td>\n",
       "    </tr>\n",
       "    <tr>\n",
       "      <th>16</th>\n",
       "      <td>1.589</td>\n",
       "      <td>1.542</td>\n",
       "    </tr>\n",
       "    <tr>\n",
       "      <th>17</th>\n",
       "      <td>1.976</td>\n",
       "      <td>1.094</td>\n",
       "    </tr>\n",
       "    <tr>\n",
       "      <th>18</th>\n",
       "      <td>1.863</td>\n",
       "      <td>1.557</td>\n",
       "    </tr>\n",
       "    <tr>\n",
       "      <th>19</th>\n",
       "      <td>1.932</td>\n",
       "      <td>1.053</td>\n",
       "    </tr>\n",
       "    <tr>\n",
       "      <th>20</th>\n",
       "      <td>1.570</td>\n",
       "      <td>1.183</td>\n",
       "    </tr>\n",
       "    <tr>\n",
       "      <th>21</th>\n",
       "      <td>1.613</td>\n",
       "      <td>1.367</td>\n",
       "    </tr>\n",
       "    <tr>\n",
       "      <th>22</th>\n",
       "      <td>2.054</td>\n",
       "      <td>1.144</td>\n",
       "    </tr>\n",
       "    <tr>\n",
       "      <th>23</th>\n",
       "      <td>1.550</td>\n",
       "      <td>1.151</td>\n",
       "    </tr>\n",
       "    <tr>\n",
       "      <th>24</th>\n",
       "      <td>1.714</td>\n",
       "      <td>1.561</td>\n",
       "    </tr>\n",
       "    <tr>\n",
       "      <th>25</th>\n",
       "      <td>1.896</td>\n",
       "      <td>1.192</td>\n",
       "    </tr>\n",
       "    <tr>\n",
       "      <th>26</th>\n",
       "      <td>1.737</td>\n",
       "      <td>1.489</td>\n",
       "    </tr>\n",
       "    <tr>\n",
       "      <th>27</th>\n",
       "      <td>1.740</td>\n",
       "      <td>1.379</td>\n",
       "    </tr>\n",
       "    <tr>\n",
       "      <th>28</th>\n",
       "      <td>1.708</td>\n",
       "      <td>1.501</td>\n",
       "    </tr>\n",
       "    <tr>\n",
       "      <th>29</th>\n",
       "      <td>1.548</td>\n",
       "      <td>1.277</td>\n",
       "    </tr>\n",
       "    <tr>\n",
       "      <th>30</th>\n",
       "      <td>NaN</td>\n",
       "      <td>1.593</td>\n",
       "    </tr>\n",
       "    <tr>\n",
       "      <th>31</th>\n",
       "      <td>NaN</td>\n",
       "      <td>1.172</td>\n",
       "    </tr>\n",
       "    <tr>\n",
       "      <th>32</th>\n",
       "      <td>NaN</td>\n",
       "      <td>1.510</td>\n",
       "    </tr>\n",
       "    <tr>\n",
       "      <th>33</th>\n",
       "      <td>NaN</td>\n",
       "      <td>1.740</td>\n",
       "    </tr>\n",
       "    <tr>\n",
       "      <th>34</th>\n",
       "      <td>NaN</td>\n",
       "      <td>1.355</td>\n",
       "    </tr>\n",
       "  </tbody>\n",
       "</table>\n",
       "</div>"
      ],
      "text/plain": [
       "    Soil1  Soil2\n",
       "0   1.442  1.364\n",
       "1   1.943  1.878\n",
       "2   1.110  1.337\n",
       "3   1.912  1.828\n",
       "4   1.553  1.371\n",
       "5   1.641  1.428\n",
       "6   1.499  1.119\n",
       "7   1.347  1.373\n",
       "8   1.685  1.589\n",
       "9   1.578  1.714\n",
       "10  1.866  1.260\n",
       "11  1.653  1.492\n",
       "12  1.665  1.395\n",
       "13  1.640  1.778\n",
       "14  1.976  1.611\n",
       "15  1.754  1.202\n",
       "16  1.589  1.542\n",
       "17  1.976  1.094\n",
       "18  1.863  1.557\n",
       "19  1.932  1.053\n",
       "20  1.570  1.183\n",
       "21  1.613  1.367\n",
       "22  2.054  1.144\n",
       "23  1.550  1.151\n",
       "24  1.714  1.561\n",
       "25  1.896  1.192\n",
       "26  1.737  1.489\n",
       "27  1.740  1.379\n",
       "28  1.708  1.501\n",
       "29  1.548  1.277\n",
       "30    NaN  1.593\n",
       "31    NaN  1.172\n",
       "32    NaN  1.510\n",
       "33    NaN  1.740\n",
       "34    NaN  1.355"
      ]
     },
     "execution_count": 80,
     "metadata": {},
     "output_type": "execute_result"
    }
   ],
   "source": [
    "dfsoil"
   ]
  },
  {
   "cell_type": "markdown",
   "id": "d04cf64b",
   "metadata": {},
   "source": [
    "soil1'de NaNlar var ya bunları dropna ile silerim yada fillna ile mantıklı bir doldurma yapabilir. fakat eğer silersem Nanları bunun karşısında soil2 verilerinide kaybedeceğimden silme değil doldurmayı tercih ettim . bukoşullarda mantıklı doldurma olarakta meane kadar verdim."
   ]
  },
  {
   "cell_type": "code",
   "execution_count": 81,
   "id": "3e262c03",
   "metadata": {},
   "outputs": [],
   "source": [
    "dfsoil.fillna(dfsoil.Soil1.mean(), inplace=True)"
   ]
  },
  {
   "cell_type": "code",
   "execution_count": 82,
   "id": "62dcdaf6",
   "metadata": {},
   "outputs": [
    {
     "data": {
      "text/plain": [
       "(35, 2)"
      ]
     },
     "execution_count": 82,
     "metadata": {},
     "output_type": "execute_result"
    }
   ],
   "source": [
    "dfsoil.shape"
   ]
  },
  {
   "cell_type": "code",
   "execution_count": 83,
   "id": "800a90ea",
   "metadata": {},
   "outputs": [
    {
     "data": {
      "text/plain": [
       "1.6918"
      ]
     },
     "execution_count": 83,
     "metadata": {},
     "output_type": "execute_result"
    }
   ],
   "source": [
    "dfsoil.Soil1.mean()"
   ]
  },
  {
   "cell_type": "code",
   "execution_count": 84,
   "id": "2f5df877",
   "metadata": {},
   "outputs": [
    {
     "data": {
      "text/plain": [
       "1.4171142857142855"
      ]
     },
     "execution_count": 84,
     "metadata": {},
     "output_type": "execute_result"
    }
   ],
   "source": [
    "dfsoil.Soil2.mean()"
   ]
  },
  {
   "cell_type": "code",
   "execution_count": 85,
   "id": "aa8c2404",
   "metadata": {},
   "outputs": [
    {
     "data": {
      "image/png": "[encoded data removed]",
      "text/plain": [
       "<Figure size 432x288 with 1 Axes>"
      ]
     },
     "metadata": {
      "needs_background": "light"
     },
     "output_type": "display_data"
    }
   ],
   "source": [
    "dfsoil.Soil1.hist();"
   ]
  },
  {
   "cell_type": "code",
   "execution_count": 86,
   "id": "3e8aee27",
   "metadata": {},
   "outputs": [
    {
     "data": {
      "image/png": "[encoded data removed]",
      "text/plain": [
       "<Figure size 432x288 with 1 Axes>"
      ]
     },
     "metadata": {
      "needs_background": "light"
     },
     "output_type": "display_data"
    }
   ],
   "source": [
    "dfsoil.Soil2.hist();"
   ]
  },
  {
   "cell_type": "code",
   "execution_count": 87,
   "id": "ddffcbd3",
   "metadata": {},
   "outputs": [
    {
     "data": {
      "image/png": "[encoded data removed]",
      "text/plain": [
       "<Figure size 432x288 with 1 Axes>"
      ]
     },
     "metadata": {
      "needs_background": "light"
     },
     "output_type": "display_data"
    }
   ],
   "source": [
    "sns.distplot(x=dfsoil.Soil1, hist=True);"
   ]
  },
  {
   "cell_type": "code",
   "execution_count": 88,
   "id": "d6a0efd8",
   "metadata": {},
   "outputs": [
    {
     "data": {
      "image/png": "[encoded data removed]",
      "text/plain": [
       "<Figure size 432x288 with 1 Axes>"
      ]
     },
     "metadata": {
      "needs_background": "light"
     },
     "output_type": "display_data"
    }
   ],
   "source": [
    "sns.distplot(x=dfsoil.Soil2, hist=True);"
   ]
  },
  {
   "cell_type": "markdown",
   "id": "1f4d6446",
   "metadata": {},
   "source": [
    "çizdiğimiz grafiklere göre yaklaşık olarak normal dist var diyebiliriz."
   ]
  },
  {
   "cell_type": "markdown",
   "id": "bbb1c6f3",
   "metadata": {},
   "source": [
    "burada p value alpha/2 olur. çünkü iki yönlüde olabileceği için alpha/2 bölünerek iki yandada inceleme yapıldı. p value 0.005 olur bu koşullarda."
   ]
  },
  {
   "cell_type": "code",
   "execution_count": 89,
   "id": "8f1a58ee",
   "metadata": {},
   "outputs": [],
   "source": [
    "stat,p=stats.shapiro(dfsoil[\"Soil1\"])\n"
   ]
  },
  {
   "cell_type": "code",
   "execution_count": 90,
   "id": "0061d08f",
   "metadata": {},
   "outputs": [
    {
     "name": "stdout",
     "output_type": "stream",
     "text": [
      "Statistics=0.951, p=0.125\n",
      "Sample looks Gaussian (fail to reject H0)\n"
     ]
    }
   ],
   "source": [
    "print('Statistics=%.3f, p=%.3f' % (stat, p))\n",
    "# interpret\n",
    "alpha = 0.005\n",
    "if p > alpha:\n",
    "\tprint('Sample looks Gaussian (fail to reject H0)')\n",
    "else:\n",
    "\tprint('Sample does not look Gaussian (reject H0)')"
   ]
  },
  {
   "cell_type": "code",
   "execution_count": 91,
   "id": "63b9b82a",
   "metadata": {},
   "outputs": [],
   "source": [
    "stat,p=stats.shapiro(dfsoil[\"Soil2\"])"
   ]
  },
  {
   "cell_type": "code",
   "execution_count": 92,
   "id": "ecc65f6b",
   "metadata": {},
   "outputs": [
    {
     "name": "stdout",
     "output_type": "stream",
     "text": [
      "Statistics=0.968, p=0.401\n",
      "Sample looks Gaussian (fail to reject H0)\n"
     ]
    }
   ],
   "source": [
    "print('Statistics=%.3f, p=%.3f' % (stat, p))\n",
    "# interpret\n",
    "alpha = 0.005\n",
    "if p > alpha:\n",
    "\tprint('Sample looks Gaussian (fail to reject H0)')\n",
    "else:\n",
    "\tprint('Sample does not look Gaussian (reject H0)')"
   ]
  },
  {
   "cell_type": "markdown",
   "id": "521d8d4e",
   "metadata": {},
   "source": [
    "shapiro analizi sonucu normal dist olduğunu gördük. fakat grafiklere bakarakda  onların zaten normal. dist. yakın bir dist olduğunu kabul edebiliriz."
   ]
  },
  {
   "cell_type": "markdown",
   "id": "5a48b9fb",
   "metadata": {},
   "source": [
    "şimdide 2 grup arasında varyans farklı diye levene testi yapıyoruz."
   ]
  },
  {
   "cell_type": "code",
   "execution_count": 93,
   "id": "e8e61873",
   "metadata": {},
   "outputs": [],
   "source": [
    "stat,p=stats.levene(dfsoil[\"Soil1\"], dfsoil[\"Soil2\"])"
   ]
  },
  {
   "cell_type": "code",
   "execution_count": 94,
   "id": "adc0aea0",
   "metadata": {},
   "outputs": [
    {
     "name": "stdout",
     "output_type": "stream",
     "text": [
      "Statistics=1.661, p=0.202\n",
      "The population variances of group 1 and 2 are equal (fail to reject H0)\n"
     ]
    }
   ],
   "source": [
    "print('Statistics=%.3f, p=%.3f' % (stat, p))\n",
    "# interpret\n",
    "alpha = 0.005\n",
    "if p > alpha:\n",
    "\tprint('The population variances of group 1 and 2 are equal (fail to reject H0)')\n",
    "else:\n",
    "\tprint('The population variances of group 1 and 2 are not equal (reject H0)')"
   ]
  },
  {
   "cell_type": "markdown",
   "id": "6b471615",
   "metadata": {},
   "source": [
    "levene analizindende 2 grubun varyansı aynıymış."
   ]
  },
  {
   "cell_type": "code",
   "execution_count": 95,
   "id": "474e43ba",
   "metadata": {},
   "outputs": [
    {
     "data": {
      "text/plain": [
       "Ttest_indResult(statistic=5.58856260809653, pvalue=4.381657766244157e-07)"
      ]
     },
     "execution_count": 95,
     "metadata": {},
     "output_type": "execute_result"
    }
   ],
   "source": [
    "twosample=stats.ttest_ind(dfsoil[\"Soil1\"], dfsoil[\"Soil2\"])\n",
    "twosample"
   ]
  },
  {
   "cell_type": "code",
   "execution_count": 96,
   "id": "3ea1b4b9",
   "metadata": {},
   "outputs": [
    {
     "name": "stdout",
     "output_type": "stream",
     "text": [
      "At 0.005 level of significance, we can reject the null hypothesis in favor of the alternative hypothesis.\n"
     ]
    }
   ],
   "source": [
    "alpha = 0.005\n",
    "p_value = twosample.pvalue\n",
    "\n",
    "if p_value<alpha:\n",
    "    print('At {} level of significance, we can reject the null hypothesis in favor of the alternative hypothesis.'.format(alpha))\n",
    "else:\n",
    "    print('At {} level of significance, we fail to reject the null hypothesis.'.format(alpha))"
   ]
  },
  {
   "cell_type": "markdown",
   "id": "016a6d0e",
   "metadata": {},
   "source": [
    " yani h0 reject ettik böylece alpha 0.005 'e göre iki sample arasınad anlamlı fark var.'"
   ]
  },
  {
   "cell_type": "code",
   "execution_count": null,
   "id": "362697c6",
   "metadata": {},
   "outputs": [],
   "source": []
  },
  {
   "cell_type": "markdown",
   "id": "c44418e8",
   "metadata": {},
   "source": [
    "#### EXERCISE 3. The following dataset is based on data provided by the World Bank (https://datacatalog.worldbank.org/dataset/education-statistics). World Bank Edstats.  2015 PISA Test Dataset"
   ]
  },
  {
   "cell_type": "markdown",
   "id": "3a1cf63f",
   "metadata": {},
   "source": [
    "Get descriptive statistics (the central tendency, dispersion and shape of a dataset’s distribution) for each continent group (AS, EU, AF, NA, SA, OC).\n",
    "Determine whether there is any difference (on the average) for the math scores among European (EU) and Asian (AS) countries (assume normality and equal variances). Draw side-by-side box plots."
   ]
  },
  {
   "cell_type": "code",
   "execution_count": 97,
   "id": "1c3a2998",
   "metadata": {},
   "outputs": [
    {
     "data": {
      "text/html": [
       "<div>\n",
       "<style scoped>\n",
       "    .dataframe tbody tr th:only-of-type {\n",
       "        vertical-align: middle;\n",
       "    }\n",
       "\n",
       "    .dataframe tbody tr th {\n",
       "        vertical-align: top;\n",
       "    }\n",
       "\n",
       "    .dataframe thead th {\n",
       "        text-align: right;\n",
       "    }\n",
       "</style>\n",
       "<table border=\"1\" class=\"dataframe\">\n",
       "  <thead>\n",
       "    <tr style=\"text-align: right;\">\n",
       "      <th></th>\n",
       "      <th>Country Code</th>\n",
       "      <th>Continent_Code</th>\n",
       "      <th>internet_users_per_100</th>\n",
       "      <th>Math</th>\n",
       "      <th>Reading</th>\n",
       "      <th>Science</th>\n",
       "    </tr>\n",
       "  </thead>\n",
       "  <tbody>\n",
       "    <tr>\n",
       "      <th>0</th>\n",
       "      <td>ALB</td>\n",
       "      <td>EU</td>\n",
       "      <td>63.252933</td>\n",
       "      <td>413.1570</td>\n",
       "      <td>405.2588</td>\n",
       "      <td>427.2250</td>\n",
       "    </tr>\n",
       "    <tr>\n",
       "      <th>1</th>\n",
       "      <td>ARE</td>\n",
       "      <td>AS</td>\n",
       "      <td>90.500000</td>\n",
       "      <td>427.4827</td>\n",
       "      <td>433.5423</td>\n",
       "      <td>436.7311</td>\n",
       "    </tr>\n",
       "    <tr>\n",
       "      <th>2</th>\n",
       "      <td>ARG</td>\n",
       "      <td>SA</td>\n",
       "      <td>68.043064</td>\n",
       "      <td>409.0333</td>\n",
       "      <td>425.3031</td>\n",
       "      <td>432.2262</td>\n",
       "    </tr>\n",
       "    <tr>\n",
       "      <th>3</th>\n",
       "      <td>AUS</td>\n",
       "      <td>OC</td>\n",
       "      <td>84.560519</td>\n",
       "      <td>493.8962</td>\n",
       "      <td>502.9006</td>\n",
       "      <td>509.9939</td>\n",
       "    </tr>\n",
       "    <tr>\n",
       "      <th>4</th>\n",
       "      <td>AUT</td>\n",
       "      <td>EU</td>\n",
       "      <td>83.940142</td>\n",
       "      <td>496.7423</td>\n",
       "      <td>484.8656</td>\n",
       "      <td>495.0375</td>\n",
       "    </tr>\n",
       "  </tbody>\n",
       "</table>\n",
       "</div>"
      ],
      "text/plain": [
       "  Country Code Continent_Code  internet_users_per_100      Math   Reading  \\\n",
       "0          ALB             EU               63.252933  413.1570  405.2588   \n",
       "1          ARE             AS               90.500000  427.4827  433.5423   \n",
       "2          ARG             SA               68.043064  409.0333  425.3031   \n",
       "3          AUS             OC               84.560519  493.8962  502.9006   \n",
       "4          AUT             EU               83.940142  496.7423  484.8656   \n",
       "\n",
       "    Science  \n",
       "0  427.2250  \n",
       "1  436.7311  \n",
       "2  432.2262  \n",
       "3  509.9939  \n",
       "4  495.0375  "
      ]
     },
     "execution_count": 97,
     "metadata": {},
     "output_type": "execute_result"
    }
   ],
   "source": [
    "dfpisa = pd.read_csv(\"2015 PISA Test - Sheet1.csv\", sep = \",\")\n",
    "\n",
    "dfpisa.head()"
   ]
  },
  {
   "cell_type": "code",
   "execution_count": 98,
   "id": "f8003b42",
   "metadata": {},
   "outputs": [
    {
     "data": {
      "text/html": [
       "<div>\n",
       "<style scoped>\n",
       "    .dataframe tbody tr th:only-of-type {\n",
       "        vertical-align: middle;\n",
       "    }\n",
       "\n",
       "    .dataframe tbody tr th {\n",
       "        vertical-align: top;\n",
       "    }\n",
       "\n",
       "    .dataframe thead th {\n",
       "        text-align: right;\n",
       "    }\n",
       "</style>\n",
       "<table border=\"1\" class=\"dataframe\">\n",
       "  <thead>\n",
       "    <tr style=\"text-align: right;\">\n",
       "      <th></th>\n",
       "      <th>Country Code</th>\n",
       "      <th>Continent_Code</th>\n",
       "      <th>internet_users_per_100</th>\n",
       "      <th>Math</th>\n",
       "      <th>Reading</th>\n",
       "      <th>Science</th>\n",
       "    </tr>\n",
       "  </thead>\n",
       "  <tbody>\n",
       "    <tr>\n",
       "      <th>0</th>\n",
       "      <td>ALB</td>\n",
       "      <td>EU</td>\n",
       "      <td>63.252933</td>\n",
       "      <td>413.1570</td>\n",
       "      <td>405.2588</td>\n",
       "      <td>427.2250</td>\n",
       "    </tr>\n",
       "    <tr>\n",
       "      <th>1</th>\n",
       "      <td>ARE</td>\n",
       "      <td>AS</td>\n",
       "      <td>90.500000</td>\n",
       "      <td>427.4827</td>\n",
       "      <td>433.5423</td>\n",
       "      <td>436.7311</td>\n",
       "    </tr>\n",
       "    <tr>\n",
       "      <th>2</th>\n",
       "      <td>ARG</td>\n",
       "      <td>SA</td>\n",
       "      <td>68.043064</td>\n",
       "      <td>409.0333</td>\n",
       "      <td>425.3031</td>\n",
       "      <td>432.2262</td>\n",
       "    </tr>\n",
       "    <tr>\n",
       "      <th>3</th>\n",
       "      <td>AUS</td>\n",
       "      <td>OC</td>\n",
       "      <td>84.560519</td>\n",
       "      <td>493.8962</td>\n",
       "      <td>502.9006</td>\n",
       "      <td>509.9939</td>\n",
       "    </tr>\n",
       "    <tr>\n",
       "      <th>4</th>\n",
       "      <td>AUT</td>\n",
       "      <td>EU</td>\n",
       "      <td>83.940142</td>\n",
       "      <td>496.7423</td>\n",
       "      <td>484.8656</td>\n",
       "      <td>495.0375</td>\n",
       "    </tr>\n",
       "  </tbody>\n",
       "</table>\n",
       "</div>"
      ],
      "text/plain": [
       "  Country Code Continent_Code  internet_users_per_100      Math   Reading  \\\n",
       "0          ALB             EU               63.252933  413.1570  405.2588   \n",
       "1          ARE             AS               90.500000  427.4827  433.5423   \n",
       "2          ARG             SA               68.043064  409.0333  425.3031   \n",
       "3          AUS             OC               84.560519  493.8962  502.9006   \n",
       "4          AUT             EU               83.940142  496.7423  484.8656   \n",
       "\n",
       "    Science  \n",
       "0  427.2250  \n",
       "1  436.7311  \n",
       "2  432.2262  \n",
       "3  509.9939  \n",
       "4  495.0375  "
      ]
     },
     "execution_count": 98,
     "metadata": {},
     "output_type": "execute_result"
    }
   ],
   "source": [
    "dfpisa.head()"
   ]
  },
  {
   "cell_type": "code",
   "execution_count": 99,
   "id": "fd894a89",
   "metadata": {},
   "outputs": [
    {
     "data": {
      "text/plain": [
       "(70, 6)"
      ]
     },
     "execution_count": 99,
     "metadata": {},
     "output_type": "execute_result"
    }
   ],
   "source": [
    "dfpisa.shape"
   ]
  },
  {
   "cell_type": "code",
   "execution_count": 100,
   "id": "f0fd39c7",
   "metadata": {},
   "outputs": [
    {
     "data": {
      "text/plain": [
       "Country Code              0\n",
       "Continent_Code            5\n",
       "internet_users_per_100    0\n",
       "Math                      0\n",
       "Reading                   0\n",
       "Science                   0\n",
       "dtype: int64"
      ]
     },
     "execution_count": 100,
     "metadata": {},
     "output_type": "execute_result"
    }
   ],
   "source": [
    "dfpisa.isnull().sum()"
   ]
  },
  {
   "cell_type": "code",
   "execution_count": 101,
   "id": "063ba4f4",
   "metadata": {},
   "outputs": [
    {
     "data": {
      "text/plain": [
       "0      EU\n",
       "1      AS\n",
       "2      SA\n",
       "3      OC\n",
       "4      EU\n",
       "     ... \n",
       "65     AF\n",
       "66     EU\n",
       "67     SA\n",
       "68    NaN\n",
       "69     AS\n",
       "Name: Continent_Code, Length: 70, dtype: object"
      ]
     },
     "execution_count": 101,
     "metadata": {},
     "output_type": "execute_result"
    }
   ],
   "source": [
    "dfpisa.Continent_Code"
   ]
  },
  {
   "cell_type": "code",
   "execution_count": 102,
   "id": "dd6fb57f",
   "metadata": {},
   "outputs": [
    {
     "data": {
      "text/plain": [
       "EU    37\n",
       "AS    17\n",
       "SA     7\n",
       "OC     2\n",
       "AF     2\n",
       "Name: Continent_Code, dtype: int64"
      ]
     },
     "execution_count": 102,
     "metadata": {},
     "output_type": "execute_result"
    }
   ],
   "source": [
    "dfpisa.Continent_Code.value_counts()"
   ]
  },
  {
   "cell_type": "markdown",
   "id": "de1fc679",
   "metadata": {},
   "source": [
    " (AS, EU, AF, NA, SA, OC) bize soruda bunlar verilmiş fakat value_counts yaptığımızda NA olmadığını farkettim bu nedenle NaNları NA ile doldurdum."
   ]
  },
  {
   "cell_type": "code",
   "execution_count": 103,
   "id": "33c664c4",
   "metadata": {},
   "outputs": [],
   "source": [
    "dfpisa.Continent_Code.fillna(\"NA\", inplace=True)"
   ]
  },
  {
   "cell_type": "code",
   "execution_count": 104,
   "id": "c9b44fa6",
   "metadata": {},
   "outputs": [
    {
     "data": {
      "text/plain": [
       "(70, 6)"
      ]
     },
     "execution_count": 104,
     "metadata": {},
     "output_type": "execute_result"
    }
   ],
   "source": [
    "dfpisa.shape"
   ]
  },
  {
   "cell_type": "code",
   "execution_count": 105,
   "id": "54641723",
   "metadata": {},
   "outputs": [
    {
     "data": {
      "text/html": [
       "<div>\n",
       "<style scoped>\n",
       "    .dataframe tbody tr th:only-of-type {\n",
       "        vertical-align: middle;\n",
       "    }\n",
       "\n",
       "    .dataframe tbody tr th {\n",
       "        vertical-align: top;\n",
       "    }\n",
       "\n",
       "    .dataframe thead th {\n",
       "        text-align: right;\n",
       "    }\n",
       "</style>\n",
       "<table border=\"1\" class=\"dataframe\">\n",
       "  <thead>\n",
       "    <tr style=\"text-align: right;\">\n",
       "      <th></th>\n",
       "      <th>count</th>\n",
       "      <th>mean</th>\n",
       "      <th>std</th>\n",
       "      <th>min</th>\n",
       "      <th>25%</th>\n",
       "      <th>50%</th>\n",
       "      <th>75%</th>\n",
       "      <th>max</th>\n",
       "    </tr>\n",
       "  </thead>\n",
       "  <tbody>\n",
       "    <tr>\n",
       "      <th>internet_users_per_100</th>\n",
       "      <td>70.0</td>\n",
       "      <td>71.973099</td>\n",
       "      <td>16.390632</td>\n",
       "      <td>21.976068</td>\n",
       "      <td>60.899020</td>\n",
       "      <td>72.99935</td>\n",
       "      <td>85.026763</td>\n",
       "      <td>98.2000</td>\n",
       "    </tr>\n",
       "    <tr>\n",
       "      <th>Math</th>\n",
       "      <td>70.0</td>\n",
       "      <td>460.971557</td>\n",
       "      <td>53.327205</td>\n",
       "      <td>327.702000</td>\n",
       "      <td>417.416075</td>\n",
       "      <td>477.60715</td>\n",
       "      <td>500.482925</td>\n",
       "      <td>564.1897</td>\n",
       "    </tr>\n",
       "    <tr>\n",
       "      <th>Reading</th>\n",
       "      <td>70.0</td>\n",
       "      <td>460.997291</td>\n",
       "      <td>49.502679</td>\n",
       "      <td>346.549000</td>\n",
       "      <td>426.948625</td>\n",
       "      <td>480.19985</td>\n",
       "      <td>499.687475</td>\n",
       "      <td>535.1002</td>\n",
       "    </tr>\n",
       "    <tr>\n",
       "      <th>Science</th>\n",
       "      <td>70.0</td>\n",
       "      <td>465.439093</td>\n",
       "      <td>48.397254</td>\n",
       "      <td>331.638800</td>\n",
       "      <td>425.923375</td>\n",
       "      <td>475.40005</td>\n",
       "      <td>502.431250</td>\n",
       "      <td>555.5747</td>\n",
       "    </tr>\n",
       "  </tbody>\n",
       "</table>\n",
       "</div>"
      ],
      "text/plain": [
       "                        count        mean        std         min         25%  \\\n",
       "internet_users_per_100   70.0   71.973099  16.390632   21.976068   60.899020   \n",
       "Math                     70.0  460.971557  53.327205  327.702000  417.416075   \n",
       "Reading                  70.0  460.997291  49.502679  346.549000  426.948625   \n",
       "Science                  70.0  465.439093  48.397254  331.638800  425.923375   \n",
       "\n",
       "                              50%         75%       max  \n",
       "internet_users_per_100   72.99935   85.026763   98.2000  \n",
       "Math                    477.60715  500.482925  564.1897  \n",
       "Reading                 480.19985  499.687475  535.1002  \n",
       "Science                 475.40005  502.431250  555.5747  "
      ]
     },
     "execution_count": 105,
     "metadata": {},
     "output_type": "execute_result"
    }
   ],
   "source": [
    "dfpisa.describe().T"
   ]
  },
  {
   "cell_type": "markdown",
   "id": "29484ac4",
   "metadata": {},
   "source": [
    "Descriptive statistics "
   ]
  },
  {
   "cell_type": "code",
   "execution_count": 106,
   "id": "813d21c0",
   "metadata": {},
   "outputs": [
    {
     "data": {
      "text/plain": [
       "array(['EU', 'AS', 'SA', 'OC', 'NA', 'AF'], dtype=object)"
      ]
     },
     "execution_count": 106,
     "metadata": {},
     "output_type": "execute_result"
    }
   ],
   "source": [
    "dfpisa.Continent_Code.unique()"
   ]
  },
  {
   "cell_type": "markdown",
   "id": "e3bb71ca",
   "metadata": {},
   "source": [
    "### 1. The descriptive analysis of EU"
   ]
  },
  {
   "cell_type": "code",
   "execution_count": 107,
   "id": "f93f939a",
   "metadata": {},
   "outputs": [],
   "source": [
    "dfpisa_EU=dfpisa[dfpisa.Continent_Code==\"EU\"]"
   ]
  },
  {
   "cell_type": "code",
   "execution_count": 108,
   "id": "ea28949d",
   "metadata": {},
   "outputs": [
    {
     "data": {
      "text/plain": [
       "(37, 6)"
      ]
     },
     "execution_count": 108,
     "metadata": {},
     "output_type": "execute_result"
    }
   ],
   "source": [
    "dfpisa_EU.shape"
   ]
  },
  {
   "cell_type": "code",
   "execution_count": 109,
   "id": "eab34436",
   "metadata": {},
   "outputs": [
    {
     "data": {
      "text/html": [
       "<div>\n",
       "<style scoped>\n",
       "    .dataframe tbody tr th:only-of-type {\n",
       "        vertical-align: middle;\n",
       "    }\n",
       "\n",
       "    .dataframe tbody tr th {\n",
       "        vertical-align: top;\n",
       "    }\n",
       "\n",
       "    .dataframe thead th {\n",
       "        text-align: right;\n",
       "    }\n",
       "</style>\n",
       "<table border=\"1\" class=\"dataframe\">\n",
       "  <thead>\n",
       "    <tr style=\"text-align: right;\">\n",
       "      <th></th>\n",
       "      <th>count</th>\n",
       "      <th>mean</th>\n",
       "      <th>std</th>\n",
       "      <th>min</th>\n",
       "      <th>25%</th>\n",
       "      <th>50%</th>\n",
       "      <th>75%</th>\n",
       "      <th>max</th>\n",
       "    </tr>\n",
       "  </thead>\n",
       "  <tbody>\n",
       "    <tr>\n",
       "      <th>internet_users_per_100</th>\n",
       "      <td>37.0</td>\n",
       "      <td>77.274888</td>\n",
       "      <td>12.425773</td>\n",
       "      <td>53.744979</td>\n",
       "      <td>68.6329</td>\n",
       "      <td>76.1840</td>\n",
       "      <td>87.479056</td>\n",
       "      <td>98.2000</td>\n",
       "    </tr>\n",
       "    <tr>\n",
       "      <th>Math</th>\n",
       "      <td>37.0</td>\n",
       "      <td>477.981449</td>\n",
       "      <td>35.150403</td>\n",
       "      <td>371.311400</td>\n",
       "      <td>464.0401</td>\n",
       "      <td>489.7287</td>\n",
       "      <td>503.722000</td>\n",
       "      <td>521.2506</td>\n",
       "    </tr>\n",
       "    <tr>\n",
       "      <th>Reading</th>\n",
       "      <td>37.0</td>\n",
       "      <td>476.164608</td>\n",
       "      <td>37.720545</td>\n",
       "      <td>351.741500</td>\n",
       "      <td>452.5143</td>\n",
       "      <td>487.2501</td>\n",
       "      <td>499.814600</td>\n",
       "      <td>526.4247</td>\n",
       "    </tr>\n",
       "    <tr>\n",
       "      <th>Science</th>\n",
       "      <td>37.0</td>\n",
       "      <td>478.299381</td>\n",
       "      <td>34.450616</td>\n",
       "      <td>383.682400</td>\n",
       "      <td>460.7749</td>\n",
       "      <td>490.2250</td>\n",
       "      <td>501.936900</td>\n",
       "      <td>534.1937</td>\n",
       "    </tr>\n",
       "  </tbody>\n",
       "</table>\n",
       "</div>"
      ],
      "text/plain": [
       "                        count        mean        std         min       25%  \\\n",
       "internet_users_per_100   37.0   77.274888  12.425773   53.744979   68.6329   \n",
       "Math                     37.0  477.981449  35.150403  371.311400  464.0401   \n",
       "Reading                  37.0  476.164608  37.720545  351.741500  452.5143   \n",
       "Science                  37.0  478.299381  34.450616  383.682400  460.7749   \n",
       "\n",
       "                             50%         75%       max  \n",
       "internet_users_per_100   76.1840   87.479056   98.2000  \n",
       "Math                    489.7287  503.722000  521.2506  \n",
       "Reading                 487.2501  499.814600  526.4247  \n",
       "Science                 490.2250  501.936900  534.1937  "
      ]
     },
     "execution_count": 109,
     "metadata": {},
     "output_type": "execute_result"
    }
   ],
   "source": [
    "dfpisa_EU.describe().T"
   ]
  },
  {
   "cell_type": "code",
   "execution_count": 111,
   "id": "511e5fd0",
   "metadata": {},
   "outputs": [
    {
     "data": {
      "text/plain": [
       "internet_users_per_100     154.399841\n",
       "Math                      1235.550805\n",
       "Reading                   1422.839540\n",
       "Science                   1186.844969\n",
       "dtype: float64"
      ]
     },
     "execution_count": 111,
     "metadata": {},
     "output_type": "execute_result"
    }
   ],
   "source": [
    "dfpisa_EU.var()"
   ]
  },
  {
   "cell_type": "code",
   "execution_count": 112,
   "id": "db95e8b4",
   "metadata": {},
   "outputs": [
    {
     "data": {
      "text/html": [
       "<div>\n",
       "<style scoped>\n",
       "    .dataframe tbody tr th:only-of-type {\n",
       "        vertical-align: middle;\n",
       "    }\n",
       "\n",
       "    .dataframe tbody tr th {\n",
       "        vertical-align: top;\n",
       "    }\n",
       "\n",
       "    .dataframe thead th {\n",
       "        text-align: right;\n",
       "    }\n",
       "</style>\n",
       "<table border=\"1\" class=\"dataframe\">\n",
       "  <thead>\n",
       "    <tr style=\"text-align: right;\">\n",
       "      <th></th>\n",
       "      <th>internet_users_per_100</th>\n",
       "      <th>Math</th>\n",
       "      <th>Reading</th>\n",
       "      <th>Science</th>\n",
       "    </tr>\n",
       "  </thead>\n",
       "  <tbody>\n",
       "    <tr>\n",
       "      <th>internet_users_per_100</th>\n",
       "      <td>1.000000</td>\n",
       "      <td>0.640105</td>\n",
       "      <td>0.591298</td>\n",
       "      <td>0.621850</td>\n",
       "    </tr>\n",
       "    <tr>\n",
       "      <th>Math</th>\n",
       "      <td>0.640105</td>\n",
       "      <td>1.000000</td>\n",
       "      <td>0.946071</td>\n",
       "      <td>0.965628</td>\n",
       "    </tr>\n",
       "    <tr>\n",
       "      <th>Reading</th>\n",
       "      <td>0.591298</td>\n",
       "      <td>0.946071</td>\n",
       "      <td>1.000000</td>\n",
       "      <td>0.957500</td>\n",
       "    </tr>\n",
       "    <tr>\n",
       "      <th>Science</th>\n",
       "      <td>0.621850</td>\n",
       "      <td>0.965628</td>\n",
       "      <td>0.957500</td>\n",
       "      <td>1.000000</td>\n",
       "    </tr>\n",
       "  </tbody>\n",
       "</table>\n",
       "</div>"
      ],
      "text/plain": [
       "                        internet_users_per_100      Math   Reading   Science\n",
       "internet_users_per_100                1.000000  0.640105  0.591298  0.621850\n",
       "Math                                  0.640105  1.000000  0.946071  0.965628\n",
       "Reading                               0.591298  0.946071  1.000000  0.957500\n",
       "Science                               0.621850  0.965628  0.957500  1.000000"
      ]
     },
     "execution_count": 112,
     "metadata": {},
     "output_type": "execute_result"
    }
   ],
   "source": [
    "dfpisa_EU.corr()"
   ]
  },
  {
   "cell_type": "code",
   "execution_count": 113,
   "id": "7170533e",
   "metadata": {},
   "outputs": [
    {
     "data": {
      "image/png": "[encoded data removed]",
      "text/plain": [
       "<Figure size 432x288 with 2 Axes>"
      ]
     },
     "metadata": {
      "needs_background": "light"
     },
     "output_type": "display_data"
    }
   ],
   "source": [
    "sns.heatmap(dfpisa_EU.corr(), annot=True);"
   ]
  },
  {
   "cell_type": "code",
   "execution_count": 132,
   "id": "44b699c5",
   "metadata": {},
   "outputs": [
    {
     "data": {
      "image/png": "[encoded data removed]",
      "text/plain": [
       "<Figure size 720x360 with 1 Axes>"
      ]
     },
     "metadata": {
      "needs_background": "light"
     },
     "output_type": "display_data"
    }
   ],
   "source": [
    "fig, axes = plt.subplots(figsize=(10,5))\n",
    "sns.histplot(dfpisa_EU,kde=True);"
   ]
  },
  {
   "cell_type": "code",
   "execution_count": 116,
   "id": "75b82abc",
   "metadata": {},
   "outputs": [
    {
     "data": {
      "image/png": "[encoded data removed]",
      "text/plain": [
       "<Figure size 432x288 with 1 Axes>"
      ]
     },
     "metadata": {
      "needs_background": "light"
     },
     "output_type": "display_data"
    }
   ],
   "source": [
    "dfpisa_EU.boxplot();"
   ]
  },
  {
   "cell_type": "markdown",
   "id": "062c14e1",
   "metadata": {},
   "source": [
    "Grafiklerdende gördüğümüz gibi EU'da math, Reading, Science ort. yaklaşık olarak aynıdır. math, reading science left skewed dist(negatif) sahiptir."
   ]
  },
  {
   "cell_type": "markdown",
   "id": "0988c638",
   "metadata": {},
   "source": [
    "### 2. The descriptive analysis of AS"
   ]
  },
  {
   "cell_type": "code",
   "execution_count": 125,
   "id": "d2e2bd11",
   "metadata": {},
   "outputs": [],
   "source": [
    "dfpisa_AS=dfpisa[dfpisa.Continent_Code==\"AS\"]"
   ]
  },
  {
   "cell_type": "code",
   "execution_count": 126,
   "id": "34c66b2a",
   "metadata": {},
   "outputs": [
    {
     "data": {
      "text/html": [
       "<div>\n",
       "<style scoped>\n",
       "    .dataframe tbody tr th:only-of-type {\n",
       "        vertical-align: middle;\n",
       "    }\n",
       "\n",
       "    .dataframe tbody tr th {\n",
       "        vertical-align: top;\n",
       "    }\n",
       "\n",
       "    .dataframe thead th {\n",
       "        text-align: right;\n",
       "    }\n",
       "</style>\n",
       "<table border=\"1\" class=\"dataframe\">\n",
       "  <thead>\n",
       "    <tr style=\"text-align: right;\">\n",
       "      <th></th>\n",
       "      <th>Country Code</th>\n",
       "      <th>Continent_Code</th>\n",
       "      <th>internet_users_per_100</th>\n",
       "      <th>Math</th>\n",
       "      <th>Reading</th>\n",
       "      <th>Science</th>\n",
       "    </tr>\n",
       "  </thead>\n",
       "  <tbody>\n",
       "    <tr>\n",
       "      <th>1</th>\n",
       "      <td>ARE</td>\n",
       "      <td>AS</td>\n",
       "      <td>90.500000</td>\n",
       "      <td>427.4827</td>\n",
       "      <td>433.5423</td>\n",
       "      <td>436.7311</td>\n",
       "    </tr>\n",
       "    <tr>\n",
       "      <th>11</th>\n",
       "      <td>CHN</td>\n",
       "      <td>AS</td>\n",
       "      <td>50.300000</td>\n",
       "      <td>531.2961</td>\n",
       "      <td>493.9412</td>\n",
       "      <td>517.7793</td>\n",
       "    </tr>\n",
       "    <tr>\n",
       "      <th>25</th>\n",
       "      <td>GEO</td>\n",
       "      <td>AS</td>\n",
       "      <td>47.569760</td>\n",
       "      <td>403.8332</td>\n",
       "      <td>401.2881</td>\n",
       "      <td>411.1315</td>\n",
       "    </tr>\n",
       "    <tr>\n",
       "      <th>27</th>\n",
       "      <td>HKG</td>\n",
       "      <td>AS</td>\n",
       "      <td>84.948353</td>\n",
       "      <td>547.9310</td>\n",
       "      <td>526.6753</td>\n",
       "      <td>523.2774</td>\n",
       "    </tr>\n",
       "    <tr>\n",
       "      <th>30</th>\n",
       "      <td>IDN</td>\n",
       "      <td>AS</td>\n",
       "      <td>21.976068</td>\n",
       "      <td>386.1096</td>\n",
       "      <td>397.2595</td>\n",
       "      <td>403.0997</td>\n",
       "    </tr>\n",
       "  </tbody>\n",
       "</table>\n",
       "</div>"
      ],
      "text/plain": [
       "   Country Code Continent_Code  internet_users_per_100      Math   Reading  \\\n",
       "1           ARE             AS               90.500000  427.4827  433.5423   \n",
       "11          CHN             AS               50.300000  531.2961  493.9412   \n",
       "25          GEO             AS               47.569760  403.8332  401.2881   \n",
       "27          HKG             AS               84.948353  547.9310  526.6753   \n",
       "30          IDN             AS               21.976068  386.1096  397.2595   \n",
       "\n",
       "     Science  \n",
       "1   436.7311  \n",
       "11  517.7793  \n",
       "25  411.1315  \n",
       "27  523.2774  \n",
       "30  403.0997  "
      ]
     },
     "execution_count": 126,
     "metadata": {},
     "output_type": "execute_result"
    }
   ],
   "source": [
    "dfpisa_AS.head()"
   ]
  },
  {
   "cell_type": "code",
   "execution_count": 127,
   "id": "fb717cad",
   "metadata": {},
   "outputs": [
    {
     "data": {
      "text/plain": [
       "(17, 6)"
      ]
     },
     "execution_count": 127,
     "metadata": {},
     "output_type": "execute_result"
    }
   ],
   "source": [
    "dfpisa_AS.shape"
   ]
  },
  {
   "cell_type": "code",
   "execution_count": 128,
   "id": "4f80681b",
   "metadata": {},
   "outputs": [
    {
     "data": {
      "text/html": [
       "<div>\n",
       "<style scoped>\n",
       "    .dataframe tbody tr th:only-of-type {\n",
       "        vertical-align: middle;\n",
       "    }\n",
       "\n",
       "    .dataframe tbody tr th {\n",
       "        vertical-align: top;\n",
       "    }\n",
       "\n",
       "    .dataframe thead th {\n",
       "        text-align: right;\n",
       "    }\n",
       "</style>\n",
       "<table border=\"1\" class=\"dataframe\">\n",
       "  <thead>\n",
       "    <tr style=\"text-align: right;\">\n",
       "      <th></th>\n",
       "      <th>count</th>\n",
       "      <th>mean</th>\n",
       "      <th>std</th>\n",
       "      <th>min</th>\n",
       "      <th>25%</th>\n",
       "      <th>50%</th>\n",
       "      <th>75%</th>\n",
       "      <th>max</th>\n",
       "    </tr>\n",
       "  </thead>\n",
       "  <tbody>\n",
       "    <tr>\n",
       "      <th>internet_users_per_100</th>\n",
       "      <td>17.0</td>\n",
       "      <td>68.455613</td>\n",
       "      <td>21.086060</td>\n",
       "      <td>21.976068</td>\n",
       "      <td>50.3000</td>\n",
       "      <td>74.0000</td>\n",
       "      <td>84.948353</td>\n",
       "      <td>92.884826</td>\n",
       "    </tr>\n",
       "    <tr>\n",
       "      <th>Math</th>\n",
       "      <td>17.0</td>\n",
       "      <td>466.216647</td>\n",
       "      <td>64.356490</td>\n",
       "      <td>380.259000</td>\n",
       "      <td>403.8332</td>\n",
       "      <td>459.8160</td>\n",
       "      <td>531.296100</td>\n",
       "      <td>564.189700</td>\n",
       "    </tr>\n",
       "    <tr>\n",
       "      <th>Reading</th>\n",
       "      <td>17.0</td>\n",
       "      <td>454.059682</td>\n",
       "      <td>57.048962</td>\n",
       "      <td>346.549000</td>\n",
       "      <td>408.1022</td>\n",
       "      <td>433.5423</td>\n",
       "      <td>508.690500</td>\n",
       "      <td>535.100200</td>\n",
       "    </tr>\n",
       "    <tr>\n",
       "      <th>Science</th>\n",
       "      <td>17.0</td>\n",
       "      <td>467.945847</td>\n",
       "      <td>56.671371</td>\n",
       "      <td>386.485400</td>\n",
       "      <td>417.6112</td>\n",
       "      <td>456.4836</td>\n",
       "      <td>523.277400</td>\n",
       "      <td>555.574700</td>\n",
       "    </tr>\n",
       "  </tbody>\n",
       "</table>\n",
       "</div>"
      ],
      "text/plain": [
       "                        count        mean        std         min       25%  \\\n",
       "internet_users_per_100   17.0   68.455613  21.086060   21.976068   50.3000   \n",
       "Math                     17.0  466.216647  64.356490  380.259000  403.8332   \n",
       "Reading                  17.0  454.059682  57.048962  346.549000  408.1022   \n",
       "Science                  17.0  467.945847  56.671371  386.485400  417.6112   \n",
       "\n",
       "                             50%         75%         max  \n",
       "internet_users_per_100   74.0000   84.948353   92.884826  \n",
       "Math                    459.8160  531.296100  564.189700  \n",
       "Reading                 433.5423  508.690500  535.100200  \n",
       "Science                 456.4836  523.277400  555.574700  "
      ]
     },
     "execution_count": 128,
     "metadata": {},
     "output_type": "execute_result"
    }
   ],
   "source": [
    "dfpisa_AS.describe().T"
   ]
  },
  {
   "cell_type": "code",
   "execution_count": 129,
   "id": "781e5403",
   "metadata": {},
   "outputs": [
    {
     "data": {
      "text/html": [
       "<div>\n",
       "<style scoped>\n",
       "    .dataframe tbody tr th:only-of-type {\n",
       "        vertical-align: middle;\n",
       "    }\n",
       "\n",
       "    .dataframe tbody tr th {\n",
       "        vertical-align: top;\n",
       "    }\n",
       "\n",
       "    .dataframe thead th {\n",
       "        text-align: right;\n",
       "    }\n",
       "</style>\n",
       "<table border=\"1\" class=\"dataframe\">\n",
       "  <thead>\n",
       "    <tr style=\"text-align: right;\">\n",
       "      <th></th>\n",
       "      <th>internet_users_per_100</th>\n",
       "      <th>Math</th>\n",
       "      <th>Reading</th>\n",
       "      <th>Science</th>\n",
       "    </tr>\n",
       "  </thead>\n",
       "  <tbody>\n",
       "    <tr>\n",
       "      <th>internet_users_per_100</th>\n",
       "      <td>1.000000</td>\n",
       "      <td>0.382206</td>\n",
       "      <td>0.358864</td>\n",
       "      <td>0.326062</td>\n",
       "    </tr>\n",
       "    <tr>\n",
       "      <th>Math</th>\n",
       "      <td>0.382206</td>\n",
       "      <td>1.000000</td>\n",
       "      <td>0.950766</td>\n",
       "      <td>0.976521</td>\n",
       "    </tr>\n",
       "    <tr>\n",
       "      <th>Reading</th>\n",
       "      <td>0.358864</td>\n",
       "      <td>0.950766</td>\n",
       "      <td>1.000000</td>\n",
       "      <td>0.967582</td>\n",
       "    </tr>\n",
       "    <tr>\n",
       "      <th>Science</th>\n",
       "      <td>0.326062</td>\n",
       "      <td>0.976521</td>\n",
       "      <td>0.967582</td>\n",
       "      <td>1.000000</td>\n",
       "    </tr>\n",
       "  </tbody>\n",
       "</table>\n",
       "</div>"
      ],
      "text/plain": [
       "                        internet_users_per_100      Math   Reading   Science\n",
       "internet_users_per_100                1.000000  0.382206  0.358864  0.326062\n",
       "Math                                  0.382206  1.000000  0.950766  0.976521\n",
       "Reading                               0.358864  0.950766  1.000000  0.967582\n",
       "Science                               0.326062  0.976521  0.967582  1.000000"
      ]
     },
     "execution_count": 129,
     "metadata": {},
     "output_type": "execute_result"
    }
   ],
   "source": [
    "dfpisa_AS.corr()"
   ]
  },
  {
   "cell_type": "code",
   "execution_count": 130,
   "id": "efcd18ff",
   "metadata": {},
   "outputs": [
    {
     "data": {
      "text/plain": [
       "internet_users_per_100     444.621918\n",
       "Math                      4141.757822\n",
       "Reading                   3254.584049\n",
       "Science                   3211.644321\n",
       "dtype: float64"
      ]
     },
     "execution_count": 130,
     "metadata": {},
     "output_type": "execute_result"
    }
   ],
   "source": [
    "dfpisa_AS.var()"
   ]
  },
  {
   "cell_type": "code",
   "execution_count": 131,
   "id": "fedfd952",
   "metadata": {},
   "outputs": [
    {
     "data": {
      "image/png": "[encoded data removed]",
      "text/plain": [
       "<Figure size 432x288 with 2 Axes>"
      ]
     },
     "metadata": {
      "needs_background": "light"
     },
     "output_type": "display_data"
    }
   ],
   "source": [
    "sns.heatmap(dfpisa_AS.corr(), annot=True);"
   ]
  },
  {
   "cell_type": "code",
   "execution_count": 134,
   "id": "2560012a",
   "metadata": {},
   "outputs": [
    {
     "data": {
      "image/png": "[encoded data removed]",
      "text/plain": [
       "<Figure size 720x360 with 1 Axes>"
      ]
     },
     "metadata": {
      "needs_background": "light"
     },
     "output_type": "display_data"
    }
   ],
   "source": [
    "fig, axes = plt.subplots(figsize=(10,5))\n",
    "sns.histplot(dfpisa_AS,kde=True);"
   ]
  },
  {
   "cell_type": "code",
   "execution_count": 135,
   "id": "8810ae13",
   "metadata": {},
   "outputs": [
    {
     "data": {
      "image/png": "[encoded data removed]",
      "text/plain": [
       "<Figure size 432x288 with 1 Axes>"
      ]
     },
     "metadata": {
      "needs_background": "light"
     },
     "output_type": "display_data"
    }
   ],
   "source": [
    "dfpisa_AS.boxplot();"
   ]
  },
  {
   "cell_type": "markdown",
   "id": "8bd05586",
   "metadata": {},
   "source": [
    "Grafiklerdende AS'nin math ve science ort birbirine yakın olup ınternet_user_per_100 en düşük ortalamaya haizdir. math, reading science right skewed(pozitif) dağılımına sahiptir."
   ]
  },
  {
   "cell_type": "markdown",
   "id": "e7e665f7",
   "metadata": {},
   "source": [
    "### 3. The descriptive analysis of SA"
   ]
  },
  {
   "cell_type": "code",
   "execution_count": 136,
   "id": "794e8d4f",
   "metadata": {},
   "outputs": [
    {
     "data": {
      "text/html": [
       "<div>\n",
       "<style scoped>\n",
       "    .dataframe tbody tr th:only-of-type {\n",
       "        vertical-align: middle;\n",
       "    }\n",
       "\n",
       "    .dataframe tbody tr th {\n",
       "        vertical-align: top;\n",
       "    }\n",
       "\n",
       "    .dataframe thead th {\n",
       "        text-align: right;\n",
       "    }\n",
       "</style>\n",
       "<table border=\"1\" class=\"dataframe\">\n",
       "  <thead>\n",
       "    <tr style=\"text-align: right;\">\n",
       "      <th></th>\n",
       "      <th>Country Code</th>\n",
       "      <th>Continent_Code</th>\n",
       "      <th>internet_users_per_100</th>\n",
       "      <th>Math</th>\n",
       "      <th>Reading</th>\n",
       "      <th>Science</th>\n",
       "    </tr>\n",
       "  </thead>\n",
       "  <tbody>\n",
       "    <tr>\n",
       "      <th>2</th>\n",
       "      <td>ARG</td>\n",
       "      <td>SA</td>\n",
       "      <td>68.043064</td>\n",
       "      <td>409.0333</td>\n",
       "      <td>425.3031</td>\n",
       "      <td>432.2262</td>\n",
       "    </tr>\n",
       "    <tr>\n",
       "      <th>7</th>\n",
       "      <td>BRA</td>\n",
       "      <td>SA</td>\n",
       "      <td>58.327952</td>\n",
       "      <td>377.0695</td>\n",
       "      <td>407.3486</td>\n",
       "      <td>400.6821</td>\n",
       "    </tr>\n",
       "    <tr>\n",
       "      <th>10</th>\n",
       "      <td>CHL</td>\n",
       "      <td>SA</td>\n",
       "      <td>64.289000</td>\n",
       "      <td>422.6714</td>\n",
       "      <td>458.5709</td>\n",
       "      <td>446.9561</td>\n",
       "    </tr>\n",
       "    <tr>\n",
       "      <th>12</th>\n",
       "      <td>COL</td>\n",
       "      <td>SA</td>\n",
       "      <td>55.904973</td>\n",
       "      <td>389.6438</td>\n",
       "      <td>424.9052</td>\n",
       "      <td>415.7288</td>\n",
       "    </tr>\n",
       "    <tr>\n",
       "      <th>53</th>\n",
       "      <td>PER</td>\n",
       "      <td>SA</td>\n",
       "      <td>40.900000</td>\n",
       "      <td>386.5606</td>\n",
       "      <td>397.5414</td>\n",
       "      <td>396.6836</td>\n",
       "    </tr>\n",
       "    <tr>\n",
       "      <th>64</th>\n",
       "      <td>TTO</td>\n",
       "      <td>SA</td>\n",
       "      <td>69.198471</td>\n",
       "      <td>417.2434</td>\n",
       "      <td>427.2733</td>\n",
       "      <td>424.5905</td>\n",
       "    </tr>\n",
       "    <tr>\n",
       "      <th>67</th>\n",
       "      <td>URY</td>\n",
       "      <td>SA</td>\n",
       "      <td>64.600000</td>\n",
       "      <td>417.9919</td>\n",
       "      <td>436.5721</td>\n",
       "      <td>435.3630</td>\n",
       "    </tr>\n",
       "  </tbody>\n",
       "</table>\n",
       "</div>"
      ],
      "text/plain": [
       "   Country Code Continent_Code  internet_users_per_100      Math   Reading  \\\n",
       "2           ARG             SA               68.043064  409.0333  425.3031   \n",
       "7           BRA             SA               58.327952  377.0695  407.3486   \n",
       "10          CHL             SA               64.289000  422.6714  458.5709   \n",
       "12          COL             SA               55.904973  389.6438  424.9052   \n",
       "53          PER             SA               40.900000  386.5606  397.5414   \n",
       "64          TTO             SA               69.198471  417.2434  427.2733   \n",
       "67          URY             SA               64.600000  417.9919  436.5721   \n",
       "\n",
       "     Science  \n",
       "2   432.2262  \n",
       "7   400.6821  \n",
       "10  446.9561  \n",
       "12  415.7288  \n",
       "53  396.6836  \n",
       "64  424.5905  \n",
       "67  435.3630  "
      ]
     },
     "execution_count": 136,
     "metadata": {},
     "output_type": "execute_result"
    }
   ],
   "source": [
    "dfpisa_SA=dfpisa[dfpisa.Continent_Code==\"SA\"]\n",
    "dfpisa_SA"
   ]
  },
  {
   "cell_type": "code",
   "execution_count": 137,
   "id": "ece9bc5b",
   "metadata": {},
   "outputs": [
    {
     "data": {
      "text/plain": [
       "(7, 6)"
      ]
     },
     "execution_count": 137,
     "metadata": {},
     "output_type": "execute_result"
    }
   ],
   "source": [
    "dfpisa_SA.shape"
   ]
  },
  {
   "cell_type": "code",
   "execution_count": 138,
   "id": "81f4dce2",
   "metadata": {},
   "outputs": [
    {
     "data": {
      "text/html": [
       "<div>\n",
       "<style scoped>\n",
       "    .dataframe tbody tr th:only-of-type {\n",
       "        vertical-align: middle;\n",
       "    }\n",
       "\n",
       "    .dataframe tbody tr th {\n",
       "        vertical-align: top;\n",
       "    }\n",
       "\n",
       "    .dataframe thead th {\n",
       "        text-align: right;\n",
       "    }\n",
       "</style>\n",
       "<table border=\"1\" class=\"dataframe\">\n",
       "  <thead>\n",
       "    <tr style=\"text-align: right;\">\n",
       "      <th></th>\n",
       "      <th>count</th>\n",
       "      <th>mean</th>\n",
       "      <th>std</th>\n",
       "      <th>min</th>\n",
       "      <th>25%</th>\n",
       "      <th>50%</th>\n",
       "      <th>75%</th>\n",
       "      <th>max</th>\n",
       "    </tr>\n",
       "  </thead>\n",
       "  <tbody>\n",
       "    <tr>\n",
       "      <th>internet_users_per_100</th>\n",
       "      <td>7.0</td>\n",
       "      <td>60.180494</td>\n",
       "      <td>9.772455</td>\n",
       "      <td>40.9000</td>\n",
       "      <td>57.116462</td>\n",
       "      <td>64.2890</td>\n",
       "      <td>66.321532</td>\n",
       "      <td>69.198471</td>\n",
       "    </tr>\n",
       "    <tr>\n",
       "      <th>Math</th>\n",
       "      <td>7.0</td>\n",
       "      <td>402.887700</td>\n",
       "      <td>18.128894</td>\n",
       "      <td>377.0695</td>\n",
       "      <td>388.102200</td>\n",
       "      <td>409.0333</td>\n",
       "      <td>417.617650</td>\n",
       "      <td>422.671400</td>\n",
       "    </tr>\n",
       "    <tr>\n",
       "      <th>Reading</th>\n",
       "      <td>7.0</td>\n",
       "      <td>425.359229</td>\n",
       "      <td>19.709688</td>\n",
       "      <td>397.5414</td>\n",
       "      <td>416.126900</td>\n",
       "      <td>425.3031</td>\n",
       "      <td>431.922700</td>\n",
       "      <td>458.570900</td>\n",
       "    </tr>\n",
       "    <tr>\n",
       "      <th>Science</th>\n",
       "      <td>7.0</td>\n",
       "      <td>421.747186</td>\n",
       "      <td>18.470319</td>\n",
       "      <td>396.6836</td>\n",
       "      <td>408.205450</td>\n",
       "      <td>424.5905</td>\n",
       "      <td>433.794600</td>\n",
       "      <td>446.956100</td>\n",
       "    </tr>\n",
       "  </tbody>\n",
       "</table>\n",
       "</div>"
      ],
      "text/plain": [
       "                        count        mean        std       min         25%  \\\n",
       "internet_users_per_100    7.0   60.180494   9.772455   40.9000   57.116462   \n",
       "Math                      7.0  402.887700  18.128894  377.0695  388.102200   \n",
       "Reading                   7.0  425.359229  19.709688  397.5414  416.126900   \n",
       "Science                   7.0  421.747186  18.470319  396.6836  408.205450   \n",
       "\n",
       "                             50%         75%         max  \n",
       "internet_users_per_100   64.2890   66.321532   69.198471  \n",
       "Math                    409.0333  417.617650  422.671400  \n",
       "Reading                 425.3031  431.922700  458.570900  \n",
       "Science                 424.5905  433.794600  446.956100  "
      ]
     },
     "execution_count": 138,
     "metadata": {},
     "output_type": "execute_result"
    }
   ],
   "source": [
    "dfpisa_SA.describe().T"
   ]
  },
  {
   "cell_type": "code",
   "execution_count": 139,
   "id": "f9cb8915",
   "metadata": {},
   "outputs": [
    {
     "data": {
      "text/plain": [
       "internet_users_per_100     95.500869\n",
       "Math                      328.656783\n",
       "Reading                   388.471816\n",
       "Science                   341.152678\n",
       "dtype: float64"
      ]
     },
     "execution_count": 139,
     "metadata": {},
     "output_type": "execute_result"
    }
   ],
   "source": [
    "dfpisa_SA.var()"
   ]
  },
  {
   "cell_type": "code",
   "execution_count": 140,
   "id": "8b0cc6bd",
   "metadata": {},
   "outputs": [
    {
     "data": {
      "text/html": [
       "<div>\n",
       "<style scoped>\n",
       "    .dataframe tbody tr th:only-of-type {\n",
       "        vertical-align: middle;\n",
       "    }\n",
       "\n",
       "    .dataframe tbody tr th {\n",
       "        vertical-align: top;\n",
       "    }\n",
       "\n",
       "    .dataframe thead th {\n",
       "        text-align: right;\n",
       "    }\n",
       "</style>\n",
       "<table border=\"1\" class=\"dataframe\">\n",
       "  <thead>\n",
       "    <tr style=\"text-align: right;\">\n",
       "      <th></th>\n",
       "      <th>internet_users_per_100</th>\n",
       "      <th>Math</th>\n",
       "      <th>Reading</th>\n",
       "      <th>Science</th>\n",
       "    </tr>\n",
       "  </thead>\n",
       "  <tbody>\n",
       "    <tr>\n",
       "      <th>internet_users_per_100</th>\n",
       "      <td>1.000000</td>\n",
       "      <td>0.700917</td>\n",
       "      <td>0.670150</td>\n",
       "      <td>0.756945</td>\n",
       "    </tr>\n",
       "    <tr>\n",
       "      <th>Math</th>\n",
       "      <td>0.700917</td>\n",
       "      <td>1.000000</td>\n",
       "      <td>0.829681</td>\n",
       "      <td>0.917029</td>\n",
       "    </tr>\n",
       "    <tr>\n",
       "      <th>Reading</th>\n",
       "      <td>0.670150</td>\n",
       "      <td>0.829681</td>\n",
       "      <td>1.000000</td>\n",
       "      <td>0.949564</td>\n",
       "    </tr>\n",
       "    <tr>\n",
       "      <th>Science</th>\n",
       "      <td>0.756945</td>\n",
       "      <td>0.917029</td>\n",
       "      <td>0.949564</td>\n",
       "      <td>1.000000</td>\n",
       "    </tr>\n",
       "  </tbody>\n",
       "</table>\n",
       "</div>"
      ],
      "text/plain": [
       "                        internet_users_per_100      Math   Reading   Science\n",
       "internet_users_per_100                1.000000  0.700917  0.670150  0.756945\n",
       "Math                                  0.700917  1.000000  0.829681  0.917029\n",
       "Reading                               0.670150  0.829681  1.000000  0.949564\n",
       "Science                               0.756945  0.917029  0.949564  1.000000"
      ]
     },
     "execution_count": 140,
     "metadata": {},
     "output_type": "execute_result"
    }
   ],
   "source": [
    "dfpisa_SA.corr()"
   ]
  },
  {
   "cell_type": "code",
   "execution_count": 141,
   "id": "889d11f6",
   "metadata": {},
   "outputs": [
    {
     "data": {
      "image/png": "[encoded data removed]",
      "text/plain": [
       "<Figure size 432x288 with 2 Axes>"
      ]
     },
     "metadata": {
      "needs_background": "light"
     },
     "output_type": "display_data"
    }
   ],
   "source": [
    "sns.heatmap(dfpisa_SA.corr(), annot=True);"
   ]
  },
  {
   "cell_type": "code",
   "execution_count": 142,
   "id": "39fbf7ea",
   "metadata": {},
   "outputs": [
    {
     "data": {
      "image/png": "[encoded data removed]",
      "text/plain": [
       "<Figure size 720x360 with 1 Axes>"
      ]
     },
     "metadata": {
      "needs_background": "light"
     },
     "output_type": "display_data"
    }
   ],
   "source": [
    "fig, axes = plt.subplots(figsize=(10,5))\n",
    "sns.histplot(dfpisa_SA,kde=True);"
   ]
  },
  {
   "cell_type": "code",
   "execution_count": 147,
   "id": "48946a82",
   "metadata": {},
   "outputs": [
    {
     "data": {
      "image/png": "[encoded data removed]",
      "text/plain": [
       "<Figure size 576x432 with 1 Axes>"
      ]
     },
     "metadata": {
      "needs_background": "light"
     },
     "output_type": "display_data"
    }
   ],
   "source": [
    "dfpisa_SA.boxplot(figsize=(8,6));"
   ]
  },
  {
   "cell_type": "markdown",
   "id": "ebc56634",
   "metadata": {},
   "source": [
    "grafiklerden anlaşıldığı gibi reading ve science ort. birbirine yakın iken math biraz düşüktür. Onlara göre en düşük herzamnaki gibi internet_user_per_100 sahiptir. ve genel olarak distributionler normale yakındır. "
   ]
  },
  {
   "cell_type": "markdown",
   "id": "88881101",
   "metadata": {},
   "source": [
    "### 4. The descriptive analysis of OC"
   ]
  },
  {
   "cell_type": "code",
   "execution_count": 148,
   "id": "302ddad8",
   "metadata": {},
   "outputs": [
    {
     "data": {
      "text/html": [
       "<div>\n",
       "<style scoped>\n",
       "    .dataframe tbody tr th:only-of-type {\n",
       "        vertical-align: middle;\n",
       "    }\n",
       "\n",
       "    .dataframe tbody tr th {\n",
       "        vertical-align: top;\n",
       "    }\n",
       "\n",
       "    .dataframe thead th {\n",
       "        text-align: right;\n",
       "    }\n",
       "</style>\n",
       "<table border=\"1\" class=\"dataframe\">\n",
       "  <thead>\n",
       "    <tr style=\"text-align: right;\">\n",
       "      <th></th>\n",
       "      <th>Country Code</th>\n",
       "      <th>Continent_Code</th>\n",
       "      <th>internet_users_per_100</th>\n",
       "      <th>Math</th>\n",
       "      <th>Reading</th>\n",
       "      <th>Science</th>\n",
       "    </tr>\n",
       "  </thead>\n",
       "  <tbody>\n",
       "    <tr>\n",
       "      <th>3</th>\n",
       "      <td>AUS</td>\n",
       "      <td>OC</td>\n",
       "      <td>84.560519</td>\n",
       "      <td>493.8962</td>\n",
       "      <td>502.9006</td>\n",
       "      <td>509.9939</td>\n",
       "    </tr>\n",
       "    <tr>\n",
       "      <th>52</th>\n",
       "      <td>NZL</td>\n",
       "      <td>OC</td>\n",
       "      <td>88.222889</td>\n",
       "      <td>495.2233</td>\n",
       "      <td>509.2707</td>\n",
       "      <td>513.3035</td>\n",
       "    </tr>\n",
       "  </tbody>\n",
       "</table>\n",
       "</div>"
      ],
      "text/plain": [
       "   Country Code Continent_Code  internet_users_per_100      Math   Reading  \\\n",
       "3           AUS             OC               84.560519  493.8962  502.9006   \n",
       "52          NZL             OC               88.222889  495.2233  509.2707   \n",
       "\n",
       "     Science  \n",
       "3   509.9939  \n",
       "52  513.3035  "
      ]
     },
     "execution_count": 148,
     "metadata": {},
     "output_type": "execute_result"
    }
   ],
   "source": [
    "dfpisa_OC = dfpisa[dfpisa[\"Continent_Code\"]==\"OC\"]\n",
    "dfpisa_OC"
   ]
  },
  {
   "cell_type": "code",
   "execution_count": 149,
   "id": "24179078",
   "metadata": {},
   "outputs": [
    {
     "data": {
      "text/plain": [
       "(2, 6)"
      ]
     },
     "execution_count": 149,
     "metadata": {},
     "output_type": "execute_result"
    }
   ],
   "source": [
    "dfpisa_OC.shape"
   ]
  },
  {
   "cell_type": "code",
   "execution_count": 150,
   "id": "0f901f7b",
   "metadata": {},
   "outputs": [
    {
     "data": {
      "text/html": [
       "<div>\n",
       "<style scoped>\n",
       "    .dataframe tbody tr th:only-of-type {\n",
       "        vertical-align: middle;\n",
       "    }\n",
       "\n",
       "    .dataframe tbody tr th {\n",
       "        vertical-align: top;\n",
       "    }\n",
       "\n",
       "    .dataframe thead th {\n",
       "        text-align: right;\n",
       "    }\n",
       "</style>\n",
       "<table border=\"1\" class=\"dataframe\">\n",
       "  <thead>\n",
       "    <tr style=\"text-align: right;\">\n",
       "      <th></th>\n",
       "      <th>count</th>\n",
       "      <th>mean</th>\n",
       "      <th>std</th>\n",
       "      <th>min</th>\n",
       "      <th>25%</th>\n",
       "      <th>50%</th>\n",
       "      <th>75%</th>\n",
       "      <th>max</th>\n",
       "    </tr>\n",
       "  </thead>\n",
       "  <tbody>\n",
       "    <tr>\n",
       "      <th>internet_users_per_100</th>\n",
       "      <td>2.0</td>\n",
       "      <td>86.391704</td>\n",
       "      <td>2.589686</td>\n",
       "      <td>84.560519</td>\n",
       "      <td>85.476112</td>\n",
       "      <td>86.391704</td>\n",
       "      <td>87.307296</td>\n",
       "      <td>88.222889</td>\n",
       "    </tr>\n",
       "    <tr>\n",
       "      <th>Math</th>\n",
       "      <td>2.0</td>\n",
       "      <td>494.559750</td>\n",
       "      <td>0.938401</td>\n",
       "      <td>493.896200</td>\n",
       "      <td>494.227975</td>\n",
       "      <td>494.559750</td>\n",
       "      <td>494.891525</td>\n",
       "      <td>495.223300</td>\n",
       "    </tr>\n",
       "    <tr>\n",
       "      <th>Reading</th>\n",
       "      <td>2.0</td>\n",
       "      <td>506.085650</td>\n",
       "      <td>4.504341</td>\n",
       "      <td>502.900600</td>\n",
       "      <td>504.493125</td>\n",
       "      <td>506.085650</td>\n",
       "      <td>507.678175</td>\n",
       "      <td>509.270700</td>\n",
       "    </tr>\n",
       "    <tr>\n",
       "      <th>Science</th>\n",
       "      <td>2.0</td>\n",
       "      <td>511.648700</td>\n",
       "      <td>2.340241</td>\n",
       "      <td>509.993900</td>\n",
       "      <td>510.821300</td>\n",
       "      <td>511.648700</td>\n",
       "      <td>512.476100</td>\n",
       "      <td>513.303500</td>\n",
       "    </tr>\n",
       "  </tbody>\n",
       "</table>\n",
       "</div>"
      ],
      "text/plain": [
       "                        count        mean       std         min         25%  \\\n",
       "internet_users_per_100    2.0   86.391704  2.589686   84.560519   85.476112   \n",
       "Math                      2.0  494.559750  0.938401  493.896200  494.227975   \n",
       "Reading                   2.0  506.085650  4.504341  502.900600  504.493125   \n",
       "Science                   2.0  511.648700  2.340241  509.993900  510.821300   \n",
       "\n",
       "                               50%         75%         max  \n",
       "internet_users_per_100   86.391704   87.307296   88.222889  \n",
       "Math                    494.559750  494.891525  495.223300  \n",
       "Reading                 506.085650  507.678175  509.270700  \n",
       "Science                 511.648700  512.476100  513.303500  "
      ]
     },
     "execution_count": 150,
     "metadata": {},
     "output_type": "execute_result"
    }
   ],
   "source": [
    "dfpisa_OC.describe().T"
   ]
  },
  {
   "cell_type": "code",
   "execution_count": 151,
   "id": "62e8cf43",
   "metadata": {},
   "outputs": [
    {
     "data": {
      "text/plain": [
       "internet_users_per_100     6.706475\n",
       "Math                       0.880597\n",
       "Reading                   20.289087\n",
       "Science                    5.476726\n",
       "dtype: float64"
      ]
     },
     "execution_count": 151,
     "metadata": {},
     "output_type": "execute_result"
    }
   ],
   "source": [
    "dfpisa_OC.var()"
   ]
  },
  {
   "cell_type": "markdown",
   "id": "8cfa7341",
   "metadata": {},
   "source": [
    "### 5. The descriptive analysis of NA"
   ]
  },
  {
   "cell_type": "code",
   "execution_count": 158,
   "id": "f01188cb",
   "metadata": {},
   "outputs": [
    {
     "data": {
      "text/html": [
       "<div>\n",
       "<style scoped>\n",
       "    .dataframe tbody tr th:only-of-type {\n",
       "        vertical-align: middle;\n",
       "    }\n",
       "\n",
       "    .dataframe tbody tr th {\n",
       "        vertical-align: top;\n",
       "    }\n",
       "\n",
       "    .dataframe thead th {\n",
       "        text-align: right;\n",
       "    }\n",
       "</style>\n",
       "<table border=\"1\" class=\"dataframe\">\n",
       "  <thead>\n",
       "    <tr style=\"text-align: right;\">\n",
       "      <th></th>\n",
       "      <th>Country Code</th>\n",
       "      <th>Continent_Code</th>\n",
       "      <th>internet_users_per_100</th>\n",
       "      <th>Math</th>\n",
       "      <th>Reading</th>\n",
       "      <th>Science</th>\n",
       "    </tr>\n",
       "  </thead>\n",
       "  <tbody>\n",
       "    <tr>\n",
       "      <th>8</th>\n",
       "      <td>CAN</td>\n",
       "      <td>NA</td>\n",
       "      <td>88.470000</td>\n",
       "      <td>515.6474</td>\n",
       "      <td>526.6678</td>\n",
       "      <td>527.7047</td>\n",
       "    </tr>\n",
       "    <tr>\n",
       "      <th>13</th>\n",
       "      <td>CRI</td>\n",
       "      <td>NA</td>\n",
       "      <td>59.762950</td>\n",
       "      <td>400.2534</td>\n",
       "      <td>427.4875</td>\n",
       "      <td>419.6080</td>\n",
       "    </tr>\n",
       "    <tr>\n",
       "      <th>18</th>\n",
       "      <td>DOM</td>\n",
       "      <td>NA</td>\n",
       "      <td>54.215766</td>\n",
       "      <td>327.7020</td>\n",
       "      <td>357.7377</td>\n",
       "      <td>331.6388</td>\n",
       "    </tr>\n",
       "    <tr>\n",
       "      <th>45</th>\n",
       "      <td>MEX</td>\n",
       "      <td>NA</td>\n",
       "      <td>57.431043</td>\n",
       "      <td>408.0235</td>\n",
       "      <td>423.2765</td>\n",
       "      <td>415.7099</td>\n",
       "    </tr>\n",
       "    <tr>\n",
       "      <th>68</th>\n",
       "      <td>USA</td>\n",
       "      <td>NA</td>\n",
       "      <td>74.554202</td>\n",
       "      <td>469.6285</td>\n",
       "      <td>496.9351</td>\n",
       "      <td>496.2424</td>\n",
       "    </tr>\n",
       "  </tbody>\n",
       "</table>\n",
       "</div>"
      ],
      "text/plain": [
       "   Country Code Continent_Code  internet_users_per_100      Math   Reading  \\\n",
       "8           CAN             NA               88.470000  515.6474  526.6678   \n",
       "13          CRI             NA               59.762950  400.2534  427.4875   \n",
       "18          DOM             NA               54.215766  327.7020  357.7377   \n",
       "45          MEX             NA               57.431043  408.0235  423.2765   \n",
       "68          USA             NA               74.554202  469.6285  496.9351   \n",
       "\n",
       "     Science  \n",
       "8   527.7047  \n",
       "13  419.6080  \n",
       "18  331.6388  \n",
       "45  415.7099  \n",
       "68  496.2424  "
      ]
     },
     "execution_count": 158,
     "metadata": {},
     "output_type": "execute_result"
    }
   ],
   "source": [
    "dfpisa_NA = dfpisa[dfpisa[\"Continent_Code\"]==\"NA\"]\n",
    "dfpisa_NA"
   ]
  },
  {
   "cell_type": "code",
   "execution_count": 159,
   "id": "5a3222ca",
   "metadata": {},
   "outputs": [
    {
     "data": {
      "text/plain": [
       "(5, 6)"
      ]
     },
     "execution_count": 159,
     "metadata": {},
     "output_type": "execute_result"
    }
   ],
   "source": [
    "dfpisa_NA.shape"
   ]
  },
  {
   "cell_type": "code",
   "execution_count": 160,
   "id": "e8ea3ca6",
   "metadata": {},
   "outputs": [
    {
     "data": {
      "text/html": [
       "<div>\n",
       "<style scoped>\n",
       "    .dataframe tbody tr th:only-of-type {\n",
       "        vertical-align: middle;\n",
       "    }\n",
       "\n",
       "    .dataframe tbody tr th {\n",
       "        vertical-align: top;\n",
       "    }\n",
       "\n",
       "    .dataframe thead th {\n",
       "        text-align: right;\n",
       "    }\n",
       "</style>\n",
       "<table border=\"1\" class=\"dataframe\">\n",
       "  <thead>\n",
       "    <tr style=\"text-align: right;\">\n",
       "      <th></th>\n",
       "      <th>internet_users_per_100</th>\n",
       "      <th>Math</th>\n",
       "      <th>Reading</th>\n",
       "      <th>Science</th>\n",
       "    </tr>\n",
       "  </thead>\n",
       "  <tbody>\n",
       "    <tr>\n",
       "      <th>internet_users_per_100</th>\n",
       "      <td>1.000000</td>\n",
       "      <td>0.938760</td>\n",
       "      <td>0.939705</td>\n",
       "      <td>0.922947</td>\n",
       "    </tr>\n",
       "    <tr>\n",
       "      <th>Math</th>\n",
       "      <td>0.938760</td>\n",
       "      <td>1.000000</td>\n",
       "      <td>0.995240</td>\n",
       "      <td>0.994786</td>\n",
       "    </tr>\n",
       "    <tr>\n",
       "      <th>Reading</th>\n",
       "      <td>0.939705</td>\n",
       "      <td>0.995240</td>\n",
       "      <td>1.000000</td>\n",
       "      <td>0.998817</td>\n",
       "    </tr>\n",
       "    <tr>\n",
       "      <th>Science</th>\n",
       "      <td>0.922947</td>\n",
       "      <td>0.994786</td>\n",
       "      <td>0.998817</td>\n",
       "      <td>1.000000</td>\n",
       "    </tr>\n",
       "  </tbody>\n",
       "</table>\n",
       "</div>"
      ],
      "text/plain": [
       "                        internet_users_per_100      Math   Reading   Science\n",
       "internet_users_per_100                1.000000  0.938760  0.939705  0.922947\n",
       "Math                                  0.938760  1.000000  0.995240  0.994786\n",
       "Reading                               0.939705  0.995240  1.000000  0.998817\n",
       "Science                               0.922947  0.994786  0.998817  1.000000"
      ]
     },
     "execution_count": 160,
     "metadata": {},
     "output_type": "execute_result"
    }
   ],
   "source": [
    "dfpisa_NA.corr()"
   ]
  },
  {
   "cell_type": "code",
   "execution_count": 161,
   "id": "2badf7ec",
   "metadata": {},
   "outputs": [
    {
     "data": {
      "text/plain": [
       "internet_users_per_100     206.334814\n",
       "Math                      5143.336351\n",
       "Reading                   4437.524053\n",
       "Science                   5896.691519\n",
       "dtype: float64"
      ]
     },
     "execution_count": 161,
     "metadata": {},
     "output_type": "execute_result"
    }
   ],
   "source": [
    "dfpisa_NA.var()"
   ]
  },
  {
   "cell_type": "code",
   "execution_count": 162,
   "id": "278224b6",
   "metadata": {},
   "outputs": [
    {
     "data": {
      "image/png": "[encoded data removed]",
      "text/plain": [
       "<Figure size 432x288 with 2 Axes>"
      ]
     },
     "metadata": {
      "needs_background": "light"
     },
     "output_type": "display_data"
    }
   ],
   "source": [
    "sns.heatmap(dfpisa_NA.corr(), annot=True);"
   ]
  },
  {
   "cell_type": "code",
   "execution_count": 164,
   "id": "5d154774",
   "metadata": {},
   "outputs": [
    {
     "data": {
      "image/png": "[encoded data removed]",
      "text/plain": [
       "<Figure size 720x360 with 1 Axes>"
      ]
     },
     "metadata": {
      "needs_background": "light"
     },
     "output_type": "display_data"
    }
   ],
   "source": [
    "fig, axes = plt.subplots(figsize=(10,5))\n",
    "sns.histplot(dfpisa_NA,kde=True);"
   ]
  },
  {
   "cell_type": "code",
   "execution_count": 163,
   "id": "3ad0b5fd",
   "metadata": {},
   "outputs": [
    {
     "data": {
      "image/png": "[encoded data removed]",
      "text/plain": [
       "<Figure size 576x432 with 1 Axes>"
      ]
     },
     "metadata": {
      "needs_background": "light"
     },
     "output_type": "display_data"
    }
   ],
   "source": [
    "dfpisa_NA.boxplot(figsize=(8,6));"
   ]
  },
  {
   "cell_type": "markdown",
   "id": "e134c391",
   "metadata": {},
   "source": [
    "genel olarak distiributionler right skewed olup reading ve science ort birbirine cok yakın olup math biraz azdır en düşük internet_user..dir."
   ]
  },
  {
   "cell_type": "markdown",
   "id": "304612bd",
   "metadata": {},
   "source": [
    "### 6. The descriptive analysis of AF"
   ]
  },
  {
   "cell_type": "code",
   "execution_count": 165,
   "id": "7dd1b1dc",
   "metadata": {},
   "outputs": [],
   "source": [
    "dfpisa_AF=dfpisa[dfpisa.Continent_Code==\"AF\"]"
   ]
  },
  {
   "cell_type": "code",
   "execution_count": 166,
   "id": "689d1531",
   "metadata": {},
   "outputs": [
    {
     "data": {
      "text/html": [
       "<div>\n",
       "<style scoped>\n",
       "    .dataframe tbody tr th:only-of-type {\n",
       "        vertical-align: middle;\n",
       "    }\n",
       "\n",
       "    .dataframe tbody tr th {\n",
       "        vertical-align: top;\n",
       "    }\n",
       "\n",
       "    .dataframe thead th {\n",
       "        text-align: right;\n",
       "    }\n",
       "</style>\n",
       "<table border=\"1\" class=\"dataframe\">\n",
       "  <thead>\n",
       "    <tr style=\"text-align: right;\">\n",
       "      <th></th>\n",
       "      <th>Country Code</th>\n",
       "      <th>Continent_Code</th>\n",
       "      <th>internet_users_per_100</th>\n",
       "      <th>Math</th>\n",
       "      <th>Reading</th>\n",
       "      <th>Science</th>\n",
       "    </tr>\n",
       "  </thead>\n",
       "  <tbody>\n",
       "    <tr>\n",
       "      <th>19</th>\n",
       "      <td>DZA</td>\n",
       "      <td>AF</td>\n",
       "      <td>38.200000</td>\n",
       "      <td>359.6062</td>\n",
       "      <td>349.8593</td>\n",
       "      <td>375.7451</td>\n",
       "    </tr>\n",
       "    <tr>\n",
       "      <th>65</th>\n",
       "      <td>TUN</td>\n",
       "      <td>AF</td>\n",
       "      <td>48.519836</td>\n",
       "      <td>366.8180</td>\n",
       "      <td>361.0555</td>\n",
       "      <td>386.4034</td>\n",
       "    </tr>\n",
       "  </tbody>\n",
       "</table>\n",
       "</div>"
      ],
      "text/plain": [
       "   Country Code Continent_Code  internet_users_per_100      Math   Reading  \\\n",
       "19          DZA             AF               38.200000  359.6062  349.8593   \n",
       "65          TUN             AF               48.519836  366.8180  361.0555   \n",
       "\n",
       "     Science  \n",
       "19  375.7451  \n",
       "65  386.4034  "
      ]
     },
     "execution_count": 166,
     "metadata": {},
     "output_type": "execute_result"
    }
   ],
   "source": [
    "dfpisa_AF.head()"
   ]
  },
  {
   "cell_type": "code",
   "execution_count": 167,
   "id": "498e6d09",
   "metadata": {},
   "outputs": [
    {
     "data": {
      "text/plain": [
       "(2, 6)"
      ]
     },
     "execution_count": 167,
     "metadata": {},
     "output_type": "execute_result"
    }
   ],
   "source": [
    "dfpisa_AF.shape"
   ]
  },
  {
   "cell_type": "code",
   "execution_count": 168,
   "id": "c706c00c",
   "metadata": {},
   "outputs": [
    {
     "data": {
      "text/html": [
       "<div>\n",
       "<style scoped>\n",
       "    .dataframe tbody tr th:only-of-type {\n",
       "        vertical-align: middle;\n",
       "    }\n",
       "\n",
       "    .dataframe tbody tr th {\n",
       "        vertical-align: top;\n",
       "    }\n",
       "\n",
       "    .dataframe thead th {\n",
       "        text-align: right;\n",
       "    }\n",
       "</style>\n",
       "<table border=\"1\" class=\"dataframe\">\n",
       "  <thead>\n",
       "    <tr style=\"text-align: right;\">\n",
       "      <th></th>\n",
       "      <th>count</th>\n",
       "      <th>mean</th>\n",
       "      <th>std</th>\n",
       "      <th>min</th>\n",
       "      <th>25%</th>\n",
       "      <th>50%</th>\n",
       "      <th>75%</th>\n",
       "      <th>max</th>\n",
       "    </tr>\n",
       "  </thead>\n",
       "  <tbody>\n",
       "    <tr>\n",
       "      <th>internet_users_per_100</th>\n",
       "      <td>2.0</td>\n",
       "      <td>43.359918</td>\n",
       "      <td>7.297226</td>\n",
       "      <td>38.2000</td>\n",
       "      <td>40.779959</td>\n",
       "      <td>43.359918</td>\n",
       "      <td>45.939877</td>\n",
       "      <td>48.519836</td>\n",
       "    </tr>\n",
       "    <tr>\n",
       "      <th>Math</th>\n",
       "      <td>2.0</td>\n",
       "      <td>363.212100</td>\n",
       "      <td>5.099513</td>\n",
       "      <td>359.6062</td>\n",
       "      <td>361.409150</td>\n",
       "      <td>363.212100</td>\n",
       "      <td>365.015050</td>\n",
       "      <td>366.818000</td>\n",
       "    </tr>\n",
       "    <tr>\n",
       "      <th>Reading</th>\n",
       "      <td>2.0</td>\n",
       "      <td>355.457400</td>\n",
       "      <td>7.916909</td>\n",
       "      <td>349.8593</td>\n",
       "      <td>352.658350</td>\n",
       "      <td>355.457400</td>\n",
       "      <td>358.256450</td>\n",
       "      <td>361.055500</td>\n",
       "    </tr>\n",
       "    <tr>\n",
       "      <th>Science</th>\n",
       "      <td>2.0</td>\n",
       "      <td>381.074250</td>\n",
       "      <td>7.536556</td>\n",
       "      <td>375.7451</td>\n",
       "      <td>378.409675</td>\n",
       "      <td>381.074250</td>\n",
       "      <td>383.738825</td>\n",
       "      <td>386.403400</td>\n",
       "    </tr>\n",
       "  </tbody>\n",
       "</table>\n",
       "</div>"
      ],
      "text/plain": [
       "                        count        mean       std       min         25%  \\\n",
       "internet_users_per_100    2.0   43.359918  7.297226   38.2000   40.779959   \n",
       "Math                      2.0  363.212100  5.099513  359.6062  361.409150   \n",
       "Reading                   2.0  355.457400  7.916909  349.8593  352.658350   \n",
       "Science                   2.0  381.074250  7.536556  375.7451  378.409675   \n",
       "\n",
       "                               50%         75%         max  \n",
       "internet_users_per_100   43.359918   45.939877   48.519836  \n",
       "Math                    363.212100  365.015050  366.818000  \n",
       "Reading                 355.457400  358.256450  361.055500  \n",
       "Science                 381.074250  383.738825  386.403400  "
      ]
     },
     "execution_count": 168,
     "metadata": {},
     "output_type": "execute_result"
    }
   ],
   "source": [
    "dfpisa_AF.describe().T"
   ]
  },
  {
   "cell_type": "code",
   "execution_count": 169,
   "id": "74f0751f",
   "metadata": {},
   "outputs": [
    {
     "data": {
      "text/plain": [
       "internet_users_per_100    53.249507\n",
       "Math                      26.005030\n",
       "Reading                   62.677447\n",
       "Science                   56.799679\n",
       "dtype: float64"
      ]
     },
     "execution_count": 169,
     "metadata": {},
     "output_type": "execute_result"
    }
   ],
   "source": [
    "dfpisa_AF.var()"
   ]
  },
  {
   "cell_type": "markdown",
   "id": "73b40d28",
   "metadata": {},
   "source": [
    "\n",
    "### **(ii)Determine whether there is any difference (on the average) for the math scores among European (EU) and Asian (AS) countries (assume normality and equal variances). Draw side-by-side box plots.**"
   ]
  },
  {
   "cell_type": "markdown",
   "id": "bce995b5",
   "metadata": {},
   "source": [
    "#### normal dist assume so that's why we can not make shapiro analyz and other assume is equal varr. we understood from this explanation we can pass levene analyz."
   ]
  },
  {
   "cell_type": "markdown",
   "id": "ff13877a",
   "metadata": {},
   "source": [
    "buarada notlar yüksekte alcakta olabilir böylece two tailed kullanmalıyız. (-alpha/2, alpha/2 ).ayrıca buarada 2 independent grup var sampleların mean yada var. hakkında biligimiz var ama populasyonun sigmasını bilmiyoruz. bu nedenle Z uygulayamayız t testi uygulayacağız. \n",
    "\n",
    "other assum is ci=0.95\n",
    "\n",
    " h0: Meu=Mas\n",
    " \n",
    "h1: Meu!=Mas\n",
    "        "
   ]
  },
  {
   "cell_type": "code",
   "execution_count": 170,
   "id": "0964ea0a",
   "metadata": {},
   "outputs": [
    {
     "data": {
      "text/plain": [
       "0    413.1570\n",
       "4    496.7423\n",
       "5    506.9844\n",
       "6    441.1899\n",
       "9    521.2506\n",
       "Name: Math, dtype: float64"
      ]
     },
     "execution_count": 170,
     "metadata": {},
     "output_type": "execute_result"
    }
   ],
   "source": [
    "dfpisa_EU.Math.head()"
   ]
  },
  {
   "cell_type": "code",
   "execution_count": 171,
   "id": "40601a2f",
   "metadata": {},
   "outputs": [
    {
     "data": {
      "text/plain": [
       "1     427.4827\n",
       "11    531.2961\n",
       "25    403.8332\n",
       "27    547.9310\n",
       "30    386.1096\n",
       "Name: Math, dtype: float64"
      ]
     },
     "execution_count": 171,
     "metadata": {},
     "output_type": "execute_result"
    }
   ],
   "source": [
    "dfpisa_AS.Math.head()"
   ]
  },
  {
   "cell_type": "code",
   "execution_count": 172,
   "id": "13da6a3a",
   "metadata": {},
   "outputs": [
    {
     "data": {
      "text/plain": [
       "477.98144864864867"
      ]
     },
     "execution_count": 172,
     "metadata": {},
     "output_type": "execute_result"
    }
   ],
   "source": [
    "dfpisa_EU.Math.mean()"
   ]
  },
  {
   "cell_type": "code",
   "execution_count": 173,
   "id": "0b14c9e9",
   "metadata": {},
   "outputs": [
    {
     "data": {
      "text/plain": [
       "466.2166470588236"
      ]
     },
     "execution_count": 173,
     "metadata": {},
     "output_type": "execute_result"
    }
   ],
   "source": [
    "dfpisa_AS.Math.mean()"
   ]
  },
  {
   "cell_type": "code",
   "execution_count": 175,
   "id": "08dff168",
   "metadata": {},
   "outputs": [
    {
     "data": {
      "text/plain": [
       "Ttest_indResult(statistic=0.870055317967983, pvalue=0.38826888111307345)"
      ]
     },
     "execution_count": 175,
     "metadata": {},
     "output_type": "execute_result"
    }
   ],
   "source": [
    "twosample_pvalue=stats.ttest_ind(dfpisa_EU[\"Math\"], dfpisa_AS[\"Math\"], nan_policy='omit')\n",
    "twosample_pvalue"
   ]
  },
  {
   "cell_type": "code",
   "execution_count": 195,
   "id": "7ee063d4",
   "metadata": {},
   "outputs": [
    {
     "name": "stdout",
     "output_type": "stream",
     "text": [
      "At 0.025 level of significance, we fail to reject the null hypothesis.\n"
     ]
    }
   ],
   "source": [
    "alpha = 0.025\n",
    "p_value = twosample_pvalue[1]\n",
    "\n",
    "if p_value<alpha:\n",
    "    print('At {} level of significance, we can reject the null hypothesis in favor of the alternative hypothesis.'.format(alpha))\n",
    "else:\n",
    "    print('At {} level of significance, we fail to reject the null hypothesis.'.format(alpha))"
   ]
  },
  {
   "cell_type": "markdown",
   "id": "6b40a677",
   "metadata": {},
   "source": [
    "h0 fail to rejcet oldu. yani h0 doğruluğu devam etmektedir. yani eu ve as'nin math mean aynıdır. "
   ]
  },
  {
   "cell_type": "code",
   "execution_count": 196,
   "id": "1968259e",
   "metadata": {},
   "outputs": [
    {
     "data": {
      "text/plain": [
       "11.764801589825083"
      ]
     },
     "execution_count": 196,
     "metadata": {},
     "output_type": "execute_result"
    }
   ],
   "source": [
    "dfpisa_EU.Math.mean()-dfpisa_AS.Math.mean()"
   ]
  },
  {
   "cell_type": "markdown",
   "id": "69ac4b90",
   "metadata": {},
   "source": [
    "aslında basit matemetik ile yapıldığında 11.76 fark vark gözüküyor ama sample distribution of sample mean olarak incelediğimizde bu farkı göremedik aynı saydı."
   ]
  },
  {
   "cell_type": "markdown",
   "id": "c1684173",
   "metadata": {},
   "source": [
    "#### **EXERCISE 4.The sample dataset has placement test scores (out of 100 points) for four subject areas: English, Reading, Math, and Writing. Students in the sample completed all 4 placement tests when they enrolled in the university. Suppose we are particularly interested in the English and Math sections, and want to determine whether students tended to score higher on their English or Math test, on average. We could use a paired t test to test if there was a significant difference in the average of the two tests.**\n"
   ]
  },
  {
   "cell_type": "markdown",
   "id": "6805a2cd",
   "metadata": {},
   "source": [
    "buarada 2 biribirinden bağımlı (pair) grup var soruda bize t testi yapamamız belirtiliyor zaten populasyon varyansını bilmiyoruz(sigma)  z testi yapamayız. math ile eng arasında anlamlı bir fark var mı gibi 2 grup arasında farkın olup olmadığı sorgulandığı analizlerde pair(related analiz yöntemi kullanılır.)\n",
    "bu durumda hipotezlerimiz:\n",
    "    \n",
    "    h0: diff=0\n",
    "    \n",
    "    h1: diff != 0"
   ]
  },
  {
   "cell_type": "code",
   "execution_count": 197,
   "id": "4e4d1f99",
   "metadata": {},
   "outputs": [],
   "source": [
    "dfscor = pd.read_csv(\"students_2014.csv\", sep = \",\", na_values = \".\", index_col = 0)"
   ]
  },
  {
   "cell_type": "code",
   "execution_count": 198,
   "id": "7a4f1c64",
   "metadata": {},
   "outputs": [
    {
     "data": {
      "text/html": [
       "<div>\n",
       "<style scoped>\n",
       "    .dataframe tbody tr th:only-of-type {\n",
       "        vertical-align: middle;\n",
       "    }\n",
       "\n",
       "    .dataframe tbody tr th {\n",
       "        vertical-align: top;\n",
       "    }\n",
       "\n",
       "    .dataframe thead th {\n",
       "        text-align: right;\n",
       "    }\n",
       "</style>\n",
       "<table border=\"1\" class=\"dataframe\">\n",
       "  <thead>\n",
       "    <tr style=\"text-align: right;\">\n",
       "      <th></th>\n",
       "      <th>bday</th>\n",
       "      <th>enrolldate</th>\n",
       "      <th>expgradate</th>\n",
       "      <th>Rank</th>\n",
       "      <th>Major</th>\n",
       "      <th>Gender</th>\n",
       "      <th>Athlete</th>\n",
       "      <th>Height</th>\n",
       "      <th>Weight</th>\n",
       "      <th>Smoking</th>\n",
       "      <th>...</th>\n",
       "      <th>English</th>\n",
       "      <th>Reading</th>\n",
       "      <th>Math</th>\n",
       "      <th>Writing</th>\n",
       "      <th>State</th>\n",
       "      <th>LiveOnCampus</th>\n",
       "      <th>HowCommute</th>\n",
       "      <th>CommuteTime</th>\n",
       "      <th>SleepTime</th>\n",
       "      <th>StudyTime</th>\n",
       "    </tr>\n",
       "    <tr>\n",
       "      <th>ids</th>\n",
       "      <th></th>\n",
       "      <th></th>\n",
       "      <th></th>\n",
       "      <th></th>\n",
       "      <th></th>\n",
       "      <th></th>\n",
       "      <th></th>\n",
       "      <th></th>\n",
       "      <th></th>\n",
       "      <th></th>\n",
       "      <th></th>\n",
       "      <th></th>\n",
       "      <th></th>\n",
       "      <th></th>\n",
       "      <th></th>\n",
       "      <th></th>\n",
       "      <th></th>\n",
       "      <th></th>\n",
       "      <th></th>\n",
       "      <th></th>\n",
       "      <th></th>\n",
       "    </tr>\n",
       "  </thead>\n",
       "  <tbody>\n",
       "    <tr>\n",
       "      <th>43783</th>\n",
       "      <td>3/22/1995</td>\n",
       "      <td>NaN</td>\n",
       "      <td>NaN</td>\n",
       "      <td>NaN</td>\n",
       "      <td>NaN</td>\n",
       "      <td>0.0</td>\n",
       "      <td>0</td>\n",
       "      <td>72.35</td>\n",
       "      <td>NaN</td>\n",
       "      <td>0.0</td>\n",
       "      <td>...</td>\n",
       "      <td>88.24</td>\n",
       "      <td>81.50</td>\n",
       "      <td>60.02</td>\n",
       "      <td>81.44</td>\n",
       "      <td>In state</td>\n",
       "      <td>1.0</td>\n",
       "      <td>NaN</td>\n",
       "      <td>NaN</td>\n",
       "      <td>7.0</td>\n",
       "      <td>1.0</td>\n",
       "    </tr>\n",
       "    <tr>\n",
       "      <th>20278</th>\n",
       "      <td>1/1/1995</td>\n",
       "      <td>NaN</td>\n",
       "      <td>NaN</td>\n",
       "      <td>NaN</td>\n",
       "      <td>Philosophy</td>\n",
       "      <td>0.0</td>\n",
       "      <td>0</td>\n",
       "      <td>70.66</td>\n",
       "      <td>179.20</td>\n",
       "      <td>0.0</td>\n",
       "      <td>...</td>\n",
       "      <td>89.45</td>\n",
       "      <td>85.25</td>\n",
       "      <td>70.19</td>\n",
       "      <td>73.27</td>\n",
       "      <td>NaN</td>\n",
       "      <td>1.0</td>\n",
       "      <td>NaN</td>\n",
       "      <td>NaN</td>\n",
       "      <td>5.0</td>\n",
       "      <td>2.0</td>\n",
       "    </tr>\n",
       "    <tr>\n",
       "      <th>20389</th>\n",
       "      <td>12/31/1994</td>\n",
       "      <td>NaN</td>\n",
       "      <td>NaN</td>\n",
       "      <td>NaN</td>\n",
       "      <td>NaN</td>\n",
       "      <td>0.0</td>\n",
       "      <td>0</td>\n",
       "      <td>70.68</td>\n",
       "      <td>198.52</td>\n",
       "      <td>0.0</td>\n",
       "      <td>...</td>\n",
       "      <td>96.73</td>\n",
       "      <td>86.88</td>\n",
       "      <td>71.20</td>\n",
       "      <td>84.24</td>\n",
       "      <td>In state</td>\n",
       "      <td>NaN</td>\n",
       "      <td>NaN</td>\n",
       "      <td>NaN</td>\n",
       "      <td>8.0</td>\n",
       "      <td>7.0</td>\n",
       "    </tr>\n",
       "    <tr>\n",
       "      <th>22820</th>\n",
       "      <td>12/1/1994</td>\n",
       "      <td>NaN</td>\n",
       "      <td>NaN</td>\n",
       "      <td>NaN</td>\n",
       "      <td>business administration</td>\n",
       "      <td>1.0</td>\n",
       "      <td>0</td>\n",
       "      <td>NaN</td>\n",
       "      <td>198.34</td>\n",
       "      <td>NaN</td>\n",
       "      <td>...</td>\n",
       "      <td>74.06</td>\n",
       "      <td>88.68</td>\n",
       "      <td>55.89</td>\n",
       "      <td>73.16</td>\n",
       "      <td>In state</td>\n",
       "      <td>1.0</td>\n",
       "      <td>NaN</td>\n",
       "      <td>NaN</td>\n",
       "      <td>2.0</td>\n",
       "      <td>6.0</td>\n",
       "    </tr>\n",
       "    <tr>\n",
       "      <th>24559</th>\n",
       "      <td>11/10/1994</td>\n",
       "      <td>NaN</td>\n",
       "      <td>NaN</td>\n",
       "      <td>NaN</td>\n",
       "      <td>NaN</td>\n",
       "      <td>1.0</td>\n",
       "      <td>1</td>\n",
       "      <td>67.43</td>\n",
       "      <td>128.17</td>\n",
       "      <td>2.0</td>\n",
       "      <td>...</td>\n",
       "      <td>82.61</td>\n",
       "      <td>77.30</td>\n",
       "      <td>65.52</td>\n",
       "      <td>80.45</td>\n",
       "      <td>Out of state</td>\n",
       "      <td>1.0</td>\n",
       "      <td>NaN</td>\n",
       "      <td>NaN</td>\n",
       "      <td>7.0</td>\n",
       "      <td>3.0</td>\n",
       "    </tr>\n",
       "  </tbody>\n",
       "</table>\n",
       "<p>5 rows × 22 columns</p>\n",
       "</div>"
      ],
      "text/plain": [
       "             bday enrolldate expgradate  Rank                    Major  \\\n",
       "ids                                                                      \n",
       "43783   3/22/1995        NaN        NaN   NaN                      NaN   \n",
       "20278    1/1/1995        NaN        NaN   NaN               Philosophy   \n",
       "20389  12/31/1994        NaN        NaN   NaN                      NaN   \n",
       "22820   12/1/1994        NaN        NaN   NaN  business administration   \n",
       "24559  11/10/1994        NaN        NaN   NaN                      NaN   \n",
       "\n",
       "       Gender  Athlete  Height  Weight  Smoking  ...  English Reading   Math  \\\n",
       "ids                                              ...                           \n",
       "43783     0.0        0   72.35     NaN      0.0  ...    88.24   81.50  60.02   \n",
       "20278     0.0        0   70.66  179.20      0.0  ...    89.45   85.25  70.19   \n",
       "20389     0.0        0   70.68  198.52      0.0  ...    96.73   86.88  71.20   \n",
       "22820     1.0        0     NaN  198.34      NaN  ...    74.06   88.68  55.89   \n",
       "24559     1.0        1   67.43  128.17      2.0  ...    82.61   77.30  65.52   \n",
       "\n",
       "       Writing         State  LiveOnCampus HowCommute  CommuteTime  SleepTime  \\\n",
       "ids                                                                             \n",
       "43783    81.44      In state           1.0        NaN          NaN        7.0   \n",
       "20278    73.27           NaN           1.0        NaN          NaN        5.0   \n",
       "20389    84.24      In state           NaN        NaN          NaN        8.0   \n",
       "22820    73.16      In state           1.0        NaN          NaN        2.0   \n",
       "24559    80.45  Out of state           1.0        NaN          NaN        7.0   \n",
       "\n",
       "       StudyTime  \n",
       "ids               \n",
       "43783        1.0  \n",
       "20278        2.0  \n",
       "20389        7.0  \n",
       "22820        6.0  \n",
       "24559        3.0  \n",
       "\n",
       "[5 rows x 22 columns]"
      ]
     },
     "execution_count": 198,
     "metadata": {},
     "output_type": "execute_result"
    }
   ],
   "source": [
    "dfscor.head()"
   ]
  },
  {
   "cell_type": "code",
   "execution_count": 199,
   "id": "d699878f",
   "metadata": {},
   "outputs": [],
   "source": [
    "dfnew_scor=dfscor[[\"English\",\"Math\"]]"
   ]
  },
  {
   "cell_type": "code",
   "execution_count": 200,
   "id": "b395c11f",
   "metadata": {},
   "outputs": [
    {
     "data": {
      "text/html": [
       "<div>\n",
       "<style scoped>\n",
       "    .dataframe tbody tr th:only-of-type {\n",
       "        vertical-align: middle;\n",
       "    }\n",
       "\n",
       "    .dataframe tbody tr th {\n",
       "        vertical-align: top;\n",
       "    }\n",
       "\n",
       "    .dataframe thead th {\n",
       "        text-align: right;\n",
       "    }\n",
       "</style>\n",
       "<table border=\"1\" class=\"dataframe\">\n",
       "  <thead>\n",
       "    <tr style=\"text-align: right;\">\n",
       "      <th></th>\n",
       "      <th>English</th>\n",
       "      <th>Math</th>\n",
       "    </tr>\n",
       "    <tr>\n",
       "      <th>ids</th>\n",
       "      <th></th>\n",
       "      <th></th>\n",
       "    </tr>\n",
       "  </thead>\n",
       "  <tbody>\n",
       "    <tr>\n",
       "      <th>43783</th>\n",
       "      <td>88.24</td>\n",
       "      <td>60.02</td>\n",
       "    </tr>\n",
       "    <tr>\n",
       "      <th>20278</th>\n",
       "      <td>89.45</td>\n",
       "      <td>70.19</td>\n",
       "    </tr>\n",
       "    <tr>\n",
       "      <th>20389</th>\n",
       "      <td>96.73</td>\n",
       "      <td>71.20</td>\n",
       "    </tr>\n",
       "    <tr>\n",
       "      <th>22820</th>\n",
       "      <td>74.06</td>\n",
       "      <td>55.89</td>\n",
       "    </tr>\n",
       "    <tr>\n",
       "      <th>24559</th>\n",
       "      <td>82.61</td>\n",
       "      <td>65.52</td>\n",
       "    </tr>\n",
       "  </tbody>\n",
       "</table>\n",
       "</div>"
      ],
      "text/plain": [
       "       English   Math\n",
       "ids                  \n",
       "43783    88.24  60.02\n",
       "20278    89.45  70.19\n",
       "20389    96.73  71.20\n",
       "22820    74.06  55.89\n",
       "24559    82.61  65.52"
      ]
     },
     "execution_count": 200,
     "metadata": {},
     "output_type": "execute_result"
    }
   ],
   "source": [
    "dfnew_scor.head()"
   ]
  },
  {
   "cell_type": "code",
   "execution_count": 201,
   "id": "ed8c3518",
   "metadata": {},
   "outputs": [
    {
     "data": {
      "text/plain": [
       "(435, 2)"
      ]
     },
     "execution_count": 201,
     "metadata": {},
     "output_type": "execute_result"
    }
   ],
   "source": [
    "dfnew_scor.shape"
   ]
  },
  {
   "cell_type": "code",
   "execution_count": 202,
   "id": "5ee204d5",
   "metadata": {},
   "outputs": [
    {
     "data": {
      "text/html": [
       "<div>\n",
       "<style scoped>\n",
       "    .dataframe tbody tr th:only-of-type {\n",
       "        vertical-align: middle;\n",
       "    }\n",
       "\n",
       "    .dataframe tbody tr th {\n",
       "        vertical-align: top;\n",
       "    }\n",
       "\n",
       "    .dataframe thead th {\n",
       "        text-align: right;\n",
       "    }\n",
       "</style>\n",
       "<table border=\"1\" class=\"dataframe\">\n",
       "  <thead>\n",
       "    <tr style=\"text-align: right;\">\n",
       "      <th></th>\n",
       "      <th>count</th>\n",
       "      <th>mean</th>\n",
       "      <th>std</th>\n",
       "      <th>min</th>\n",
       "      <th>25%</th>\n",
       "      <th>50%</th>\n",
       "      <th>75%</th>\n",
       "      <th>max</th>\n",
       "    </tr>\n",
       "  </thead>\n",
       "  <tbody>\n",
       "    <tr>\n",
       "      <th>English</th>\n",
       "      <td>409.0</td>\n",
       "      <td>82.787555</td>\n",
       "      <td>6.839803</td>\n",
       "      <td>59.83</td>\n",
       "      <td>78.3300</td>\n",
       "      <td>83.150</td>\n",
       "      <td>87.1700</td>\n",
       "      <td>101.95</td>\n",
       "    </tr>\n",
       "    <tr>\n",
       "      <th>Math</th>\n",
       "      <td>422.0</td>\n",
       "      <td>65.468009</td>\n",
       "      <td>8.375930</td>\n",
       "      <td>35.32</td>\n",
       "      <td>60.2025</td>\n",
       "      <td>65.445</td>\n",
       "      <td>70.5675</td>\n",
       "      <td>93.78</td>\n",
       "    </tr>\n",
       "  </tbody>\n",
       "</table>\n",
       "</div>"
      ],
      "text/plain": [
       "         count       mean       std    min      25%     50%      75%     max\n",
       "English  409.0  82.787555  6.839803  59.83  78.3300  83.150  87.1700  101.95\n",
       "Math     422.0  65.468009  8.375930  35.32  60.2025  65.445  70.5675   93.78"
      ]
     },
     "execution_count": 202,
     "metadata": {},
     "output_type": "execute_result"
    }
   ],
   "source": [
    "dfnew_scor.describe().T"
   ]
  },
  {
   "cell_type": "code",
   "execution_count": 203,
   "id": "cdd0ac0e",
   "metadata": {},
   "outputs": [
    {
     "data": {
      "text/plain": [
       "English    46.782907\n",
       "Math       70.156196\n",
       "dtype: float64"
      ]
     },
     "execution_count": 203,
     "metadata": {},
     "output_type": "execute_result"
    }
   ],
   "source": [
    "dfnew_scor.var()"
   ]
  },
  {
   "cell_type": "code",
   "execution_count": 204,
   "id": "513bf69f",
   "metadata": {},
   "outputs": [
    {
     "data": {
      "text/plain": [
       "English    26\n",
       "Math       13\n",
       "dtype: int64"
      ]
     },
     "execution_count": 204,
     "metadata": {},
     "output_type": "execute_result"
    }
   ],
   "source": [
    "dfnew_scor.isnull().sum()"
   ]
  },
  {
   "cell_type": "code",
   "execution_count": 205,
   "id": "2b420f8f",
   "metadata": {},
   "outputs": [],
   "source": [
    "dfnew_scor=dfnew_scor.dropna()"
   ]
  },
  {
   "cell_type": "code",
   "execution_count": 206,
   "id": "a8cfeaad",
   "metadata": {},
   "outputs": [
    {
     "data": {
      "text/html": [
       "<div>\n",
       "<style scoped>\n",
       "    .dataframe tbody tr th:only-of-type {\n",
       "        vertical-align: middle;\n",
       "    }\n",
       "\n",
       "    .dataframe tbody tr th {\n",
       "        vertical-align: top;\n",
       "    }\n",
       "\n",
       "    .dataframe thead th {\n",
       "        text-align: right;\n",
       "    }\n",
       "</style>\n",
       "<table border=\"1\" class=\"dataframe\">\n",
       "  <thead>\n",
       "    <tr style=\"text-align: right;\">\n",
       "      <th></th>\n",
       "      <th>count</th>\n",
       "      <th>mean</th>\n",
       "      <th>std</th>\n",
       "      <th>min</th>\n",
       "      <th>25%</th>\n",
       "      <th>50%</th>\n",
       "      <th>75%</th>\n",
       "      <th>max</th>\n",
       "    </tr>\n",
       "  </thead>\n",
       "  <tbody>\n",
       "    <tr>\n",
       "      <th>English</th>\n",
       "      <td>398.0</td>\n",
       "      <td>82.744095</td>\n",
       "      <td>6.844801</td>\n",
       "      <td>59.83</td>\n",
       "      <td>78.2250</td>\n",
       "      <td>83.145</td>\n",
       "      <td>87.1650</td>\n",
       "      <td>101.95</td>\n",
       "    </tr>\n",
       "    <tr>\n",
       "      <th>Math</th>\n",
       "      <td>398.0</td>\n",
       "      <td>65.446834</td>\n",
       "      <td>8.462137</td>\n",
       "      <td>35.32</td>\n",
       "      <td>60.2025</td>\n",
       "      <td>65.495</td>\n",
       "      <td>70.5225</td>\n",
       "      <td>93.78</td>\n",
       "    </tr>\n",
       "  </tbody>\n",
       "</table>\n",
       "</div>"
      ],
      "text/plain": [
       "         count       mean       std    min      25%     50%      75%     max\n",
       "English  398.0  82.744095  6.844801  59.83  78.2250  83.145  87.1650  101.95\n",
       "Math     398.0  65.446834  8.462137  35.32  60.2025  65.495  70.5225   93.78"
      ]
     },
     "execution_count": 206,
     "metadata": {},
     "output_type": "execute_result"
    }
   ],
   "source": [
    "dfnew_scor.describe().T"
   ]
  },
  {
   "cell_type": "code",
   "execution_count": 207,
   "id": "d481bbb9",
   "metadata": {},
   "outputs": [
    {
     "data": {
      "text/plain": [
       "(398, 2)"
      ]
     },
     "execution_count": 207,
     "metadata": {},
     "output_type": "execute_result"
    }
   ],
   "source": [
    "dfnew_scor.shape"
   ]
  },
  {
   "cell_type": "code",
   "execution_count": 189,
   "id": "182c6f91",
   "metadata": {},
   "outputs": [
    {
     "data": {
      "text/html": [
       "<div>\n",
       "<style scoped>\n",
       "    .dataframe tbody tr th:only-of-type {\n",
       "        vertical-align: middle;\n",
       "    }\n",
       "\n",
       "    .dataframe tbody tr th {\n",
       "        vertical-align: top;\n",
       "    }\n",
       "\n",
       "    .dataframe thead th {\n",
       "        text-align: right;\n",
       "    }\n",
       "</style>\n",
       "<table border=\"1\" class=\"dataframe\">\n",
       "  <thead>\n",
       "    <tr style=\"text-align: right;\">\n",
       "      <th></th>\n",
       "      <th>English</th>\n",
       "      <th>Math</th>\n",
       "    </tr>\n",
       "    <tr>\n",
       "      <th>ids</th>\n",
       "      <th></th>\n",
       "      <th></th>\n",
       "    </tr>\n",
       "  </thead>\n",
       "  <tbody>\n",
       "    <tr>\n",
       "      <th>28044</th>\n",
       "      <td>85.18</td>\n",
       "      <td>73.09</td>\n",
       "    </tr>\n",
       "    <tr>\n",
       "      <th>39281</th>\n",
       "      <td>87.89</td>\n",
       "      <td>70.65</td>\n",
       "    </tr>\n",
       "    <tr>\n",
       "      <th>28053</th>\n",
       "      <td>88.16</td>\n",
       "      <td>58.27</td>\n",
       "    </tr>\n",
       "    <tr>\n",
       "      <th>36109</th>\n",
       "      <td>82.92</td>\n",
       "      <td>64.33</td>\n",
       "    </tr>\n",
       "  </tbody>\n",
       "</table>\n",
       "</div>"
      ],
      "text/plain": [
       "       English   Math\n",
       "ids                  \n",
       "28044    85.18  73.09\n",
       "39281    87.89  70.65\n",
       "28053    88.16  58.27\n",
       "36109    82.92  64.33"
      ]
     },
     "execution_count": 189,
     "metadata": {},
     "output_type": "execute_result"
    }
   ],
   "source": [
    "dfnew_scor.sample(4)"
   ]
  },
  {
   "cell_type": "code",
   "execution_count": 208,
   "id": "945ab951",
   "metadata": {},
   "outputs": [
    {
     "name": "stdout",
     "output_type": "stream",
     "text": [
      "Statistics=0.997, p=0.573\n",
      "Sample looks Gaussian (fail to reject H0)\n"
     ]
    }
   ],
   "source": [
    "stat,p=stats.shapiro(dfnew_scor[\"English\"])\n",
    "print('Statistics=%.3f, p=%.3f' % (stat, p))\n",
    "# interpret\n",
    "alpha = 0.025\n",
    "if p > alpha:\n",
    "\tprint('Sample looks Gaussian (fail to reject H0)')\n",
    "else:\n",
    "\tprint('Sample does not look Gaussian (reject H0)')"
   ]
  },
  {
   "cell_type": "code",
   "execution_count": 209,
   "id": "c64812f6",
   "metadata": {},
   "outputs": [
    {
     "name": "stdout",
     "output_type": "stream",
     "text": [
      "Statistics=0.994, p=0.157\n",
      "Sample looks Gaussian (fail to reject H0)\n"
     ]
    }
   ],
   "source": [
    "stat,p=stats.shapiro(dfnew_scor[\"Math\"])\n",
    "print('Statistics=%.3f, p=%.3f' % (stat, p))\n",
    "# interpret\n",
    "alpha = 0.025\n",
    "if p > alpha:\n",
    "\tprint('Sample looks Gaussian (fail to reject H0)')\n",
    "else:\n",
    "\tprint('Sample does not look Gaussian (reject H0)')"
   ]
  },
  {
   "cell_type": "markdown",
   "id": "a7997c44",
   "metadata": {},
   "source": [
    "shapiro analizindende anladığımız gibi iki grupta normal dist. yaklaşımına sahip."
   ]
  },
  {
   "cell_type": "code",
   "execution_count": 210,
   "id": "fb499080",
   "metadata": {},
   "outputs": [
    {
     "name": "stdout",
     "output_type": "stream",
     "text": [
      "Statistics=11.734, p=0.001\n",
      "The population variances of group 1 and 2 are not equal (reject H0)\n"
     ]
    }
   ],
   "source": [
    "stat,p=stats.levene(dfnew_scor[\"English\"], dfnew_scor[\"Math\"])\n",
    "print('Statistics=%.3f, p=%.3f' % (stat, p))\n",
    "# interpret\n",
    "alpha = 0.025\n",
    "if p > alpha:\n",
    "\tprint('The population variances of group 1 and 2 are equal (fail to reject H0)')\n",
    "else:\n",
    "\tprint('The population variances of group 1 and 2 are not equal (reject H0)')"
   ]
  },
  {
   "cell_type": "code",
   "execution_count": 211,
   "id": "ab39aaf2",
   "metadata": {},
   "outputs": [
    {
     "data": {
      "text/plain": [
       "Ttest_relResult(statistic=36.312568981719856, pvalue=3.0710987192210606e-128)"
      ]
     },
     "execution_count": 211,
     "metadata": {},
     "output_type": "execute_result"
    }
   ],
   "source": [
    "stats.ttest_rel(dfnew_scor[\"English\"], dfnew_scor[\"Math\"],nan_policy='omit')"
   ]
  },
  {
   "cell_type": "markdown",
   "id": "47790da6",
   "metadata": {},
   "source": [
    "çift taraflı analiz yapıyoruz alpha/2 den 0.025 ile karşılaştıracağız. bu durumda p value 0.025 'ten cok küçük oluğu için h0 reject edilir. yani arasında fark varmış math ile eneg arasında"
   ]
  },
  {
   "cell_type": "code",
   "execution_count": null,
   "id": "934bcff4",
   "metadata": {},
   "outputs": [],
   "source": []
  }
 ],
 "metadata": {
  "kernelspec": {
   "display_name": "Python 3 (ipykernel)",
   "language": "python",
   "name": "python3"
  },
  "language_info": {
   "codemirror_mode": {
    "name": "ipython",
    "version": 3
   },
   "file_extension": ".py",
   "mimetype": "text/x-python",
   "name": "python",
   "nbconvert_exporter": "python",
   "pygments_lexer": "ipython3",
   "version": "3.9.7"
  }
 },
 "nbformat": 4,
 "nbformat_minor": 5
}
