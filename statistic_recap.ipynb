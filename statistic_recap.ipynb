{
 "cells": [
  {
   "cell_type": "code",
   "execution_count": 1,
   "id": "2ef3d368",
   "metadata": {},
   "outputs": [],
   "source": [
    "import numpy as np\n",
    "from scipy import stats\n",
    "import matplotlib.pyplot as plt"
   ]
  },
  {
   "cell_type": "markdown",
   "id": "6a26ced6",
   "metadata": {},
   "source": [
    "PMF (Probability Mass Function- Olasılık Kütle Fonksiyonu) for discrete [nokta olasılığın bulunmasında kullanılıyor]\n",
    "\n",
    "PDF (Probability density  function at x) for continuous\n",
    "\n",
    "CDF (Cumulative distribution fuction) [ İnterval'ın olasılığı bulunmasının istendiğinde kullanılır. ]\n",
    "\n",
    "PPF (Percent point function (inverse of \"cdf\")) [CDF'in tersi olarak olasılığı verilen item'ın değeri bulunur]"
   ]
  },
  {
   "cell_type": "markdown",
   "id": "11d2ed1b",
   "metadata": {},
   "source": [
    "\n",
    "\n",
    "Ex1: The probability that a patient recovers from a stomach disease is 0.8.\n",
    "\n",
    "Suppose 20 people are known to have contracted this disease.\n",
    "\n",
    "What is the probability that"
   ]
  },
  {
   "cell_type": "markdown",
   "id": "9659b243",
   "metadata": {},
   "source": [
    "a. exactly 14 recover\n"
   ]
  },
  {
   "cell_type": "code",
   "execution_count": 4,
   "id": "5c7a3bea",
   "metadata": {},
   "outputs": [],
   "source": [
    "p=0.8\n",
    "n=20\n",
    "x=14"
   ]
  },
  {
   "cell_type": "markdown",
   "id": "071d11fe",
   "metadata": {},
   "source": [
    "Hastaların yüzde 80'i iyileşiyor. yani hastalığı atlatma olasılığı 0.8. Elimizde 20 tane hasta var. tam olarak 14 kişinin iyileşme olasılığı.\n",
    "Önünüze böyle bir soru geldiğinde; olasılık var (p), 20 insan var (n, trial). bu durumda nasıl bir olasılıktan bahsederiz. Binomial.\n",
    "\n",
    "Binomial dediğimiz zaman n (trial sayısı) ve p (başarı-succsess olasılığı) aklımıza gelmeli! \n",
    "( burada success'imiz hastalıktan iyileşme)\n",
    "\n",
    "Böyle bir deneyin expected value (beklenen deeğer) kaçtır? \n",
    "16 kişinin iyileşmesini bekleriz. (bir kişinin iyileşme olasılığı 0.8 ise 20 kişiden kaçı iyileşir?) 20 * 0.8 = 16\n",
    "\n",
    "bize tam olarak 14 kişinin iyileşme ihtimalini soruyor\n",
    " \n",
    " Soruda binomial bahsedildiğini anladık peki hangi metodu kullanmalıyız?\n",
    "--> PMF!!\n",
    "\n",
    "Discrete distributionlarda PMF (Probability Mass Function-Olasılık Kütle Fonksiyonu) kullanıyoruz.\n",
    "\n",
    "\"exactly\" kelimesi bana pmf kullanacağımı söylüyor. \n",
    "\n",
    "çünkü discrete distribution larda tam olarak belirli X değerlerinden bahsedebiliriz. continuous olduğunda aralıklarda işlem yapıyoruz! Burada ben tam olarak 14'ün karşılığını arıyorum."
   ]
  },
  {
   "cell_type": "code",
   "execution_count": 9,
   "id": "46bdcec7",
   "metadata": {},
   "outputs": [
    {
     "data": {
      "text/plain": [
       "0.10909970097305016"
      ]
     },
     "execution_count": 9,
     "metadata": {},
     "output_type": "execute_result"
    }
   ],
   "source": [
    "stats.binom.pmf(14, 20, 0.8)"
   ]
  },
  {
   "cell_type": "code",
   "execution_count": null,
   "id": "689abd1d",
   "metadata": {},
   "outputs": [],
   "source": [
    "b. at least  10 recover? "
   ]
  },
  {
   "cell_type": "code",
   "execution_count": 12,
   "id": "2a008616",
   "metadata": {},
   "outputs": [
    {
     "data": {
      "text/plain": [
       "0.9994365863023398"
      ]
     },
     "execution_count": 12,
     "metadata": {},
     "output_type": "execute_result"
    }
   ],
   "source": [
    "1-stats.binom.cdf(9, 20, 0.8) #10 dahil, 10'dan 20'e arıyorum"
   ]
  },
  {
   "cell_type": "markdown",
   "id": "80fdec86",
   "metadata": {},
   "source": [
    " c) at least 14 but not more 18 recover 14------18"
   ]
  },
  {
   "cell_type": "code",
   "execution_count": 17,
   "id": "a225ccd5",
   "metadata": {},
   "outputs": [
    {
     "data": {
      "text/plain": [
       "0.844132196156189"
      ]
     },
     "execution_count": 17,
     "metadata": {},
     "output_type": "execute_result"
    }
   ],
   "source": [
    "stats.binom.cdf(18, 20, 0.8)-stats.binom.cdf(13, 20, 0.8) #13 çıkarılark 14 dahildir."
   ]
  },
  {
   "cell_type": "code",
   "execution_count": 18,
   "id": "6e65dd16",
   "metadata": {},
   "outputs": [
    {
     "data": {
      "text/plain": [
       "0.8441321961561888"
      ]
     },
     "execution_count": 18,
     "metadata": {},
     "output_type": "execute_result"
    }
   ],
   "source": [
    "#second way\n",
    "stats.binom.pmf(14, 20 ,0.8) + stats.binom.pmf(15, 20 ,0.8) + stats.binom.pmf(16, 20 ,0.8) +stats.binom.pmf(17, 20 ,0.8) + stats.binom.pmf(18, 20 ,0.8) "
   ]
  },
  {
   "cell_type": "markdown",
   "id": "ec71b987",
   "metadata": {},
   "source": [
    "d. at most 16 recover? "
   ]
  },
  {
   "cell_type": "code",
   "execution_count": 19,
   "id": "fdbeae67",
   "metadata": {},
   "outputs": [
    {
     "data": {
      "text/plain": [
       "0.5885511380434314"
      ]
     },
     "execution_count": 19,
     "metadata": {},
     "output_type": "execute_result"
    }
   ],
   "source": [
    "stats.binom.cdf(16, 20, 0.8) # 16 dahil 1-----16"
   ]
  },
  {
   "cell_type": "markdown",
   "id": "1f06c447",
   "metadata": {},
   "source": [
    "e. Construct discrete probability distribution table and draw a grap"
   ]
  },
  {
   "cell_type": "code",
   "execution_count": 21,
   "id": "abfaaaac",
   "metadata": {},
   "outputs": [
    {
     "name": "stdout",
     "output_type": "stream",
     "text": [
      "0\t1.0485759999999954e-14\n",
      "1\t8.388607999999964e-13\n",
      "2\t3.187671039999986e-11\n",
      "3\t7.650410495999971e-10\n",
      "4\t1.3005697843199968e-08\n",
      "5\t1.664729323929596e-07\n",
      "6\t1.664729323929598e-06\n",
      "7\t1.3317834591436782e-05\n",
      "8\t8.656592484433914e-05\n",
      "9\t0.0004616849325031411\n",
      "10\t0.0020314137030138213\n",
      "11\t0.007386958920050267\n",
      "12\t0.02216087676015084\n",
      "13\t0.05454985048652511\n",
      "14\t0.10909970097305016\n",
      "15\t0.17455952155688043\n",
      "16\t0.2181994019461004\n",
      "17\t0.20536414300809458\n",
      "18\t0.13690942867206324\n",
      "19\t0.05764607523034235\n",
      "20\t0.011529215046068483\n"
     ]
    }
   ],
   "source": [
    "dist=[]\n",
    "for i in range(n+1):\n",
    "    dist.append(stats.binom.pmf(i, n, p))\n",
    "    print( str(i) +\"\\t\" + str(stats.binom.pmf(i, n, p)))"
   ]
  },
  {
   "cell_type": "code",
   "execution_count": 25,
   "id": "f1c30b40",
   "metadata": {},
   "outputs": [
    {
     "data": {
      "image/png": "[encoded data removed]",
      "text/plain": [
       "<Figure size 432x288 with 1 Axes>"
      ]
     },
     "metadata": {
      "needs_background": "light"
     },
     "output_type": "display_data"
    }
   ],
   "source": [
    "\n",
    "plt.bar(list(range(n+1)), dist )\n",
    "plt.show()"
   ]
  },
  {
   "cell_type": "markdown",
   "id": "74ffc347",
   "metadata": {},
   "source": [
    "Scores on an examination are assumed to be normally distributed with mean 78 and variance 36.\n",
    " What is the probability that a person taking the examination scores higher than 72?¶"
   ]
  },
  {
   "cell_type": "code",
   "execution_count": 28,
   "id": "2756fe68",
   "metadata": {},
   "outputs": [],
   "source": [
    "mu=78\n",
    "sigma= 36\n",
    "x=72"
   ]
  },
  {
   "cell_type": "code",
   "execution_count": 30,
   "id": "55bd01a2",
   "metadata": {},
   "outputs": [
    {
     "data": {
      "text/plain": [
       "0.8413447460685429"
      ]
     },
     "execution_count": 30,
     "metadata": {},
     "output_type": "execute_result"
    }
   ],
   "source": [
    "1-stats.norm.cdf(x, mu, 6)"
   ]
  },
  {
   "cell_type": "markdown",
   "id": "2527c573",
   "metadata": {},
   "source": [
    "b. Suppose that students scoring in the top 10% of this distribution are to receive an A grade.\n",
    "What is the minimum score a student must achieve to earn an A grade?"
   ]
  },
  {
   "cell_type": "markdown",
   "id": "0688f44a",
   "metadata": {},
   "source": [
    "10% lik kesime girenler A alıyorsa bu bir olasılıktır. olasılıktan yola çıkarak X değerini arıyorum.\n",
    "\n",
    "Bu soruda öyle bir X değerini arıyorum ki, o değerden sonraki alan dağılım grafiğinin %10'una eşit.  \n",
    "\n",
    "bunun için ppf kullanacağım\n",
    "ppf'in cdf'in tersidir.\n",
    "\n",
    "yani ppf() fonksiyounun içine cdf(X)'i (X'e kadar olan kümülatif toplam p'yi) koyarsan X değerine ulaşırsın.\n",
    "\n",
    "!!! cdf:  x değerini içine alır, ona kadar olan toplam p'yi verir\n",
    "!!! ppf:  x değerine kadar olan toplam p'yi içine alır, x değerini verir.\n",
    "\n",
    "p --> % olasılık"
   ]
  },
  {
   "cell_type": "code",
   "execution_count": 32,
   "id": "4e7a9f6c",
   "metadata": {},
   "outputs": [
    {
     "data": {
      "text/plain": [
       "85.6893093932676"
      ]
     },
     "execution_count": 32,
     "metadata": {},
     "output_type": "execute_result"
    }
   ],
   "source": [
    "stats.norm.ppf(0.9, mu, 6) # %10 girmek için en kaç alınmalı"
   ]
  },
  {
   "cell_type": "code",
   "execution_count": 33,
   "id": "1b501c8b",
   "metadata": {},
   "outputs": [
    {
     "data": {
      "text/plain": [
       "0.9772498680518208"
      ]
     },
     "execution_count": 33,
     "metadata": {},
     "output_type": "execute_result"
    }
   ],
   "source": [
    "stats.norm.cdf(90, mu, 6) #90'a kadar alınma olasılığı"
   ]
  },
  {
   "cell_type": "code",
   "execution_count": 35,
   "id": "ba2a3a29",
   "metadata": {},
   "outputs": [
    {
     "data": {
      "text/plain": [
       "0.008998494418864677"
      ]
     },
     "execution_count": 35,
     "metadata": {},
     "output_type": "execute_result"
    }
   ],
   "source": [
    "stats.norm.pdf(90, mu, 6) #90 alma olsılığı"
   ]
  },
  {
   "cell_type": "markdown",
   "id": "a8977dfc",
   "metadata": {},
   "source": [
    "c. What must be the cutoff point for passing the examination if the examiner wants only the top 28.1% of all scores to be passing?"
   ]
  },
  {
   "cell_type": "code",
   "execution_count": 39,
   "id": "d105ac65",
   "metadata": {},
   "outputs": [],
   "source": [
    "q=1-0.281"
   ]
  },
  {
   "cell_type": "code",
   "execution_count": 41,
   "id": "ecb95cd6",
   "metadata": {},
   "outputs": [
    {
     "data": {
      "text/plain": [
       "81.47924035456623"
      ]
     },
     "execution_count": 41,
     "metadata": {},
     "output_type": "execute_result"
    }
   ],
   "source": [
    "stats.norm.ppf(q, mu, 6)"
   ]
  },
  {
   "cell_type": "markdown",
   "id": "6ebf32a0",
   "metadata": {},
   "source": [
    "d. Approximately what proportion of students have scores 5 or more points above the score that cuts off the lowest 25%?"
   ]
  },
  {
   "cell_type": "code",
   "execution_count": 43,
   "id": "2b070af6",
   "metadata": {},
   "outputs": [
    {
     "data": {
      "text/plain": [
       "73.95306149882352"
      ]
     },
     "execution_count": 43,
     "metadata": {},
     "output_type": "execute_result"
    }
   ],
   "source": [
    "a=stats.norm.ppf(0.25, mu, 6)\n",
    "a"
   ]
  },
  {
   "cell_type": "code",
   "execution_count": 45,
   "id": "98c66b28",
   "metadata": {},
   "outputs": [
    {
     "data": {
      "text/plain": [
       "78.95306149882352"
      ]
     },
     "execution_count": 45,
     "metadata": {},
     "output_type": "execute_result"
    }
   ],
   "source": [
    "x=a+5\n",
    "x"
   ]
  },
  {
   "cell_type": "code",
   "execution_count": 47,
   "id": "99dff296",
   "metadata": {},
   "outputs": [
    {
     "data": {
      "text/plain": [
       "0.5631039448377338"
      ]
     },
     "execution_count": 47,
     "metadata": {},
     "output_type": "execute_result"
    }
   ],
   "source": [
    "stats.norm.cdf(x, mu, 6) #78.95 e kadar alanların yüzdesi"
   ]
  },
  {
   "cell_type": "code",
   "execution_count": 48,
   "id": "b37a1a35",
   "metadata": {},
   "outputs": [
    {
     "data": {
      "text/plain": [
       "0.43689605516226615"
      ]
     },
     "execution_count": 48,
     "metadata": {},
     "output_type": "execute_result"
    }
   ],
   "source": [
    "1-stats.norm.cdf(x, mu, 6) #78.95'ten fazla puan alanların yüzdeis"
   ]
  },
  {
   "cell_type": "markdown",
   "id": "ab231b00",
   "metadata": {},
   "source": [
    "OPTIONAL\n",
    "\n",
    "f. If it is known that a student’s score exceeds 72, what is the probability that his or her score exceeds 84?\n",
    "Eğer bir öğrencinin notu 72'yi aşıyorsa. bunun notunun 84'ü aşma olasılığı nedir? "
   ]
  },
  {
   "cell_type": "code",
   "execution_count": 52,
   "id": "e53d3b3a",
   "metadata": {},
   "outputs": [
    {
     "data": {
      "text/plain": [
       "0.15865525393145707"
      ]
     },
     "execution_count": 52,
     "metadata": {},
     "output_type": "execute_result"
    }
   ],
   "source": [
    "x1=stats.norm.cdf(72, mu, 6)\n",
    "x1"
   ]
  },
  {
   "cell_type": "code",
   "execution_count": 53,
   "id": "e4326551",
   "metadata": {},
   "outputs": [
    {
     "data": {
      "text/plain": [
       "0.8413447460685429"
      ]
     },
     "execution_count": 53,
     "metadata": {},
     "output_type": "execute_result"
    }
   ],
   "source": [
    "x2=stats.norm.cdf(84, mu, 6)\n",
    "x2"
   ]
  },
  {
   "cell_type": "code",
   "execution_count": 55,
   "id": "2e7543c6",
   "metadata": {},
   "outputs": [
    {
     "data": {
      "text/plain": [
       "0.8114265826549397"
      ]
     },
     "execution_count": 55,
     "metadata": {},
     "output_type": "execute_result"
    }
   ],
   "source": [
    "(x2-x1)/x2"
   ]
  },
  {
   "cell_type": "markdown",
   "id": "ae460475",
   "metadata": {},
   "source": [
    "For a t distribution with 15 degrees of freedom, 90% of the distribution is within how many standard deviations of the mean?"
   ]
  },
  {
   "cell_type": "markdown",
   "id": "654e64a9",
   "metadata": {},
   "source": [
    "15 serbestlik derecesi ile Ortalamadan sağa ve sola kaç standart sapma uzaklaşmam lazım ki ortada kalan alan datanın 90%'ını oluştursun? (veriler bu limitler arasında kalsın)"
   ]
  },
  {
   "cell_type": "code",
   "execution_count": 56,
   "id": "bd18a3e0",
   "metadata": {},
   "outputs": [],
   "source": [
    "dof=15\n",
    "q=0.95"
   ]
  },
  {
   "cell_type": "code",
   "execution_count": 57,
   "id": "3fbc8d45",
   "metadata": {},
   "outputs": [
    {
     "data": {
      "text/plain": [
       "1.7530503556925547"
      ]
     },
     "execution_count": 57,
     "metadata": {},
     "output_type": "execute_result"
    }
   ],
   "source": [
    "stats.t.ppf(0.95, 15)"
   ]
  },
  {
   "cell_type": "code",
   "execution_count": 59,
   "id": "882386ab",
   "metadata": {},
   "outputs": [
    {
     "data": {
      "text/plain": [
       "array([-5.        , -4.98998999, -4.97997998, -4.96996997, -4.95995996,\n",
       "       -4.94994995, -4.93993994, -4.92992993, -4.91991992, -4.90990991,\n",
       "       -4.8998999 , -4.88988989, -4.87987988, -4.86986987, -4.85985986,\n",
       "       -4.84984985, -4.83983984, -4.82982983, -4.81981982, -4.80980981,\n",
       "       -4.7997998 , -4.78978979, -4.77977978, -4.76976977, -4.75975976,\n",
       "       -4.74974975, -4.73973974, -4.72972973, -4.71971972, -4.70970971,\n",
       "       -4.6996997 , -4.68968969, -4.67967968, -4.66966967, -4.65965966,\n",
       "       -4.64964965, -4.63963964, -4.62962963, -4.61961962, -4.60960961,\n",
       "       -4.5995996 , -4.58958959, -4.57957958, -4.56956957, -4.55955956,\n",
       "       -4.54954955, -4.53953954, -4.52952953, -4.51951952, -4.50950951,\n",
       "       -4.4994995 , -4.48948949, -4.47947948, -4.46946947, -4.45945946,\n",
       "       -4.44944945, -4.43943944, -4.42942943, -4.41941942, -4.40940941,\n",
       "       -4.3993994 , -4.38938939, -4.37937938, -4.36936937, -4.35935936,\n",
       "       -4.34934935, -4.33933934, -4.32932933, -4.31931932, -4.30930931,\n",
       "       -4.2992993 , -4.28928929, -4.27927928, -4.26926927, -4.25925926,\n",
       "       -4.24924925, -4.23923924, -4.22922923, -4.21921922, -4.20920921,\n",
       "       -4.1991992 , -4.18918919, -4.17917918, -4.16916917, -4.15915916,\n",
       "       -4.14914915, -4.13913914, -4.12912913, -4.11911912, -4.10910911,\n",
       "       -4.0990991 , -4.08908909, -4.07907908, -4.06906907, -4.05905906,\n",
       "       -4.04904905, -4.03903904, -4.02902903, -4.01901902, -4.00900901,\n",
       "       -3.998999  , -3.98898899, -3.97897898, -3.96896897, -3.95895896,\n",
       "       -3.94894895, -3.93893894, -3.92892893, -3.91891892, -3.90890891,\n",
       "       -3.8988989 , -3.88888889, -3.87887888, -3.86886887, -3.85885886,\n",
       "       -3.84884885, -3.83883884, -3.82882883, -3.81881882, -3.80880881,\n",
       "       -3.7987988 , -3.78878879, -3.77877878, -3.76876877, -3.75875876,\n",
       "       -3.74874875, -3.73873874, -3.72872873, -3.71871872, -3.70870871,\n",
       "       -3.6986987 , -3.68868869, -3.67867868, -3.66866867, -3.65865866,\n",
       "       -3.64864865, -3.63863864, -3.62862863, -3.61861862, -3.60860861,\n",
       "       -3.5985986 , -3.58858859, -3.57857858, -3.56856857, -3.55855856,\n",
       "       -3.54854855, -3.53853854, -3.52852853, -3.51851852, -3.50850851,\n",
       "       -3.4984985 , -3.48848849, -3.47847848, -3.46846847, -3.45845846,\n",
       "       -3.44844845, -3.43843844, -3.42842843, -3.41841842, -3.40840841,\n",
       "       -3.3983984 , -3.38838839, -3.37837838, -3.36836837, -3.35835836,\n",
       "       -3.34834835, -3.33833834, -3.32832833, -3.31831832, -3.30830831,\n",
       "       -3.2982983 , -3.28828829, -3.27827828, -3.26826827, -3.25825826,\n",
       "       -3.24824825, -3.23823824, -3.22822823, -3.21821822, -3.20820821,\n",
       "       -3.1981982 , -3.18818819, -3.17817818, -3.16816817, -3.15815816,\n",
       "       -3.14814815, -3.13813814, -3.12812813, -3.11811812, -3.10810811,\n",
       "       -3.0980981 , -3.08808809, -3.07807808, -3.06806807, -3.05805806,\n",
       "       -3.04804805, -3.03803804, -3.02802803, -3.01801802, -3.00800801,\n",
       "       -2.997998  , -2.98798799, -2.97797798, -2.96796797, -2.95795796,\n",
       "       -2.94794795, -2.93793794, -2.92792793, -2.91791792, -2.90790791,\n",
       "       -2.8978979 , -2.88788789, -2.87787788, -2.86786787, -2.85785786,\n",
       "       -2.84784785, -2.83783784, -2.82782783, -2.81781782, -2.80780781,\n",
       "       -2.7977978 , -2.78778779, -2.77777778, -2.76776777, -2.75775776,\n",
       "       -2.74774775, -2.73773774, -2.72772773, -2.71771772, -2.70770771,\n",
       "       -2.6976977 , -2.68768769, -2.67767768, -2.66766767, -2.65765766,\n",
       "       -2.64764765, -2.63763764, -2.62762763, -2.61761762, -2.60760761,\n",
       "       -2.5975976 , -2.58758759, -2.57757758, -2.56756757, -2.55755756,\n",
       "       -2.54754755, -2.53753754, -2.52752753, -2.51751752, -2.50750751,\n",
       "       -2.4974975 , -2.48748749, -2.47747748, -2.46746747, -2.45745746,\n",
       "       -2.44744745, -2.43743744, -2.42742743, -2.41741742, -2.40740741,\n",
       "       -2.3973974 , -2.38738739, -2.37737738, -2.36736737, -2.35735736,\n",
       "       -2.34734735, -2.33733734, -2.32732733, -2.31731732, -2.30730731,\n",
       "       -2.2972973 , -2.28728729, -2.27727728, -2.26726727, -2.25725726,\n",
       "       -2.24724725, -2.23723724, -2.22722723, -2.21721722, -2.20720721,\n",
       "       -2.1971972 , -2.18718719, -2.17717718, -2.16716717, -2.15715716,\n",
       "       -2.14714715, -2.13713714, -2.12712713, -2.11711712, -2.10710711,\n",
       "       -2.0970971 , -2.08708709, -2.07707708, -2.06706707, -2.05705706,\n",
       "       -2.04704705, -2.03703704, -2.02702703, -2.01701702, -2.00700701,\n",
       "       -1.996997  , -1.98698699, -1.97697698, -1.96696697, -1.95695696,\n",
       "       -1.94694695, -1.93693694, -1.92692693, -1.91691692, -1.90690691,\n",
       "       -1.8968969 , -1.88688689, -1.87687688, -1.86686687, -1.85685686,\n",
       "       -1.84684685, -1.83683684, -1.82682683, -1.81681682, -1.80680681,\n",
       "       -1.7967968 , -1.78678679, -1.77677678, -1.76676677, -1.75675676,\n",
       "       -1.74674675, -1.73673674, -1.72672673, -1.71671672, -1.70670671,\n",
       "       -1.6966967 , -1.68668669, -1.67667668, -1.66666667, -1.65665666,\n",
       "       -1.64664665, -1.63663664, -1.62662663, -1.61661662, -1.60660661,\n",
       "       -1.5965966 , -1.58658659, -1.57657658, -1.56656657, -1.55655656,\n",
       "       -1.54654655, -1.53653654, -1.52652653, -1.51651652, -1.50650651,\n",
       "       -1.4964965 , -1.48648649, -1.47647648, -1.46646647, -1.45645646,\n",
       "       -1.44644645, -1.43643644, -1.42642643, -1.41641642, -1.40640641,\n",
       "       -1.3963964 , -1.38638639, -1.37637638, -1.36636637, -1.35635636,\n",
       "       -1.34634635, -1.33633634, -1.32632633, -1.31631632, -1.30630631,\n",
       "       -1.2962963 , -1.28628629, -1.27627628, -1.26626627, -1.25625626,\n",
       "       -1.24624625, -1.23623624, -1.22622623, -1.21621622, -1.20620621,\n",
       "       -1.1961962 , -1.18618619, -1.17617618, -1.16616617, -1.15615616,\n",
       "       -1.14614615, -1.13613614, -1.12612613, -1.11611612, -1.10610611,\n",
       "       -1.0960961 , -1.08608609, -1.07607608, -1.06606607, -1.05605606,\n",
       "       -1.04604605, -1.03603604, -1.02602603, -1.01601602, -1.00600601,\n",
       "       -0.995996  , -0.98598599, -0.97597598, -0.96596597, -0.95595596,\n",
       "       -0.94594595, -0.93593594, -0.92592593, -0.91591592, -0.90590591,\n",
       "       -0.8958959 , -0.88588589, -0.87587588, -0.86586587, -0.85585586,\n",
       "       -0.84584585, -0.83583584, -0.82582583, -0.81581582, -0.80580581,\n",
       "       -0.7957958 , -0.78578579, -0.77577578, -0.76576577, -0.75575576,\n",
       "       -0.74574575, -0.73573574, -0.72572573, -0.71571572, -0.70570571,\n",
       "       -0.6956957 , -0.68568569, -0.67567568, -0.66566567, -0.65565566,\n",
       "       -0.64564565, -0.63563564, -0.62562563, -0.61561562, -0.60560561,\n",
       "       -0.5955956 , -0.58558559, -0.57557558, -0.56556557, -0.55555556,\n",
       "       -0.54554555, -0.53553554, -0.52552553, -0.51551552, -0.50550551,\n",
       "       -0.4954955 , -0.48548549, -0.47547548, -0.46546547, -0.45545546,\n",
       "       -0.44544545, -0.43543544, -0.42542543, -0.41541542, -0.40540541,\n",
       "       -0.3953954 , -0.38538539, -0.37537538, -0.36536537, -0.35535536,\n",
       "       -0.34534535, -0.33533534, -0.32532533, -0.31531532, -0.30530531,\n",
       "       -0.2952953 , -0.28528529, -0.27527528, -0.26526527, -0.25525526,\n",
       "       -0.24524525, -0.23523524, -0.22522523, -0.21521522, -0.20520521,\n",
       "       -0.1951952 , -0.18518519, -0.17517518, -0.16516517, -0.15515516,\n",
       "       -0.14514515, -0.13513514, -0.12512513, -0.11511512, -0.10510511,\n",
       "       -0.0950951 , -0.08508509, -0.07507508, -0.06506507, -0.05505506,\n",
       "       -0.04504505, -0.03503504, -0.02502503, -0.01501502, -0.00500501,\n",
       "        0.00500501,  0.01501502,  0.02502503,  0.03503504,  0.04504505,\n",
       "        0.05505506,  0.06506507,  0.07507508,  0.08508509,  0.0950951 ,\n",
       "        0.10510511,  0.11511512,  0.12512513,  0.13513514,  0.14514515,\n",
       "        0.15515516,  0.16516517,  0.17517518,  0.18518519,  0.1951952 ,\n",
       "        0.20520521,  0.21521522,  0.22522523,  0.23523524,  0.24524525,\n",
       "        0.25525526,  0.26526527,  0.27527528,  0.28528529,  0.2952953 ,\n",
       "        0.30530531,  0.31531532,  0.32532533,  0.33533534,  0.34534535,\n",
       "        0.35535536,  0.36536537,  0.37537538,  0.38538539,  0.3953954 ,\n",
       "        0.40540541,  0.41541542,  0.42542543,  0.43543544,  0.44544545,\n",
       "        0.45545546,  0.46546547,  0.47547548,  0.48548549,  0.4954955 ,\n",
       "        0.50550551,  0.51551552,  0.52552553,  0.53553554,  0.54554555,\n",
       "        0.55555556,  0.56556557,  0.57557558,  0.58558559,  0.5955956 ,\n",
       "        0.60560561,  0.61561562,  0.62562563,  0.63563564,  0.64564565,\n",
       "        0.65565566,  0.66566567,  0.67567568,  0.68568569,  0.6956957 ,\n",
       "        0.70570571,  0.71571572,  0.72572573,  0.73573574,  0.74574575,\n",
       "        0.75575576,  0.76576577,  0.77577578,  0.78578579,  0.7957958 ,\n",
       "        0.80580581,  0.81581582,  0.82582583,  0.83583584,  0.84584585,\n",
       "        0.85585586,  0.86586587,  0.87587588,  0.88588589,  0.8958959 ,\n",
       "        0.90590591,  0.91591592,  0.92592593,  0.93593594,  0.94594595,\n",
       "        0.95595596,  0.96596597,  0.97597598,  0.98598599,  0.995996  ,\n",
       "        1.00600601,  1.01601602,  1.02602603,  1.03603604,  1.04604605,\n",
       "        1.05605606,  1.06606607,  1.07607608,  1.08608609,  1.0960961 ,\n",
       "        1.10610611,  1.11611612,  1.12612613,  1.13613614,  1.14614615,\n",
       "        1.15615616,  1.16616617,  1.17617618,  1.18618619,  1.1961962 ,\n",
       "        1.20620621,  1.21621622,  1.22622623,  1.23623624,  1.24624625,\n",
       "        1.25625626,  1.26626627,  1.27627628,  1.28628629,  1.2962963 ,\n",
       "        1.30630631,  1.31631632,  1.32632633,  1.33633634,  1.34634635,\n",
       "        1.35635636,  1.36636637,  1.37637638,  1.38638639,  1.3963964 ,\n",
       "        1.40640641,  1.41641642,  1.42642643,  1.43643644,  1.44644645,\n",
       "        1.45645646,  1.46646647,  1.47647648,  1.48648649,  1.4964965 ,\n",
       "        1.50650651,  1.51651652,  1.52652653,  1.53653654,  1.54654655,\n",
       "        1.55655656,  1.56656657,  1.57657658,  1.58658659,  1.5965966 ,\n",
       "        1.60660661,  1.61661662,  1.62662663,  1.63663664,  1.64664665,\n",
       "        1.65665666,  1.66666667,  1.67667668,  1.68668669,  1.6966967 ,\n",
       "        1.70670671,  1.71671672,  1.72672673,  1.73673674,  1.74674675,\n",
       "        1.75675676,  1.76676677,  1.77677678,  1.78678679,  1.7967968 ,\n",
       "        1.80680681,  1.81681682,  1.82682683,  1.83683684,  1.84684685,\n",
       "        1.85685686,  1.86686687,  1.87687688,  1.88688689,  1.8968969 ,\n",
       "        1.90690691,  1.91691692,  1.92692693,  1.93693694,  1.94694695,\n",
       "        1.95695696,  1.96696697,  1.97697698,  1.98698699,  1.996997  ,\n",
       "        2.00700701,  2.01701702,  2.02702703,  2.03703704,  2.04704705,\n",
       "        2.05705706,  2.06706707,  2.07707708,  2.08708709,  2.0970971 ,\n",
       "        2.10710711,  2.11711712,  2.12712713,  2.13713714,  2.14714715,\n",
       "        2.15715716,  2.16716717,  2.17717718,  2.18718719,  2.1971972 ,\n",
       "        2.20720721,  2.21721722,  2.22722723,  2.23723724,  2.24724725,\n",
       "        2.25725726,  2.26726727,  2.27727728,  2.28728729,  2.2972973 ,\n",
       "        2.30730731,  2.31731732,  2.32732733,  2.33733734,  2.34734735,\n",
       "        2.35735736,  2.36736737,  2.37737738,  2.38738739,  2.3973974 ,\n",
       "        2.40740741,  2.41741742,  2.42742743,  2.43743744,  2.44744745,\n",
       "        2.45745746,  2.46746747,  2.47747748,  2.48748749,  2.4974975 ,\n",
       "        2.50750751,  2.51751752,  2.52752753,  2.53753754,  2.54754755,\n",
       "        2.55755756,  2.56756757,  2.57757758,  2.58758759,  2.5975976 ,\n",
       "        2.60760761,  2.61761762,  2.62762763,  2.63763764,  2.64764765,\n",
       "        2.65765766,  2.66766767,  2.67767768,  2.68768769,  2.6976977 ,\n",
       "        2.70770771,  2.71771772,  2.72772773,  2.73773774,  2.74774775,\n",
       "        2.75775776,  2.76776777,  2.77777778,  2.78778779,  2.7977978 ,\n",
       "        2.80780781,  2.81781782,  2.82782783,  2.83783784,  2.84784785,\n",
       "        2.85785786,  2.86786787,  2.87787788,  2.88788789,  2.8978979 ,\n",
       "        2.90790791,  2.91791792,  2.92792793,  2.93793794,  2.94794795,\n",
       "        2.95795796,  2.96796797,  2.97797798,  2.98798799,  2.997998  ,\n",
       "        3.00800801,  3.01801802,  3.02802803,  3.03803804,  3.04804805,\n",
       "        3.05805806,  3.06806807,  3.07807808,  3.08808809,  3.0980981 ,\n",
       "        3.10810811,  3.11811812,  3.12812813,  3.13813814,  3.14814815,\n",
       "        3.15815816,  3.16816817,  3.17817818,  3.18818819,  3.1981982 ,\n",
       "        3.20820821,  3.21821822,  3.22822823,  3.23823824,  3.24824825,\n",
       "        3.25825826,  3.26826827,  3.27827828,  3.28828829,  3.2982983 ,\n",
       "        3.30830831,  3.31831832,  3.32832833,  3.33833834,  3.34834835,\n",
       "        3.35835836,  3.36836837,  3.37837838,  3.38838839,  3.3983984 ,\n",
       "        3.40840841,  3.41841842,  3.42842843,  3.43843844,  3.44844845,\n",
       "        3.45845846,  3.46846847,  3.47847848,  3.48848849,  3.4984985 ,\n",
       "        3.50850851,  3.51851852,  3.52852853,  3.53853854,  3.54854855,\n",
       "        3.55855856,  3.56856857,  3.57857858,  3.58858859,  3.5985986 ,\n",
       "        3.60860861,  3.61861862,  3.62862863,  3.63863864,  3.64864865,\n",
       "        3.65865866,  3.66866867,  3.67867868,  3.68868869,  3.6986987 ,\n",
       "        3.70870871,  3.71871872,  3.72872873,  3.73873874,  3.74874875,\n",
       "        3.75875876,  3.76876877,  3.77877878,  3.78878879,  3.7987988 ,\n",
       "        3.80880881,  3.81881882,  3.82882883,  3.83883884,  3.84884885,\n",
       "        3.85885886,  3.86886887,  3.87887888,  3.88888889,  3.8988989 ,\n",
       "        3.90890891,  3.91891892,  3.92892893,  3.93893894,  3.94894895,\n",
       "        3.95895896,  3.96896897,  3.97897898,  3.98898899,  3.998999  ,\n",
       "        4.00900901,  4.01901902,  4.02902903,  4.03903904,  4.04904905,\n",
       "        4.05905906,  4.06906907,  4.07907908,  4.08908909,  4.0990991 ,\n",
       "        4.10910911,  4.11911912,  4.12912913,  4.13913914,  4.14914915,\n",
       "        4.15915916,  4.16916917,  4.17917918,  4.18918919,  4.1991992 ,\n",
       "        4.20920921,  4.21921922,  4.22922923,  4.23923924,  4.24924925,\n",
       "        4.25925926,  4.26926927,  4.27927928,  4.28928929,  4.2992993 ,\n",
       "        4.30930931,  4.31931932,  4.32932933,  4.33933934,  4.34934935,\n",
       "        4.35935936,  4.36936937,  4.37937938,  4.38938939,  4.3993994 ,\n",
       "        4.40940941,  4.41941942,  4.42942943,  4.43943944,  4.44944945,\n",
       "        4.45945946,  4.46946947,  4.47947948,  4.48948949,  4.4994995 ,\n",
       "        4.50950951,  4.51951952,  4.52952953,  4.53953954,  4.54954955,\n",
       "        4.55955956,  4.56956957,  4.57957958,  4.58958959,  4.5995996 ,\n",
       "        4.60960961,  4.61961962,  4.62962963,  4.63963964,  4.64964965,\n",
       "        4.65965966,  4.66966967,  4.67967968,  4.68968969,  4.6996997 ,\n",
       "        4.70970971,  4.71971972,  4.72972973,  4.73973974,  4.74974975,\n",
       "        4.75975976,  4.76976977,  4.77977978,  4.78978979,  4.7997998 ,\n",
       "        4.80980981,  4.81981982,  4.82982983,  4.83983984,  4.84984985,\n",
       "        4.85985986,  4.86986987,  4.87987988,  4.88988989,  4.8998999 ,\n",
       "        4.90990991,  4.91991992,  4.92992993,  4.93993994,  4.94994995,\n",
       "        4.95995996,  4.96996997,  4.97997998,  4.98998999,  5.        ])"
      ]
     },
     "execution_count": 59,
     "metadata": {},
     "output_type": "execute_result"
    }
   ],
   "source": [
    "xs= np.linspace(-5,5,1000)\n",
    "xs"
   ]
  },
  {
   "cell_type": "code",
   "execution_count": 63,
   "id": "4cfce92d",
   "metadata": {},
   "outputs": [
    {
     "data": {
      "image/png": "[encoded data removed]",
      "text/plain": [
       "<Figure size 432x288 with 1 Axes>"
      ]
     },
     "metadata": {
      "needs_background": "light"
     },
     "output_type": "display_data"
    }
   ],
   "source": [
    "plt.plot(xs, stats.t.pdf(xs,3), \"b\", label=\"t-dist(df=3)\")\n",
    "plt.plot(xs, stats.norm.pdf(xs), \"k\", label=\"norm_dist\")\n",
    "plt.legend();"
   ]
  },
  {
   "cell_type": "code",
   "execution_count": 65,
   "id": "554787a1",
   "metadata": {},
   "outputs": [
    {
     "data": {
      "image/png": "[encoded data removed]",
      "text/plain": [
       "<Figure size 864x576 with 1 Axes>"
      ]
     },
     "metadata": {
      "needs_background": "light"
     },
     "output_type": "display_data"
    }
   ],
   "source": [
    "plt.figure(figsize=(12,8))\n",
    "xs = np.linspace(-5,5,1000)\n",
    "plt.plot(xs, stats.t.pdf(xs,3), \"b\", label = \"t-dist (df=3)\")\n",
    "plt.plot(xs, stats.t.pdf(xs,5), \"g\", label = \"t-dist (df=5)\")\n",
    "plt.plot(xs, stats.t.pdf(xs,15), \"m\", label = \"t-dist (df=15)\")\n",
    "plt.plot(xs, stats.norm.pdf(xs), \"k\", label = \"norm-dist\")\n",
    "plt.legend();"
   ]
  },
  {
   "cell_type": "code",
   "execution_count": 67,
   "id": "b27d2618",
   "metadata": {},
   "outputs": [
    {
     "data": {
      "image/png": "[encoded data removed]",
      "text/plain": [
       "<Figure size 864x576 with 1 Axes>"
      ]
     },
     "metadata": {
      "needs_background": "light"
     },
     "output_type": "display_data"
    }
   ],
   "source": [
    "\n",
    "plt.figure(figsize=(12,8))\n",
    "xs = np.linspace(-5,5,1000)\n",
    "plt.plot(xs, stats.t.pdf(xs,3), \"b\", label = \"t-dist (df=3)\")\n",
    "plt.plot(xs, stats.t.pdf(xs,5), \"g\", label = \"t-dist (df=5)\")\n",
    "plt.plot(xs, stats.t.pdf(xs,15), \"m\", label = \"t-dist (df=15)\")\n",
    "plt.plot(xs, stats.t.pdf(xs,30), \"m\", label = \"t-dist (df=30)\")\n",
    "plt.plot(xs, stats.norm.pdf(xs), \"k\", label = \"norm-dist\")\n",
    "plt.legend();"
   ]
  },
  {
   "cell_type": "markdown",
   "id": "f0917bb9",
   "metadata": {},
   "source": [
    "Confidence Intervals Using the Normal Distribution"
   ]
  },
  {
   "cell_type": "code",
   "execution_count": 70,
   "id": "bf16cf08",
   "metadata": {},
   "outputs": [
    {
     "data": {
      "text/html": [
       "<div>\n",
       "<style scoped>\n",
       "    .dataframe tbody tr th:only-of-type {\n",
       "        vertical-align: middle;\n",
       "    }\n",
       "\n",
       "    .dataframe tbody tr th {\n",
       "        vertical-align: top;\n",
       "    }\n",
       "\n",
       "    .dataframe thead th {\n",
       "        text-align: right;\n",
       "    }\n",
       "</style>\n",
       "<table border=\"1\" class=\"dataframe\">\n",
       "  <thead>\n",
       "    <tr style=\"text-align: right;\">\n",
       "      <th></th>\n",
       "      <th>total_bill</th>\n",
       "      <th>tip</th>\n",
       "      <th>sex</th>\n",
       "      <th>smoker</th>\n",
       "      <th>day</th>\n",
       "      <th>time</th>\n",
       "      <th>size</th>\n",
       "    </tr>\n",
       "  </thead>\n",
       "  <tbody>\n",
       "    <tr>\n",
       "      <th>0</th>\n",
       "      <td>16.99</td>\n",
       "      <td>1.01</td>\n",
       "      <td>Female</td>\n",
       "      <td>No</td>\n",
       "      <td>Sun</td>\n",
       "      <td>Dinner</td>\n",
       "      <td>2</td>\n",
       "    </tr>\n",
       "    <tr>\n",
       "      <th>1</th>\n",
       "      <td>10.34</td>\n",
       "      <td>1.66</td>\n",
       "      <td>Male</td>\n",
       "      <td>No</td>\n",
       "      <td>Sun</td>\n",
       "      <td>Dinner</td>\n",
       "      <td>3</td>\n",
       "    </tr>\n",
       "    <tr>\n",
       "      <th>2</th>\n",
       "      <td>21.01</td>\n",
       "      <td>3.50</td>\n",
       "      <td>Male</td>\n",
       "      <td>No</td>\n",
       "      <td>Sun</td>\n",
       "      <td>Dinner</td>\n",
       "      <td>3</td>\n",
       "    </tr>\n",
       "    <tr>\n",
       "      <th>3</th>\n",
       "      <td>23.68</td>\n",
       "      <td>3.31</td>\n",
       "      <td>Male</td>\n",
       "      <td>No</td>\n",
       "      <td>Sun</td>\n",
       "      <td>Dinner</td>\n",
       "      <td>2</td>\n",
       "    </tr>\n",
       "    <tr>\n",
       "      <th>4</th>\n",
       "      <td>24.59</td>\n",
       "      <td>3.61</td>\n",
       "      <td>Female</td>\n",
       "      <td>No</td>\n",
       "      <td>Sun</td>\n",
       "      <td>Dinner</td>\n",
       "      <td>4</td>\n",
       "    </tr>\n",
       "    <tr>\n",
       "      <th>...</th>\n",
       "      <td>...</td>\n",
       "      <td>...</td>\n",
       "      <td>...</td>\n",
       "      <td>...</td>\n",
       "      <td>...</td>\n",
       "      <td>...</td>\n",
       "      <td>...</td>\n",
       "    </tr>\n",
       "    <tr>\n",
       "      <th>239</th>\n",
       "      <td>29.03</td>\n",
       "      <td>5.92</td>\n",
       "      <td>Male</td>\n",
       "      <td>No</td>\n",
       "      <td>Sat</td>\n",
       "      <td>Dinner</td>\n",
       "      <td>3</td>\n",
       "    </tr>\n",
       "    <tr>\n",
       "      <th>240</th>\n",
       "      <td>27.18</td>\n",
       "      <td>2.00</td>\n",
       "      <td>Female</td>\n",
       "      <td>Yes</td>\n",
       "      <td>Sat</td>\n",
       "      <td>Dinner</td>\n",
       "      <td>2</td>\n",
       "    </tr>\n",
       "    <tr>\n",
       "      <th>241</th>\n",
       "      <td>22.67</td>\n",
       "      <td>2.00</td>\n",
       "      <td>Male</td>\n",
       "      <td>Yes</td>\n",
       "      <td>Sat</td>\n",
       "      <td>Dinner</td>\n",
       "      <td>2</td>\n",
       "    </tr>\n",
       "    <tr>\n",
       "      <th>242</th>\n",
       "      <td>17.82</td>\n",
       "      <td>1.75</td>\n",
       "      <td>Male</td>\n",
       "      <td>No</td>\n",
       "      <td>Sat</td>\n",
       "      <td>Dinner</td>\n",
       "      <td>2</td>\n",
       "    </tr>\n",
       "    <tr>\n",
       "      <th>243</th>\n",
       "      <td>18.78</td>\n",
       "      <td>3.00</td>\n",
       "      <td>Female</td>\n",
       "      <td>No</td>\n",
       "      <td>Thur</td>\n",
       "      <td>Dinner</td>\n",
       "      <td>2</td>\n",
       "    </tr>\n",
       "  </tbody>\n",
       "</table>\n",
       "<p>244 rows × 7 columns</p>\n",
       "</div>"
      ],
      "text/plain": [
       "     total_bill   tip     sex smoker   day    time  size\n",
       "0         16.99  1.01  Female     No   Sun  Dinner     2\n",
       "1         10.34  1.66    Male     No   Sun  Dinner     3\n",
       "2         21.01  3.50    Male     No   Sun  Dinner     3\n",
       "3         23.68  3.31    Male     No   Sun  Dinner     2\n",
       "4         24.59  3.61  Female     No   Sun  Dinner     4\n",
       "..          ...   ...     ...    ...   ...     ...   ...\n",
       "239       29.03  5.92    Male     No   Sat  Dinner     3\n",
       "240       27.18  2.00  Female    Yes   Sat  Dinner     2\n",
       "241       22.67  2.00    Male    Yes   Sat  Dinner     2\n",
       "242       17.82  1.75    Male     No   Sat  Dinner     2\n",
       "243       18.78  3.00  Female     No  Thur  Dinner     2\n",
       "\n",
       "[244 rows x 7 columns]"
      ]
     },
     "execution_count": 70,
     "metadata": {},
     "output_type": "execute_result"
    }
   ],
   "source": [
    "import seaborn as sns\n",
    "tips=sns.load_dataset(\"tips\")\n",
    "tips"
   ]
  },
  {
   "cell_type": "code",
   "execution_count": 72,
   "id": "df40018d",
   "metadata": {},
   "outputs": [
    {
     "data": {
      "image/png": "[encoded data removed]",
      "text/plain": [
       "<Figure size 432x288 with 1 Axes>"
      ]
     },
     "metadata": {
      "needs_background": "light"
     },
     "output_type": "display_data"
    }
   ],
   "source": [
    "sns.barplot(data=tips, x=\"day\", y=\"total_bill\");"
   ]
  },
  {
   "cell_type": "markdown",
   "id": "01fd193a",
   "metadata": {},
   "source": [
    "Güven aralığını Ci büyütürsem çubukların boyları uzayacaktır. \n",
    "Daha yüksek bir güvenilirlik demek daha büyük bir aralık demek, daha büyük bir aralığı kabul etmek durumundayım. (mean, 95 % olasılıkla 100-150 aralığında ise, tabi ki bunun 90-180 aralığında olma ihtimali daha yüksek olur.)  "
   ]
  },
  {
   "cell_type": "code",
   "execution_count": 73,
   "id": "dc9545b6",
   "metadata": {},
   "outputs": [
    {
     "data": {
      "text/html": [
       "<div>\n",
       "<style scoped>\n",
       "    .dataframe tbody tr th:only-of-type {\n",
       "        vertical-align: middle;\n",
       "    }\n",
       "\n",
       "    .dataframe tbody tr th {\n",
       "        vertical-align: top;\n",
       "    }\n",
       "\n",
       "    .dataframe thead th {\n",
       "        text-align: right;\n",
       "    }\n",
       "</style>\n",
       "<table border=\"1\" class=\"dataframe\">\n",
       "  <thead>\n",
       "    <tr style=\"text-align: right;\">\n",
       "      <th></th>\n",
       "      <th>total_bill</th>\n",
       "      <th>tip</th>\n",
       "      <th>sex</th>\n",
       "      <th>smoker</th>\n",
       "      <th>day</th>\n",
       "      <th>time</th>\n",
       "      <th>size</th>\n",
       "    </tr>\n",
       "  </thead>\n",
       "  <tbody>\n",
       "    <tr>\n",
       "      <th>0</th>\n",
       "      <td>16.99</td>\n",
       "      <td>1.01</td>\n",
       "      <td>Female</td>\n",
       "      <td>No</td>\n",
       "      <td>Sun</td>\n",
       "      <td>Dinner</td>\n",
       "      <td>2</td>\n",
       "    </tr>\n",
       "    <tr>\n",
       "      <th>1</th>\n",
       "      <td>10.34</td>\n",
       "      <td>1.66</td>\n",
       "      <td>Male</td>\n",
       "      <td>No</td>\n",
       "      <td>Sun</td>\n",
       "      <td>Dinner</td>\n",
       "      <td>3</td>\n",
       "    </tr>\n",
       "    <tr>\n",
       "      <th>2</th>\n",
       "      <td>21.01</td>\n",
       "      <td>3.50</td>\n",
       "      <td>Male</td>\n",
       "      <td>No</td>\n",
       "      <td>Sun</td>\n",
       "      <td>Dinner</td>\n",
       "      <td>3</td>\n",
       "    </tr>\n",
       "    <tr>\n",
       "      <th>3</th>\n",
       "      <td>23.68</td>\n",
       "      <td>3.31</td>\n",
       "      <td>Male</td>\n",
       "      <td>No</td>\n",
       "      <td>Sun</td>\n",
       "      <td>Dinner</td>\n",
       "      <td>2</td>\n",
       "    </tr>\n",
       "    <tr>\n",
       "      <th>4</th>\n",
       "      <td>24.59</td>\n",
       "      <td>3.61</td>\n",
       "      <td>Female</td>\n",
       "      <td>No</td>\n",
       "      <td>Sun</td>\n",
       "      <td>Dinner</td>\n",
       "      <td>4</td>\n",
       "    </tr>\n",
       "    <tr>\n",
       "      <th>...</th>\n",
       "      <td>...</td>\n",
       "      <td>...</td>\n",
       "      <td>...</td>\n",
       "      <td>...</td>\n",
       "      <td>...</td>\n",
       "      <td>...</td>\n",
       "      <td>...</td>\n",
       "    </tr>\n",
       "    <tr>\n",
       "      <th>186</th>\n",
       "      <td>20.90</td>\n",
       "      <td>3.50</td>\n",
       "      <td>Female</td>\n",
       "      <td>Yes</td>\n",
       "      <td>Sun</td>\n",
       "      <td>Dinner</td>\n",
       "      <td>3</td>\n",
       "    </tr>\n",
       "    <tr>\n",
       "      <th>187</th>\n",
       "      <td>30.46</td>\n",
       "      <td>2.00</td>\n",
       "      <td>Male</td>\n",
       "      <td>Yes</td>\n",
       "      <td>Sun</td>\n",
       "      <td>Dinner</td>\n",
       "      <td>5</td>\n",
       "    </tr>\n",
       "    <tr>\n",
       "      <th>188</th>\n",
       "      <td>18.15</td>\n",
       "      <td>3.50</td>\n",
       "      <td>Female</td>\n",
       "      <td>Yes</td>\n",
       "      <td>Sun</td>\n",
       "      <td>Dinner</td>\n",
       "      <td>3</td>\n",
       "    </tr>\n",
       "    <tr>\n",
       "      <th>189</th>\n",
       "      <td>23.10</td>\n",
       "      <td>4.00</td>\n",
       "      <td>Male</td>\n",
       "      <td>Yes</td>\n",
       "      <td>Sun</td>\n",
       "      <td>Dinner</td>\n",
       "      <td>3</td>\n",
       "    </tr>\n",
       "    <tr>\n",
       "      <th>190</th>\n",
       "      <td>15.69</td>\n",
       "      <td>1.50</td>\n",
       "      <td>Male</td>\n",
       "      <td>Yes</td>\n",
       "      <td>Sun</td>\n",
       "      <td>Dinner</td>\n",
       "      <td>2</td>\n",
       "    </tr>\n",
       "  </tbody>\n",
       "</table>\n",
       "<p>76 rows × 7 columns</p>\n",
       "</div>"
      ],
      "text/plain": [
       "     total_bill   tip     sex smoker  day    time  size\n",
       "0         16.99  1.01  Female     No  Sun  Dinner     2\n",
       "1         10.34  1.66    Male     No  Sun  Dinner     3\n",
       "2         21.01  3.50    Male     No  Sun  Dinner     3\n",
       "3         23.68  3.31    Male     No  Sun  Dinner     2\n",
       "4         24.59  3.61  Female     No  Sun  Dinner     4\n",
       "..          ...   ...     ...    ...  ...     ...   ...\n",
       "186       20.90  3.50  Female    Yes  Sun  Dinner     3\n",
       "187       30.46  2.00    Male    Yes  Sun  Dinner     5\n",
       "188       18.15  3.50  Female    Yes  Sun  Dinner     3\n",
       "189       23.10  4.00    Male    Yes  Sun  Dinner     3\n",
       "190       15.69  1.50    Male    Yes  Sun  Dinner     2\n",
       "\n",
       "[76 rows x 7 columns]"
      ]
     },
     "execution_count": 73,
     "metadata": {},
     "output_type": "execute_result"
    }
   ],
   "source": [
    "tipsSun = tips[tips['day'] == 'Sun']\n",
    "tipsSun"
   ]
  },
  {
   "cell_type": "code",
   "execution_count": 74,
   "id": "5b37f935",
   "metadata": {},
   "outputs": [
    {
     "data": {
      "text/plain": [
       "21.410000000000004"
      ]
     },
     "execution_count": 74,
     "metadata": {},
     "output_type": "execute_result"
    }
   ],
   "source": [
    "tipsSun[\"total_bill\"].mean()"
   ]
  },
  {
   "cell_type": "code",
   "execution_count": 75,
   "id": "6cdc0fac",
   "metadata": {},
   "outputs": [
    {
     "data": {
      "text/plain": [
       "8.832121828869889"
      ]
     },
     "execution_count": 75,
     "metadata": {},
     "output_type": "execute_result"
    }
   ],
   "source": [
    "tipsSun[\"total_bill\"].std()"
   ]
  },
  {
   "cell_type": "code",
   "execution_count": 76,
   "id": "42558340",
   "metadata": {},
   "outputs": [
    {
     "data": {
      "text/plain": [
       "8.832121828869889"
      ]
     },
     "execution_count": 76,
     "metadata": {},
     "output_type": "execute_result"
    }
   ],
   "source": [
    "sigma=tipsSun[\"total_bill\"].std()\n",
    "sigma"
   ]
  },
  {
   "cell_type": "markdown",
   "id": "e9a67692",
   "metadata": {},
   "source": [
    "5. Calculate standart error of the mean (sem)"
   ]
  },
  {
   "cell_type": "markdown",
   "id": "39da5999",
   "metadata": {},
   "source": [
    "Bulduğum ortalamanın (21.41) bir güven aralığı var. Zaten biz bunu barplotta da gördüm. Güven aralığını 95% olarak inşa ettim.\n",
    "\n",
    "Bu ortalama istatistiğinin bir standart hatası var. O neydi?  \n",
    "Sigma / kök(n) ( σ / √n ) \n"
   ]
  },
  {
   "cell_type": "code",
   "execution_count": 79,
   "id": "ea752583",
   "metadata": {},
   "outputs": [
    {
     "data": {
      "text/plain": [
       "76"
      ]
     },
     "execution_count": 79,
     "metadata": {},
     "output_type": "execute_result"
    }
   ],
   "source": [
    "n=len(tipsSun)\n",
    "n"
   ]
  },
  {
   "cell_type": "code",
   "execution_count": 81,
   "id": "4f3e43e3",
   "metadata": {},
   "outputs": [
    {
     "data": {
      "text/plain": [
       "1.0131138555021968"
      ]
     },
     "execution_count": 81,
     "metadata": {},
     "output_type": "execute_result"
    }
   ],
   "source": [
    "sem= sigma/np.sqrt(n)\n",
    "sem"
   ]
  },
  {
   "cell_type": "markdown",
   "id": "f6b06d78",
   "metadata": {},
   "source": [
    "6. Calculate the margin of error (95%)"
   ]
  },
  {
   "cell_type": "code",
   "execution_count": 84,
   "id": "62ee4fd9",
   "metadata": {},
   "outputs": [
    {
     "data": {
      "text/plain": [
       "1.959963984540054"
      ]
     },
     "execution_count": 84,
     "metadata": {},
     "output_type": "execute_result"
    }
   ],
   "source": [
    "z=stats.norm.ppf(0.975) # z \n",
    "z"
   ]
  },
  {
   "cell_type": "markdown",
   "id": "fe13e646",
   "metadata": {},
   "source": [
    "sem*z-m +sem*z"
   ]
  },
  {
   "cell_type": "code",
   "execution_count": 87,
   "id": "624067f3",
   "metadata": {},
   "outputs": [
    {
     "data": {
      "text/plain": [
       "23.395666669022827"
      ]
     },
     "execution_count": 87,
     "metadata": {},
     "output_type": "execute_result"
    }
   ],
   "source": [
    "upper= tipsSun[\"total_bill\"].mean() + sem*z\n",
    "upper"
   ]
  },
  {
   "cell_type": "code",
   "execution_count": 89,
   "id": "b7ffb7f6",
   "metadata": {},
   "outputs": [
    {
     "data": {
      "text/plain": [
       "19.42433333097718"
      ]
     },
     "execution_count": 89,
     "metadata": {},
     "output_type": "execute_result"
    }
   ],
   "source": [
    "lower=tipsSun[\"total_bill\"].mean() - sem*z\n",
    "lower"
   ]
  },
  {
   "cell_type": "markdown",
   "id": "54dd43f7",
   "metadata": {},
   "source": [
    "scipy.stats kullanarak ortalama etrafında %95 Güven Aralığını hesaplayın¶"
   ]
  },
  {
   "cell_type": "code",
   "execution_count": 90,
   "id": "8ff32239",
   "metadata": {},
   "outputs": [
    {
     "data": {
      "text/plain": [
       "(19.42433333097718, 23.395666669022827)"
      ]
     },
     "execution_count": 90,
     "metadata": {},
     "output_type": "execute_result"
    }
   ],
   "source": [
    "stats.norm.interval(alpha=0.95, loc=tipsSun[\"total_bill\"].mean(), scale=sem)"
   ]
  },
  {
   "cell_type": "code",
   "execution_count": 91,
   "id": "e77398dc",
   "metadata": {},
   "outputs": [
    {
     "data": {
      "text/plain": [
       "(19.951590721360795, 22.868409278639213)"
      ]
     },
     "execution_count": 91,
     "metadata": {},
     "output_type": "execute_result"
    }
   ],
   "source": [
    "stats.norm.interval(alpha=0.85, loc=tipsSun[\"total_bill\"].mean(), scale=sem)"
   ]
  },
  {
   "cell_type": "code",
   "execution_count": null,
   "id": "3e4937ad",
   "metadata": {},
   "outputs": [],
   "source": []
  }
 ],
 "metadata": {
  "kernelspec": {
   "display_name": "Python 3 (ipykernel)",
   "language": "python",
   "name": "python3"
  },
  "language_info": {
   "codemirror_mode": {
    "name": "ipython",
    "version": 3
   },
   "file_extension": ".py",
   "mimetype": "text/x-python",
   "name": "python",
   "nbconvert_exporter": "python",
   "pygments_lexer": "ipython3",
   "version": "3.9.7"
  }
 },
 "nbformat": 4,
 "nbformat_minor": 5
}
