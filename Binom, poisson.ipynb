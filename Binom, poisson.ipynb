{
 "cells": [
  {
   "cell_type": "markdown",
   "id": "070e0150",
   "metadata": {},
   "source": [
    "# Descriptive Distributions\n",
    "## 1.Binom Distribution"
   ]
  },
  {
   "cell_type": "code",
   "execution_count": null,
   "id": "1ff5b8e3",
   "metadata": {},
   "outputs": [],
   "source": [
    "from scipy import stats"
   ]
  },
  {
   "cell_type": "markdown",
   "id": "9ad9215b",
   "metadata": {},
   "source": [
    "Random variates"
   ]
  },
  {
   "cell_type": "code",
   "execution_count": 4,
   "id": "188cc589",
   "metadata": {},
   "outputs": [
    {
     "data": {
      "text/plain": [
       "array([3, 7, 5, 4, 2, 2, 2, 6, 4, 5])"
      ]
     },
     "execution_count": 4,
     "metadata": {},
     "output_type": "execute_result"
    }
   ],
   "source": [
    "stats.binom(n=10, p=0.4).rvs(size=10, random_state=42)"
   ]
  },
  {
   "cell_type": "markdown",
   "id": "8d1a1492",
   "metadata": {},
   "source": [
    "Probability mass function"
   ]
  },
  {
   "cell_type": "code",
   "execution_count": 5,
   "id": "11a09b07",
   "metadata": {},
   "outputs": [
    {
     "data": {
      "text/plain": [
       "0.21499084799999976"
      ]
     },
     "execution_count": 5,
     "metadata": {},
     "output_type": "execute_result"
    }
   ],
   "source": [
    "stats.binom.pmf(n=10, p=0.4, k=3)"
   ]
  },
  {
   "cell_type": "code",
   "execution_count": 6,
   "id": "4c973e10",
   "metadata": {},
   "outputs": [
    {
     "data": {
      "text/plain": [
       "array([0.04031078, 0.12093235, 0.21499085])"
      ]
     },
     "execution_count": 6,
     "metadata": {},
     "output_type": "execute_result"
    }
   ],
   "source": [
    "stats.binom.pmf(n=10, p=0.4, k=[1,2,3])"
   ]
  },
  {
   "cell_type": "markdown",
   "id": "6247178e",
   "metadata": {},
   "source": [
    "Cumulative distribution function"
   ]
  },
  {
   "cell_type": "code",
   "execution_count": 7,
   "id": "29fadcad",
   "metadata": {},
   "outputs": [
    {
     "data": {
      "text/plain": [
       "0.3822806015999999"
      ]
     },
     "execution_count": 7,
     "metadata": {},
     "output_type": "execute_result"
    }
   ],
   "source": [
    "stats.binom.cdf(n=10, p=0.4, k=3)"
   ]
  },
  {
   "cell_type": "markdown",
   "id": "26076ff6",
   "metadata": {},
   "source": [
    "Percent point function (inverse of cdf — percentiles)"
   ]
  },
  {
   "cell_type": "code",
   "execution_count": 8,
   "id": "e976a308",
   "metadata": {},
   "outputs": [
    {
     "data": {
      "text/plain": [
       "3.0"
      ]
     },
     "execution_count": 8,
     "metadata": {},
     "output_type": "execute_result"
    }
   ],
   "source": [
    "stats.binom.ppf(0.3822806015999999, n=10, p=0.4)"
   ]
  },
  {
   "cell_type": "markdown",
   "id": "fbcfdd23",
   "metadata": {},
   "source": [
    "Statistics (mean, variance)"
   ]
  },
  {
   "cell_type": "code",
   "execution_count": 14,
   "id": "37e5b36e",
   "metadata": {},
   "outputs": [
    {
     "data": {
      "text/plain": [
       "(array(4.), array(2.4))"
      ]
     },
     "execution_count": 14,
     "metadata": {},
     "output_type": "execute_result"
    }
   ],
   "source": [
    "stats.binom(n=10, p=0.4).stats(\"mv\")#Mean(‘m’), variance(‘v’), skew(‘s’), and/or kurtosis(‘k’)"
   ]
  },
  {
   "cell_type": "markdown",
   "id": "fe6fcca0",
   "metadata": {},
   "source": [
    "## 2.Poisson Distribution"
   ]
  },
  {
   "cell_type": "code",
   "execution_count": 15,
   "id": "d4cd10bf",
   "metadata": {},
   "outputs": [
    {
     "data": {
      "text/plain": [
       "array([5, 4, 4, 4, 2, 5, 2, 5, 3, 5])"
      ]
     },
     "execution_count": 15,
     "metadata": {},
     "output_type": "execute_result"
    }
   ],
   "source": [
    "stats.poisson(mu=4).rvs(size=10, random_state=42)"
   ]
  },
  {
   "cell_type": "markdown",
   "id": "784fe4f3",
   "metadata": {},
   "source": [
    "Probability mass function"
   ]
  },
  {
   "cell_type": "code",
   "execution_count": 16,
   "id": "dfcc10a7",
   "metadata": {},
   "outputs": [
    {
     "data": {
      "text/plain": [
       "0.19536681481316454"
      ]
     },
     "execution_count": 16,
     "metadata": {},
     "output_type": "execute_result"
    }
   ],
   "source": [
    "stats.poisson.pmf(mu=4, k=3)"
   ]
  },
  {
   "cell_type": "code",
   "execution_count": 17,
   "id": "af71b60d",
   "metadata": {},
   "outputs": [
    {
     "data": {
      "text/plain": [
       "array([0.07326256, 0.14652511, 0.19536681])"
      ]
     },
     "execution_count": 17,
     "metadata": {},
     "output_type": "execute_result"
    }
   ],
   "source": [
    "stats.poisson.pmf(mu=4, k=[1,2,3])"
   ]
  },
  {
   "cell_type": "markdown",
   "id": "71144ab9",
   "metadata": {},
   "source": [
    "Cumulative distribution function"
   ]
  },
  {
   "cell_type": "code",
   "execution_count": 18,
   "id": "738ca2b8",
   "metadata": {},
   "outputs": [
    {
     "data": {
      "text/plain": [
       "0.43347012036670896"
      ]
     },
     "execution_count": 18,
     "metadata": {},
     "output_type": "execute_result"
    }
   ],
   "source": [
    "stats.poisson.cdf(mu=4, k=3)"
   ]
  },
  {
   "cell_type": "code",
   "execution_count": 19,
   "id": "97ae4e25",
   "metadata": {},
   "outputs": [
    {
     "data": {
      "text/plain": [
       "0.43347012036670884"
      ]
     },
     "execution_count": 19,
     "metadata": {},
     "output_type": "execute_result"
    }
   ],
   "source": [
    "stats.poisson.pmf(mu=4, k=1)+stats.poisson.pmf(mu=4, k=2)+stats.poisson.pmf(mu=4, k=3)+stats.poisson.pmf(mu=4, k=0)"
   ]
  },
  {
   "cell_type": "markdown",
   "id": "95fb1004",
   "metadata": {},
   "source": [
    "Percent point function (inverse of cdf — percentiles)"
   ]
  },
  {
   "cell_type": "code",
   "execution_count": 23,
   "id": "62d2df08",
   "metadata": {},
   "outputs": [
    {
     "data": {
      "text/plain": [
       "3.0"
      ]
     },
     "execution_count": 23,
     "metadata": {},
     "output_type": "execute_result"
    }
   ],
   "source": [
    "stats.poisson.ppf(0.43347012036670884, mu=4)"
   ]
  },
  {
   "cell_type": "markdown",
   "id": "6d07ab3d",
   "metadata": {},
   "source": [
    "Statistics (mean, variance, skewness, kurtosis)"
   ]
  },
  {
   "cell_type": "code",
   "execution_count": 24,
   "id": "3a85d83c",
   "metadata": {},
   "outputs": [
    {
     "data": {
      "text/plain": [
       "(array(4.), array(4.), array(0.5), array(0.25))"
      ]
     },
     "execution_count": 24,
     "metadata": {},
     "output_type": "execute_result"
    }
   ],
   "source": [
    "stats.poisson(mu=4).stats(\"mvsk\")#Mean(‘m’), variance(‘v’), skew(‘s’), and/or kurtosis(‘k’)"
   ]
  },
  {
   "cell_type": "markdown",
   "id": "a6bf9f29",
   "metadata": {},
   "source": [
    "# Continuous Probability Distributions\n",
    "## 1.Normal Distribution"
   ]
  },
  {
   "cell_type": "code",
   "execution_count": 25,
   "id": "d7f6d923",
   "metadata": {},
   "outputs": [
    {
     "data": {
      "text/plain": [
       "array([ 0.49671415, -0.1382643 ,  0.64768854,  1.52302986, -0.23415337,\n",
       "       -0.23413696,  1.57921282,  0.76743473, -0.46947439,  0.54256004])"
      ]
     },
     "execution_count": 25,
     "metadata": {},
     "output_type": "execute_result"
    }
   ],
   "source": [
    "stats.norm.rvs(size=10, random_state=42)"
   ]
  },
  {
   "cell_type": "code",
   "execution_count": 26,
   "id": "d2cf21af",
   "metadata": {},
   "outputs": [
    {
     "data": {
      "text/plain": [
       "array([54.96714153, 48.61735699, 56.47688538, 65.23029856, 47.65846625,\n",
       "       47.65863043, 65.79212816, 57.67434729, 45.30525614, 55.42560044])"
      ]
     },
     "execution_count": 26,
     "metadata": {},
     "output_type": "execute_result"
    }
   ],
   "source": [
    "stats.norm(loc=50, scale=10).rvs(size=10, random_state=42)"
   ]
  },
  {
   "cell_type": "code",
   "execution_count": 29,
   "id": "888bb575",
   "metadata": {},
   "outputs": [
    {
     "data": {
      "text/plain": [
       "0.024197072451914336"
      ]
     },
     "execution_count": 29,
     "metadata": {},
     "output_type": "execute_result"
    }
   ],
   "source": [
    "stats.norm.pdf(loc=50, scale=10, x=40)"
   ]
  },
  {
   "cell_type": "code",
   "execution_count": 30,
   "id": "86e5eb9e",
   "metadata": {},
   "outputs": [
    {
     "data": {
      "text/plain": [
       "array([0.02419707, 0.03989423, 0.02419707])"
      ]
     },
     "execution_count": 30,
     "metadata": {},
     "output_type": "execute_result"
    }
   ],
   "source": [
    "stats.norm.pdf(loc=50, scale=10, x=[40,50,60])"
   ]
  },
  {
   "cell_type": "markdown",
   "id": "f9bae5a9",
   "metadata": {},
   "source": [
    "Cumulative distribution function"
   ]
  },
  {
   "cell_type": "code",
   "execution_count": 31,
   "id": "432b7d70",
   "metadata": {},
   "outputs": [
    {
     "data": {
      "text/plain": [
       "0.15865525393145707"
      ]
     },
     "execution_count": 31,
     "metadata": {},
     "output_type": "execute_result"
    }
   ],
   "source": [
    "stats.norm.cdf(loc=50, scale=10, x=40)"
   ]
  },
  {
   "cell_type": "markdown",
   "id": "807e736c",
   "metadata": {},
   "source": [
    "Percent point function (inverse of cdf — percentiles)"
   ]
  },
  {
   "cell_type": "code",
   "execution_count": 32,
   "id": "f23a9d2b",
   "metadata": {},
   "outputs": [
    {
     "data": {
      "text/plain": [
       "62.815515655446006"
      ]
     },
     "execution_count": 32,
     "metadata": {},
     "output_type": "execute_result"
    }
   ],
   "source": [
    "stats.norm.ppf(loc=50, scale=10, q=0.9)"
   ]
  },
  {
   "cell_type": "markdown",
   "id": "4a4cef64",
   "metadata": {},
   "source": [
    "Statistics (mean, variance, skewness, kurtosis)"
   ]
  },
  {
   "cell_type": "code",
   "execution_count": 39,
   "id": "52fbbdc3",
   "metadata": {},
   "outputs": [
    {
     "data": {
      "text/plain": [
       "array([47.31225736, 52.84502181, 34.82900482, 44.75498448, 57.76193425,\n",
       "       45.04794726, 31.69483655, 42.67900473, 58.20981861, 44.29621273])"
      ]
     },
     "execution_count": 39,
     "metadata": {},
     "output_type": "execute_result"
    }
   ],
   "source": [
    "stats.norm(loc=50, scale=10).rvs(size=10)"
   ]
  },
  {
   "cell_type": "code",
   "execution_count": 42,
   "id": "caf3da2c",
   "metadata": {},
   "outputs": [
    {
     "data": {
      "text/plain": [
       "array(50.)"
      ]
     },
     "execution_count": 42,
     "metadata": {},
     "output_type": "execute_result"
    }
   ],
   "source": [
    "stats.norm(loc=50, scale=10).stats(\"m\") #'mvsk', #Mean(‘m’), variance(‘v’), skew(‘s’), and/or kurtosis(‘k’)"
   ]
  },
  {
   "cell_type": "code",
   "execution_count": 51,
   "id": "b96e4321",
   "metadata": {},
   "outputs": [
    {
     "ename": "NameError",
     "evalue": "name 'norm' is not defined",
     "output_type": "error",
     "traceback": [
      "\u001b[1;31m---------------------------------------------------------------------------\u001b[0m",
      "\u001b[1;31mNameError\u001b[0m                                 Traceback (most recent call last)",
      "\u001b[1;32m~\\AppData\\Local\\Temp/ipykernel_13060/2654879103.py\u001b[0m in \u001b[0;36m<module>\u001b[1;34m\u001b[0m\n\u001b[1;32m----> 1\u001b[1;33m \u001b[0mp\u001b[0m \u001b[1;33m=\u001b[0m \u001b[0mnorm\u001b[0m\u001b[1;33m.\u001b[0m\u001b[0mcdf\u001b[0m\u001b[1;33m(\u001b[0m\u001b[0mx\u001b[0m\u001b[1;33m=\u001b[0m\u001b[1;36m23\u001b[0m\u001b[1;33m,\u001b[0m\u001b[0mloc\u001b[0m\u001b[1;33m=\u001b[0m\u001b[1;36m20\u001b[0m\u001b[1;33m,\u001b[0m\u001b[0mscale\u001b[0m\u001b[1;33m=\u001b[0m\u001b[1;36m2\u001b[0m\u001b[1;33m)\u001b[0m\u001b[1;33m\u001b[0m\u001b[1;33m\u001b[0m\u001b[0m\n\u001b[0m\u001b[0;32m      2\u001b[0m \u001b[0mz_score\u001b[0m \u001b[1;33m=\u001b[0m \u001b[0mnorm\u001b[0m\u001b[1;33m.\u001b[0m\u001b[0mppf\u001b[0m\u001b[1;33m(\u001b[0m\u001b[0mp\u001b[0m\u001b[1;33m)\u001b[0m\u001b[1;33m\u001b[0m\u001b[1;33m\u001b[0m\u001b[0m\n",
      "\u001b[1;31mNameError\u001b[0m: name 'norm' is not defined"
     ]
    }
   ],
   "source": [
    "p = norm.cdf(x=23,loc=20,scale=2)\n",
    "z_score = norm.ppf(p)"
   ]
  },
  {
   "cell_type": "code",
   "execution_count": null,
   "id": "7cacdfa6",
   "metadata": {},
   "outputs": [],
   "source": []
  },
  {
   "cell_type": "code",
   "execution_count": null,
   "id": "24f026d0",
   "metadata": {},
   "outputs": [],
   "source": []
  }
 ],
 "metadata": {
  "kernelspec": {
   "display_name": "Python 3 (ipykernel)",
   "language": "python",
   "name": "python3"
  },
  "language_info": {
   "codemirror_mode": {
    "name": "ipython",
    "version": 3
   },
   "file_extension": ".py",
   "mimetype": "text/x-python",
   "name": "python",
   "nbconvert_exporter": "python",
   "pygments_lexer": "ipython3",
   "version": "3.9.7"
  }
 },
 "nbformat": 4,
 "nbformat_minor": 5
}
