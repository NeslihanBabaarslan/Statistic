{
  "nbformat": 4,
  "nbformat_minor": 0,
  "metadata": {
    "colab": {
      "name": "statistic mean, mode, median, var, std,q1,q2, q3,ıql",
      "provenance": [],
      "collapsed_sections": [],
      "authorship_tag": "ABX9TyPD/kQrZy9EMuSh6K7lDTQ/",
      "include_colab_link": true
    },
    "kernelspec": {
      "name": "python3",
      "display_name": "Python 3"
    },
    "language_info": {
      "name": "python"
    }
  },
  "cells": [
    {
      "cell_type": "markdown",
      "metadata": {
        "id": "view-in-github",
        "colab_type": "text"
      },
      "source": [
        "<a href=\"https://colab.research.google.com/github/Nil1205/statistic/blob/main/statistic_mean%2C_mode%2C_median%2C_var%2C_std%2Cq1%2Cq2%2C_q3%2C%C4%B1ql.ipynb\" target=\"_parent\"><img src=\"https://colab.research.google.com/assets/colab-badge.svg\" alt=\"Open In Colab\"/></a>"
      ]
    },
    {
      "cell_type": "code",
      "source": [
        "#1- MEAN, MEDİAN, MODE CALC. WİTH PYTHON"
      ],
      "metadata": {
        "id": "0XvaeR6I-56y"
      },
      "execution_count": null,
      "outputs": []
    },
    {
      "cell_type": "markdown",
      "source": [
        ""
      ],
      "metadata": {
        "id": "N7u64yD4-4ki"
      }
    },
    {
      "cell_type": "code",
      "execution_count": null,
      "metadata": {
        "colab": {
          "base_uri": "https://localhost:8080/"
        },
        "id": "39sL3118FQBr",
        "outputId": "6ac256ee-2735-444c-a0c5-e85511079266"
      },
      "outputs": [
        {
          "output_type": "stream",
          "name": "stdout",
          "text": [
            "mean:  37.875\n",
            "median:  30.0\n",
            "mode:  ModeResult(mode=array([33]), count=array([3]))\n"
          ]
        }
      ],
      "source": [
        "import numpy as np\n",
        "from scipy import stats\n",
        "salary=[102,33,26,27,25,33,33,24]\n",
        "\n",
        "mean_salary= np.mean(salary)\n",
        "print(\"mean: \",mean_salary)\n",
        "median_salary=np.median(salary)\n",
        "print(\"median: \", median_salary)\n",
        "mode_salary=stats.mode(salary)\n",
        "print(\"mode: \", mode_salary)"
      ]
    },
    {
      "cell_type": "code",
      "source": [
        "\n",
        "score=[78,56,34,90,23,45,34,34,56]\n",
        "import numpy as np\n",
        "from scipy import stats\n",
        "mean_score= np.mean(score)\n",
        "median_score=np.median(score)\n",
        "mode_score=stats.mode(salary)\n",
        "print(\"mean:\", mean_score,\"\\n\" \"median: \", median_score, \"\\n\", \"mode\", mode_score)\n",
        "print(\"mean:\", mean_score, \"median: \", median_score, \"mode\", mode_score, sep=\"\\n\")"
      ],
      "metadata": {
        "colab": {
          "base_uri": "https://localhost:8080/"
        },
        "id": "7u8mK-xCGmML",
        "outputId": "216f8e47-05d1-4c38-d4d9-77aea6ea61dc"
      },
      "execution_count": null,
      "outputs": [
        {
          "output_type": "stream",
          "name": "stdout",
          "text": [
            "mean: 50.0 \n",
            "median:  45.0 \n",
            " mode ModeResult(mode=array([33]), count=array([3]))\n",
            "mean:\n",
            "50.0\n",
            "median: \n",
            "45.0\n",
            "mode\n",
            "ModeResult(mode=array([33]), count=array([3]))\n"
          ]
        }
      ]
    },
    {
      "cell_type": "code",
      "source": [
        "lead=[67,45,45,67,67,78,98,100]\n",
        "import numpy as np\n",
        "from scipy import stats\n",
        "mean_score= np.mean(lead)\n",
        "median_score=np.median(lead)\n",
        "mode_score=stats.mode(lead)\n",
        "print(\"mean is {}, median is  {}, mode is {}.\".format(mean_score, median_score, mode_score))"
      ],
      "metadata": {
        "colab": {
          "base_uri": "https://localhost:8080/"
        },
        "id": "1ieoHgo2YrFJ",
        "outputId": "7b4540a2-ec17-4ea9-98c8-62daf20e555e"
      },
      "execution_count": null,
      "outputs": [
        {
          "output_type": "stream",
          "name": "stdout",
          "text": [
            "mean is 70.875, median is  67.0, mode is ModeResult(mode=array([67]), count=array([3])).\n"
          ]
        }
      ]
    },
    {
      "cell_type": "code",
      "source": [
        "lesson_score =[55,67,45,90,45,34,78,98]\n",
        "import numpy as np\n",
        "from scipy import stats\n",
        "mean_les_scor= np.mean(lesson_score)\n",
        "median_les_scor=np.median(lesson_score)\n",
        "mode_les_scor=stats.mode(lesson_score)\n",
        "print(\"mean: {}, median: {}, mode: {}\".format(mean_les_scor,median_les_scor,mode_les_scor))"
      ],
      "metadata": {
        "id": "cLMqLMMkazJL",
        "colab": {
          "base_uri": "https://localhost:8080/"
        },
        "outputId": "920e3fb1-2417-468d-eccd-ef0ec6c5ac48"
      },
      "execution_count": null,
      "outputs": [
        {
          "output_type": "stream",
          "name": "stdout",
          "text": [
            "mean: 64.0, median: 61.0, mode: ModeResult(mode=array([45]), count=array([2]))\n"
          ]
        }
      ]
    },
    {
      "cell_type": "code",
      "source": [
        "#2- RANGE, VARIANCE, STD CALC. WİTH PYTHON"
      ],
      "metadata": {
        "id": "SP2EBzbM-ySm"
      },
      "execution_count": null,
      "outputs": []
    },
    {
      "cell_type": "code",
      "source": [
        "salary=[102,33,26,30,25,33,33,24]\n",
        "import numpy as np\n",
        "range= np.max(salary)-np.min(salary)\n",
        "print(\"range: {}, variance: {}, Std.: {}.\".format(range, np.var(salary), round(np.std(salary),2)))"
      ],
      "metadata": {
        "colab": {
          "base_uri": "https://localhost:8080/"
        },
        "id": "k4g7P1B2_JgC",
        "outputId": "57b6287f-6c9b-4d0e-9b49-76a6006cf580"
      },
      "execution_count": null,
      "outputs": [
        {
          "output_type": "stream",
          "name": "stdout",
          "text": [
            "range: 78, variance: 592.9375, Std.: 24.35.\n"
          ]
        }
      ]
    },
    {
      "cell_type": "code",
      "source": [
        "numbers=[ 2,3,5,7,8,11,12,14,14,15,17,22,28]\n",
        "\n",
        "mean, median, std, mode, range, Q1,Q3, IQR and outliers "
      ],
      "metadata": {
        "id": "1Mco5POhAuyS"
      },
      "execution_count": null,
      "outputs": []
    },
    {
      "cell_type": "code",
      "source": [
        "listn=[1, 10, 7, 12, 0, 30, 15, 22, 8, 2]\n",
        "import numpy as np\n",
        "print(np.std(listn))"
      ],
      "metadata": {
        "colab": {
          "base_uri": "https://localhost:8080/"
        },
        "id": "JnU_uE7AHOYq",
        "outputId": "33bebcd4-02f7-4000-907b-3ebf8d77f84d"
      },
      "execution_count": null,
      "outputs": [
        {
          "output_type": "stream",
          "name": "stdout",
          "text": [
            "9.089004345911603\n"
          ]
        }
      ]
    },
    {
      "cell_type": "code",
      "source": [
        "listn=[8, 10, 4, 24, 8, 3, 10, 3, 40, 7, 6, 12, 4]\n",
        "print(sorted(listn))"
      ],
      "metadata": {
        "colab": {
          "base_uri": "https://localhost:8080/"
        },
        "id": "8CKZzBeVJIn-",
        "outputId": "69d8f149-87fc-4a00-c8bf-13476559982c"
      },
      "execution_count": null,
      "outputs": [
        {
          "output_type": "stream",
          "name": "stdout",
          "text": [
            "[3, 3, 4, 4, 6, 7, 8, 8, 10, 10, 12, 24, 40]\n"
          ]
        }
      ]
    },
    {
      "cell_type": "code",
      "source": [
        "# 3-Günün sorusu: numbers=[ 2,3,5,7,8,11,12,14,14,15,17,22,28]\n",
        "# Write a python function that finds the mean, median, std, mode, range, Q1,Q3, IQR and outliers (if any) of a given data and use this function on the numbers list."
      ],
      "metadata": {
        "id": "3XExYdkdbNb7"
      },
      "execution_count": null,
      "outputs": []
    },
    {
      "cell_type": "code",
      "source": [
        "listn=[ 2,3,5,7,8,11,12,14,14,15,17,22,28]\n",
        "outliers_num=[]\n",
        "quar_list=np.percentile(listn, [25, 50, 75])\n",
        "import numpy as np\n",
        "from scipy import stats\n",
        "range= np.max(listn)-np.min(listn)\n",
        "q1, q2, q3=quar_list[0], quar_list[1], quar_list[2]\n",
        "ıqr=quar_list[2]-quar_list[0]\n",
        "outliers_start=q1-1.5*ıqr\n",
        "outliers_end=q3+1.5*ıqr\n",
        "for i in listn:\n",
        "  if i >outliers_end or i< outliers_start:\n",
        "    outliers_num += [i]\n",
        "\n",
        "print(\"mean: {}, median: {}, mode: {}, range: {}, .\".format(round(np.mean(listn),3), np.median(listn), stats.mode(listn), range ))\n",
        "print(\"q1: {}, q2: {}, q3: {}, IQR: {}.\".format(q1, q2, q3, ıqr, ))\n",
        "print(\"outliers: {},var: {}, std: {}.\".format(outliers_num, round(np.var(listn),3),round(np.std(listn),3)))"
      ],
      "metadata": {
        "colab": {
          "base_uri": "https://localhost:8080/"
        },
        "id": "ATaU0ZQ9KEzT",
        "outputId": "43c38d52-4e02-4487-8a2c-e2998fe07da1"
      },
      "execution_count": null,
      "outputs": [
        {
          "output_type": "stream",
          "name": "stdout",
          "text": [
            "mean: 12.154, median: 12.0, mode: ModeResult(mode=array([14]), count=array([2])), range: 26, .\n",
            "q1: 7.0, q2: 12.0, q3: 15.0, IQR: 8.0.\n",
            "outliers: [28],var: 51.515, std: 7.177.\n"
          ]
        }
      ]
    },
    {
      "cell_type": "code",
      "source": [
        "listn=[45,67,43,54,56,45,56,45,100,21,34,12,5]\n",
        "out_num=[]\n",
        "import numpy as np\n",
        "from scipy import stats\n",
        "quar_list=np.percentile(listn, [25,50,75])\n",
        "mean_listn= np.mean(listn)\n",
        "median_listn=np.median(listn)\n",
        "mode_listn=stats.mode(listn)\n",
        "q1=quar_list[0]\n",
        "q2=quar_list[1]\n",
        "q3=quar_list[2]\n",
        "ıqr=q3-q1\n",
        "range=np.max(listn)-np.min(listn)\n",
        "varyans=np.var(listn)\n",
        "std_dev=np.std(listn)\n",
        "out_start=q1-ıqr*1.5\n",
        "out_end=q3+ıqr*1.5\n",
        "for i in listn:\n",
        "  if i<out_start or i>out_end:\n",
        "    out_num += [i]\n",
        "print(out_start, out_end)\n",
        "print(round(mean_listn,2), median_listn,mode_listn,q1,q2,q3,ıqr,range,round(varyans,2), round(std_dev,2),out_num)\n"
      ],
      "metadata": {
        "colab": {
          "base_uri": "https://localhost:8080/"
        },
        "id": "JE6byn7FeiX4",
        "outputId": "0e5bec5f-a3f3-4c16-d1f1-b2fe621681de"
      },
      "execution_count": null,
      "outputs": [
        {
          "output_type": "stream",
          "name": "stdout",
          "text": [
            "7.375 84.375\n",
            "44.71 45.0 ModeResult(mode=array([45]), count=array([3])) 36.25 45.0 55.5 19.25 95 516.06 22.72 [100, 5]\n"
          ]
        }
      ]
    },
    {
      "cell_type": "code",
      "source": [
        "#covaryans, correlation"
      ],
      "metadata": {
        "id": "xBI0xWn-f-DM"
      },
      "execution_count": null,
      "outputs": []
    },
    {
      "cell_type": "code",
      "source": [
        "temp=[93,84,82,78,98,70]\n",
        "\n",
        "number_of_people=[13,10, 11, 8, 15, 9]\n",
        "\n",
        "import numpy as np\n",
        "print(\"covariance: \", np.cov(temp, number_of_people), \"\\n\")\n",
        "print(\"correlation: \", np.corrcoef(temp, number_of_people))"
      ],
      "metadata": {
        "colab": {
          "base_uri": "https://localhost:8080/"
        },
        "id": "2o6M_DmpgKOB",
        "outputId": "e4d86adb-fffc-4e0d-aded-57cf0904374d"
      },
      "execution_count": null,
      "outputs": [
        {
          "output_type": "stream",
          "name": "stdout",
          "text": [
            "covariance:  [[102.56666667  24.        ]\n",
            " [ 24.           6.8       ]] \n",
            "\n",
            "correlation:  [[1.         0.90876934]\n",
            " [0.90876934 1.        ]]\n"
          ]
        }
      ]
    }
  ]
}