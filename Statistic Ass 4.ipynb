{
 "cells": [
  {
   "cell_type": "code",
   "execution_count": 1,
   "id": "52078b5e",
   "metadata": {},
   "outputs": [],
   "source": [
    "import numpy as np\n",
    "import pandas as pd\n",
    "from scipy import stats\n",
    "import seaborn as sns\n",
    "import matplotlib.pyplot as plt"
   ]
  },
  {
   "cell_type": "markdown",
   "id": "cac1521f",
   "metadata": {},
   "source": [
    "EXERCISE 1.\n",
    "1)"
   ]
  },
  {
   "cell_type": "code",
   "execution_count": 5,
   "id": "9afbb777",
   "metadata": {},
   "outputs": [
    {
     "data": {
      "text/plain": [
       "0.9717524751"
      ]
     },
     "execution_count": 5,
     "metadata": {},
     "output_type": "execute_result"
    }
   ],
   "source": [
    "1-stats.binom.cdf(0, 10, 0.3)"
   ]
  },
  {
   "cell_type": "markdown",
   "id": "9fce2d43",
   "metadata": {},
   "source": [
    "2.(i)"
   ]
  },
  {
   "cell_type": "code",
   "execution_count": 8,
   "id": "016bd820",
   "metadata": {},
   "outputs": [
    {
     "data": {
      "text/plain": [
       "0.171875"
      ]
     },
     "execution_count": 8,
     "metadata": {},
     "output_type": "execute_result"
    }
   ],
   "source": [
    "1-stats.binom.cdf(6, 10, 0.5)"
   ]
  },
  {
   "cell_type": "markdown",
   "id": "5c947bbf",
   "metadata": {},
   "source": [
    "2.(ii)"
   ]
  },
  {
   "cell_type": "code",
   "execution_count": 9,
   "id": "095cd688",
   "metadata": {},
   "outputs": [
    {
     "data": {
      "text/plain": [
       "0.11718749999999999"
      ]
     },
     "execution_count": 9,
     "metadata": {},
     "output_type": "execute_result"
    }
   ],
   "source": [
    "stats.binom.pmf(7,10,0.5)"
   ]
  },
  {
   "cell_type": "markdown",
   "id": "6a2f8c07",
   "metadata": {},
   "source": [
    "2.(iii)"
   ]
  },
  {
   "cell_type": "code",
   "execution_count": 11,
   "id": "31a98504",
   "metadata": {},
   "outputs": [
    {
     "data": {
      "text/plain": [
       "0.9453125"
      ]
     },
     "execution_count": 11,
     "metadata": {},
     "output_type": "execute_result"
    }
   ],
   "source": [
    "stats.binom.cdf(7,10,0.5)"
   ]
  },
  {
   "cell_type": "markdown",
   "id": "adb27543",
   "metadata": {},
   "source": [
    "EXERCISE 2."
   ]
  },
  {
   "cell_type": "code",
   "execution_count": 39,
   "id": "8d2366f7",
   "metadata": {},
   "outputs": [
    {
     "data": {
      "text/plain": [
       "0.3333333333333333"
      ]
     },
     "execution_count": 39,
     "metadata": {},
     "output_type": "execute_result"
    }
   ],
   "source": [
    "d=stats.uniform(50,20)\n",
    "x1=1-d.cdf(65)\n",
    "x2=1-d.cdf(55)\n",
    "result=x1/x2\n",
    "result"
   ]
  },
  {
   "cell_type": "markdown",
   "id": "7106bfcc",
   "metadata": {},
   "source": [
    "EXERCISE 3. \n",
    "1."
   ]
  },
  {
   "cell_type": "code",
   "execution_count": 40,
   "id": "234d5b43",
   "metadata": {},
   "outputs": [
    {
     "data": {
      "text/plain": [
       "0.3820885778110474"
      ]
     },
     "execution_count": 40,
     "metadata": {},
     "output_type": "execute_result"
    }
   ],
   "source": [
    "x1=stats.norm.cdf(947, 950, 10)\n",
    "x1"
   ]
  },
  {
   "cell_type": "code",
   "execution_count": 41,
   "id": "b3b4b1a2",
   "metadata": {},
   "outputs": [
    {
     "data": {
      "text/plain": [
       "0.7881446014166034"
      ]
     },
     "execution_count": 41,
     "metadata": {},
     "output_type": "execute_result"
    }
   ],
   "source": [
    "x2=stats.norm.cdf(958, 950,10)\n",
    "x2"
   ]
  },
  {
   "cell_type": "code",
   "execution_count": 42,
   "id": "ee4289de",
   "metadata": {},
   "outputs": [
    {
     "data": {
      "text/plain": [
       "0.406056023605556"
      ]
     },
     "execution_count": 42,
     "metadata": {},
     "output_type": "execute_result"
    }
   ],
   "source": [
    "x2-x1"
   ]
  },
  {
   "cell_type": "markdown",
   "id": "9bd512ca",
   "metadata": {},
   "source": [
    "EXERCISE 3. \n",
    "2."
   ]
  },
  {
   "cell_type": "code",
   "execution_count": 43,
   "id": "bc392d59",
   "metadata": {},
   "outputs": [
    {
     "data": {
      "text/plain": [
       "960.4982190962642"
      ]
     },
     "execution_count": 43,
     "metadata": {},
     "output_type": "execute_result"
    }
   ],
   "source": [
    "stats.norm.ppf(0.8531, 950, 10)"
   ]
  },
  {
   "cell_type": "markdown",
   "id": "dce7f2ef",
   "metadata": {},
   "source": [
    "EXERCISE 4"
   ]
  },
  {
   "cell_type": "code",
   "execution_count": 44,
   "id": "4148ac42",
   "metadata": {},
   "outputs": [],
   "source": [
    "scale=3/36**0.5"
   ]
  },
  {
   "cell_type": "code",
   "execution_count": 48,
   "id": "a8d5f536",
   "metadata": {},
   "outputs": [
    {
     "data": {
      "text/plain": [
       "(67.17757318652427, 68.82242681347573)"
      ]
     },
     "execution_count": 48,
     "metadata": {},
     "output_type": "execute_result"
    }
   ],
   "source": [
    "stats.norm.interval(alpha=0.90,              #confidence level\n",
    "                 loc=68,     #sample mean\n",
    "                 scale=scale  #standard error of the mean\n",
    ")"
   ]
  },
  {
   "cell_type": "markdown",
   "id": "9dfe0b75",
   "metadata": {},
   "source": [
    "EXERCISE 5."
   ]
  },
  {
   "cell_type": "code",
   "execution_count": 31,
   "id": "f544dcec",
   "metadata": {},
   "outputs": [
    {
     "data": {
      "text/plain": [
       "(98.08508192246582, 98.41491807753418)"
      ]
     },
     "execution_count": 31,
     "metadata": {},
     "output_type": "execute_result"
    }
   ],
   "source": [
    "stats.norm.interval(alpha=0.99, loc=98.25, scale=0.73/np.sqrt(130))"
   ]
  },
  {
   "cell_type": "code",
   "execution_count": null,
   "id": "547d94b0",
   "metadata": {},
   "outputs": [],
   "source": []
  }
 ],
 "metadata": {
  "kernelspec": {
   "display_name": "Python 3 (ipykernel)",
   "language": "python",
   "name": "python3"
  },
  "language_info": {
   "codemirror_mode": {
    "name": "ipython",
    "version": 3
   },
   "file_extension": ".py",
   "mimetype": "text/x-python",
   "name": "python",
   "nbconvert_exporter": "python",
   "pygments_lexer": "ipython3",
   "version": "3.9.7"
  }
 },
 "nbformat": 4,
 "nbformat_minor": 5
}
